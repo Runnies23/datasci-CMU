{
  "nbformat": 4,
  "nbformat_minor": 0,
  "metadata": {
    "colab": {
      "provenance": [],
      "gpuType": "T4",
      "toc_visible": true
    },
    "kernelspec": {
      "name": "python3",
      "display_name": "Python 3"
    },
    "language_info": {
      "name": "python"
    },
    "accelerator": "GPU"
  },
  "cells": [
    {
      "cell_type": "code",
      "source": [
        "#weather\n",
        "!gdown 1jRsuCV9oa6I2jQTWMKRYahXBttkuxqDr"
      ],
      "metadata": {
        "colab": {
          "base_uri": "https://localhost:8080/"
        },
        "id": "j0UJ9jNBOoXr",
        "outputId": "24210aba-3cd9-4fd5-bf8e-a35cee56b5a8"
      },
      "execution_count": null,
      "outputs": [
        {
          "output_type": "stream",
          "name": "stdout",
          "text": [
            "Downloading...\n",
            "From (original): https://drive.google.com/uc?id=1jRsuCV9oa6I2jQTWMKRYahXBttkuxqDr\n",
            "From (redirected): https://drive.google.com/uc?id=1jRsuCV9oa6I2jQTWMKRYahXBttkuxqDr&confirm=t&uuid=82c9b914-580b-4bb4-948e-a9c40b1c7cae\n",
            "To: /content/processing_date_12_9_2567_CMU.csv\n",
            "100% 166M/166M [00:02<00:00, 58.8MB/s]\n"
          ]
        }
      ]
    },
    {
      "cell_type": "code",
      "source": [
        "import pandas as pd\n",
        "Datawithoutbill_df = pd.read_csv('/content/processing_date_12_9_2567_CMU.csv')\n",
        "Datawithoutbill_df"
      ],
      "metadata": {
        "colab": {
          "base_uri": "https://localhost:8080/",
          "height": 443
        },
        "id": "ASUnkl18SPZD",
        "outputId": "1f66ec0e-d718-4ac6-934b-99043c46b39e"
      },
      "execution_count": null,
      "outputs": [
        {
          "output_type": "execute_result",
          "data": {
            "text/plain": [
              "        CONSIGNEE_PROVINCE  Temperature   Humidity  Wind_Speed  Condition  \\\n",
              "0                       71    78.437500  57.541667    3.416667          0   \n",
              "1                       71    78.437500  57.541667    3.416667          0   \n",
              "2                       71    78.437500  57.541667    3.416667          0   \n",
              "3                       71    78.437500  57.541667    3.416667          0   \n",
              "4                       71    78.437500  57.541667    3.416667          0   \n",
              "...                    ...          ...        ...         ...        ...   \n",
              "856493                  65    82.500000  72.812500    5.875000          5   \n",
              "856494                  50    82.500000  72.812500    5.875000          5   \n",
              "856495                  25    70.583333  59.625000    2.625000          0   \n",
              "856496                  55    75.979167  58.145833    2.270833          0   \n",
              "856497                   6    85.229167  43.833333    3.062500          0   \n",
              "\n",
              "        Dew_Point  Wind  Wind_Gust   Pressure  Precip  ...  is_halloween  \\\n",
              "0       60.395833     8        0.0  28.922500     0.0  ...         False   \n",
              "1       60.395833     8        0.0  28.922500     0.0  ...         False   \n",
              "2       60.395833     8        0.0  28.922500     0.0  ...         False   \n",
              "3       60.395833     8        0.0  28.922500     0.0  ...         False   \n",
              "4       60.395833     8        0.0  28.922500     0.0  ...         False   \n",
              "...           ...   ...        ...        ...     ...  ...           ...   \n",
              "856493  72.395833     3        0.0  28.796042     0.0  ...         False   \n",
              "856494  72.395833     3        0.0  28.796042     0.0  ...         False   \n",
              "856495  54.041667     8        0.0  28.874167     0.0  ...         False   \n",
              "856496  58.416667     8        0.0  28.789375     0.0  ...         False   \n",
              "856497  58.375000     8        0.0  28.760625     0.0  ...         False   \n",
              "\n",
              "        is_christmas  is_new_year  month  day  day_of_week  day_of_year  \\\n",
              "0              False        False      2   13            1           44   \n",
              "1              False        False      2   13            1           44   \n",
              "2              False        False      2   13            1           44   \n",
              "3              False        False      2   13            1           44   \n",
              "4              False        False      2   13            1           44   \n",
              "...              ...          ...    ...  ...          ...          ...   \n",
              "856493         False        False      5   11            5          132   \n",
              "856494         False        False      5   11            5          132   \n",
              "856495         False        False      1   22            0           22   \n",
              "856496         False        False      2    8            3           39   \n",
              "856497         False        False      3   28            3           88   \n",
              "\n",
              "        quarter  is_weekend  ITEM_DESC_CLEAN_labelencoding  \n",
              "0             1       False                          11799  \n",
              "1             1       False                          75875  \n",
              "2             1       False                          11799  \n",
              "3             1       False                          68124  \n",
              "4             1       False                          68124  \n",
              "...         ...         ...                            ...  \n",
              "856493        2        True                          50258  \n",
              "856494        2        True                          48176  \n",
              "856495        1       False                          49592  \n",
              "856496        1       False                          49147  \n",
              "856497        1       False                          49451  \n",
              "\n",
              "[856498 rows x 34 columns]"
            ],
            "text/html": [
              "\n",
              "  <div id=\"df-946d7f94-cc54-4b0f-a929-3c22cc92d610\" class=\"colab-df-container\">\n",
              "    <div>\n",
              "<style scoped>\n",
              "    .dataframe tbody tr th:only-of-type {\n",
              "        vertical-align: middle;\n",
              "    }\n",
              "\n",
              "    .dataframe tbody tr th {\n",
              "        vertical-align: top;\n",
              "    }\n",
              "\n",
              "    .dataframe thead th {\n",
              "        text-align: right;\n",
              "    }\n",
              "</style>\n",
              "<table border=\"1\" class=\"dataframe\">\n",
              "  <thead>\n",
              "    <tr style=\"text-align: right;\">\n",
              "      <th></th>\n",
              "      <th>CONSIGNEE_PROVINCE</th>\n",
              "      <th>Temperature</th>\n",
              "      <th>Humidity</th>\n",
              "      <th>Wind_Speed</th>\n",
              "      <th>Condition</th>\n",
              "      <th>Dew_Point</th>\n",
              "      <th>Wind</th>\n",
              "      <th>Wind_Gust</th>\n",
              "      <th>Pressure</th>\n",
              "      <th>Precip</th>\n",
              "      <th>...</th>\n",
              "      <th>is_halloween</th>\n",
              "      <th>is_christmas</th>\n",
              "      <th>is_new_year</th>\n",
              "      <th>month</th>\n",
              "      <th>day</th>\n",
              "      <th>day_of_week</th>\n",
              "      <th>day_of_year</th>\n",
              "      <th>quarter</th>\n",
              "      <th>is_weekend</th>\n",
              "      <th>ITEM_DESC_CLEAN_labelencoding</th>\n",
              "    </tr>\n",
              "  </thead>\n",
              "  <tbody>\n",
              "    <tr>\n",
              "      <th>0</th>\n",
              "      <td>71</td>\n",
              "      <td>78.437500</td>\n",
              "      <td>57.541667</td>\n",
              "      <td>3.416667</td>\n",
              "      <td>0</td>\n",
              "      <td>60.395833</td>\n",
              "      <td>8</td>\n",
              "      <td>0.0</td>\n",
              "      <td>28.922500</td>\n",
              "      <td>0.0</td>\n",
              "      <td>...</td>\n",
              "      <td>False</td>\n",
              "      <td>False</td>\n",
              "      <td>False</td>\n",
              "      <td>2</td>\n",
              "      <td>13</td>\n",
              "      <td>1</td>\n",
              "      <td>44</td>\n",
              "      <td>1</td>\n",
              "      <td>False</td>\n",
              "      <td>11799</td>\n",
              "    </tr>\n",
              "    <tr>\n",
              "      <th>1</th>\n",
              "      <td>71</td>\n",
              "      <td>78.437500</td>\n",
              "      <td>57.541667</td>\n",
              "      <td>3.416667</td>\n",
              "      <td>0</td>\n",
              "      <td>60.395833</td>\n",
              "      <td>8</td>\n",
              "      <td>0.0</td>\n",
              "      <td>28.922500</td>\n",
              "      <td>0.0</td>\n",
              "      <td>...</td>\n",
              "      <td>False</td>\n",
              "      <td>False</td>\n",
              "      <td>False</td>\n",
              "      <td>2</td>\n",
              "      <td>13</td>\n",
              "      <td>1</td>\n",
              "      <td>44</td>\n",
              "      <td>1</td>\n",
              "      <td>False</td>\n",
              "      <td>75875</td>\n",
              "    </tr>\n",
              "    <tr>\n",
              "      <th>2</th>\n",
              "      <td>71</td>\n",
              "      <td>78.437500</td>\n",
              "      <td>57.541667</td>\n",
              "      <td>3.416667</td>\n",
              "      <td>0</td>\n",
              "      <td>60.395833</td>\n",
              "      <td>8</td>\n",
              "      <td>0.0</td>\n",
              "      <td>28.922500</td>\n",
              "      <td>0.0</td>\n",
              "      <td>...</td>\n",
              "      <td>False</td>\n",
              "      <td>False</td>\n",
              "      <td>False</td>\n",
              "      <td>2</td>\n",
              "      <td>13</td>\n",
              "      <td>1</td>\n",
              "      <td>44</td>\n",
              "      <td>1</td>\n",
              "      <td>False</td>\n",
              "      <td>11799</td>\n",
              "    </tr>\n",
              "    <tr>\n",
              "      <th>3</th>\n",
              "      <td>71</td>\n",
              "      <td>78.437500</td>\n",
              "      <td>57.541667</td>\n",
              "      <td>3.416667</td>\n",
              "      <td>0</td>\n",
              "      <td>60.395833</td>\n",
              "      <td>8</td>\n",
              "      <td>0.0</td>\n",
              "      <td>28.922500</td>\n",
              "      <td>0.0</td>\n",
              "      <td>...</td>\n",
              "      <td>False</td>\n",
              "      <td>False</td>\n",
              "      <td>False</td>\n",
              "      <td>2</td>\n",
              "      <td>13</td>\n",
              "      <td>1</td>\n",
              "      <td>44</td>\n",
              "      <td>1</td>\n",
              "      <td>False</td>\n",
              "      <td>68124</td>\n",
              "    </tr>\n",
              "    <tr>\n",
              "      <th>4</th>\n",
              "      <td>71</td>\n",
              "      <td>78.437500</td>\n",
              "      <td>57.541667</td>\n",
              "      <td>3.416667</td>\n",
              "      <td>0</td>\n",
              "      <td>60.395833</td>\n",
              "      <td>8</td>\n",
              "      <td>0.0</td>\n",
              "      <td>28.922500</td>\n",
              "      <td>0.0</td>\n",
              "      <td>...</td>\n",
              "      <td>False</td>\n",
              "      <td>False</td>\n",
              "      <td>False</td>\n",
              "      <td>2</td>\n",
              "      <td>13</td>\n",
              "      <td>1</td>\n",
              "      <td>44</td>\n",
              "      <td>1</td>\n",
              "      <td>False</td>\n",
              "      <td>68124</td>\n",
              "    </tr>\n",
              "    <tr>\n",
              "      <th>...</th>\n",
              "      <td>...</td>\n",
              "      <td>...</td>\n",
              "      <td>...</td>\n",
              "      <td>...</td>\n",
              "      <td>...</td>\n",
              "      <td>...</td>\n",
              "      <td>...</td>\n",
              "      <td>...</td>\n",
              "      <td>...</td>\n",
              "      <td>...</td>\n",
              "      <td>...</td>\n",
              "      <td>...</td>\n",
              "      <td>...</td>\n",
              "      <td>...</td>\n",
              "      <td>...</td>\n",
              "      <td>...</td>\n",
              "      <td>...</td>\n",
              "      <td>...</td>\n",
              "      <td>...</td>\n",
              "      <td>...</td>\n",
              "      <td>...</td>\n",
              "    </tr>\n",
              "    <tr>\n",
              "      <th>856493</th>\n",
              "      <td>65</td>\n",
              "      <td>82.500000</td>\n",
              "      <td>72.812500</td>\n",
              "      <td>5.875000</td>\n",
              "      <td>5</td>\n",
              "      <td>72.395833</td>\n",
              "      <td>3</td>\n",
              "      <td>0.0</td>\n",
              "      <td>28.796042</td>\n",
              "      <td>0.0</td>\n",
              "      <td>...</td>\n",
              "      <td>False</td>\n",
              "      <td>False</td>\n",
              "      <td>False</td>\n",
              "      <td>5</td>\n",
              "      <td>11</td>\n",
              "      <td>5</td>\n",
              "      <td>132</td>\n",
              "      <td>2</td>\n",
              "      <td>True</td>\n",
              "      <td>50258</td>\n",
              "    </tr>\n",
              "    <tr>\n",
              "      <th>856494</th>\n",
              "      <td>50</td>\n",
              "      <td>82.500000</td>\n",
              "      <td>72.812500</td>\n",
              "      <td>5.875000</td>\n",
              "      <td>5</td>\n",
              "      <td>72.395833</td>\n",
              "      <td>3</td>\n",
              "      <td>0.0</td>\n",
              "      <td>28.796042</td>\n",
              "      <td>0.0</td>\n",
              "      <td>...</td>\n",
              "      <td>False</td>\n",
              "      <td>False</td>\n",
              "      <td>False</td>\n",
              "      <td>5</td>\n",
              "      <td>11</td>\n",
              "      <td>5</td>\n",
              "      <td>132</td>\n",
              "      <td>2</td>\n",
              "      <td>True</td>\n",
              "      <td>48176</td>\n",
              "    </tr>\n",
              "    <tr>\n",
              "      <th>856495</th>\n",
              "      <td>25</td>\n",
              "      <td>70.583333</td>\n",
              "      <td>59.625000</td>\n",
              "      <td>2.625000</td>\n",
              "      <td>0</td>\n",
              "      <td>54.041667</td>\n",
              "      <td>8</td>\n",
              "      <td>0.0</td>\n",
              "      <td>28.874167</td>\n",
              "      <td>0.0</td>\n",
              "      <td>...</td>\n",
              "      <td>False</td>\n",
              "      <td>False</td>\n",
              "      <td>False</td>\n",
              "      <td>1</td>\n",
              "      <td>22</td>\n",
              "      <td>0</td>\n",
              "      <td>22</td>\n",
              "      <td>1</td>\n",
              "      <td>False</td>\n",
              "      <td>49592</td>\n",
              "    </tr>\n",
              "    <tr>\n",
              "      <th>856496</th>\n",
              "      <td>55</td>\n",
              "      <td>75.979167</td>\n",
              "      <td>58.145833</td>\n",
              "      <td>2.270833</td>\n",
              "      <td>0</td>\n",
              "      <td>58.416667</td>\n",
              "      <td>8</td>\n",
              "      <td>0.0</td>\n",
              "      <td>28.789375</td>\n",
              "      <td>0.0</td>\n",
              "      <td>...</td>\n",
              "      <td>False</td>\n",
              "      <td>False</td>\n",
              "      <td>False</td>\n",
              "      <td>2</td>\n",
              "      <td>8</td>\n",
              "      <td>3</td>\n",
              "      <td>39</td>\n",
              "      <td>1</td>\n",
              "      <td>False</td>\n",
              "      <td>49147</td>\n",
              "    </tr>\n",
              "    <tr>\n",
              "      <th>856497</th>\n",
              "      <td>6</td>\n",
              "      <td>85.229167</td>\n",
              "      <td>43.833333</td>\n",
              "      <td>3.062500</td>\n",
              "      <td>0</td>\n",
              "      <td>58.375000</td>\n",
              "      <td>8</td>\n",
              "      <td>0.0</td>\n",
              "      <td>28.760625</td>\n",
              "      <td>0.0</td>\n",
              "      <td>...</td>\n",
              "      <td>False</td>\n",
              "      <td>False</td>\n",
              "      <td>False</td>\n",
              "      <td>3</td>\n",
              "      <td>28</td>\n",
              "      <td>3</td>\n",
              "      <td>88</td>\n",
              "      <td>1</td>\n",
              "      <td>False</td>\n",
              "      <td>49451</td>\n",
              "    </tr>\n",
              "  </tbody>\n",
              "</table>\n",
              "<p>856498 rows × 34 columns</p>\n",
              "</div>\n",
              "    <div class=\"colab-df-buttons\">\n",
              "\n",
              "  <div class=\"colab-df-container\">\n",
              "    <button class=\"colab-df-convert\" onclick=\"convertToInteractive('df-946d7f94-cc54-4b0f-a929-3c22cc92d610')\"\n",
              "            title=\"Convert this dataframe to an interactive table.\"\n",
              "            style=\"display:none;\">\n",
              "\n",
              "  <svg xmlns=\"http://www.w3.org/2000/svg\" height=\"24px\" viewBox=\"0 -960 960 960\">\n",
              "    <path d=\"M120-120v-720h720v720H120Zm60-500h600v-160H180v160Zm220 220h160v-160H400v160Zm0 220h160v-160H400v160ZM180-400h160v-160H180v160Zm440 0h160v-160H620v160ZM180-180h160v-160H180v160Zm440 0h160v-160H620v160Z\"/>\n",
              "  </svg>\n",
              "    </button>\n",
              "\n",
              "  <style>\n",
              "    .colab-df-container {\n",
              "      display:flex;\n",
              "      gap: 12px;\n",
              "    }\n",
              "\n",
              "    .colab-df-convert {\n",
              "      background-color: #E8F0FE;\n",
              "      border: none;\n",
              "      border-radius: 50%;\n",
              "      cursor: pointer;\n",
              "      display: none;\n",
              "      fill: #1967D2;\n",
              "      height: 32px;\n",
              "      padding: 0 0 0 0;\n",
              "      width: 32px;\n",
              "    }\n",
              "\n",
              "    .colab-df-convert:hover {\n",
              "      background-color: #E2EBFA;\n",
              "      box-shadow: 0px 1px 2px rgba(60, 64, 67, 0.3), 0px 1px 3px 1px rgba(60, 64, 67, 0.15);\n",
              "      fill: #174EA6;\n",
              "    }\n",
              "\n",
              "    .colab-df-buttons div {\n",
              "      margin-bottom: 4px;\n",
              "    }\n",
              "\n",
              "    [theme=dark] .colab-df-convert {\n",
              "      background-color: #3B4455;\n",
              "      fill: #D2E3FC;\n",
              "    }\n",
              "\n",
              "    [theme=dark] .colab-df-convert:hover {\n",
              "      background-color: #434B5C;\n",
              "      box-shadow: 0px 1px 3px 1px rgba(0, 0, 0, 0.15);\n",
              "      filter: drop-shadow(0px 1px 2px rgba(0, 0, 0, 0.3));\n",
              "      fill: #FFFFFF;\n",
              "    }\n",
              "  </style>\n",
              "\n",
              "    <script>\n",
              "      const buttonEl =\n",
              "        document.querySelector('#df-946d7f94-cc54-4b0f-a929-3c22cc92d610 button.colab-df-convert');\n",
              "      buttonEl.style.display =\n",
              "        google.colab.kernel.accessAllowed ? 'block' : 'none';\n",
              "\n",
              "      async function convertToInteractive(key) {\n",
              "        const element = document.querySelector('#df-946d7f94-cc54-4b0f-a929-3c22cc92d610');\n",
              "        const dataTable =\n",
              "          await google.colab.kernel.invokeFunction('convertToInteractive',\n",
              "                                                    [key], {});\n",
              "        if (!dataTable) return;\n",
              "\n",
              "        const docLinkHtml = 'Like what you see? Visit the ' +\n",
              "          '<a target=\"_blank\" href=https://colab.research.google.com/notebooks/data_table.ipynb>data table notebook</a>'\n",
              "          + ' to learn more about interactive tables.';\n",
              "        element.innerHTML = '';\n",
              "        dataTable['output_type'] = 'display_data';\n",
              "        await google.colab.output.renderOutput(dataTable, element);\n",
              "        const docLink = document.createElement('div');\n",
              "        docLink.innerHTML = docLinkHtml;\n",
              "        element.appendChild(docLink);\n",
              "      }\n",
              "    </script>\n",
              "  </div>\n",
              "\n",
              "\n",
              "<div id=\"df-e50522a2-a370-4134-a34a-4ee02ba84f9a\">\n",
              "  <button class=\"colab-df-quickchart\" onclick=\"quickchart('df-e50522a2-a370-4134-a34a-4ee02ba84f9a')\"\n",
              "            title=\"Suggest charts\"\n",
              "            style=\"display:none;\">\n",
              "\n",
              "<svg xmlns=\"http://www.w3.org/2000/svg\" height=\"24px\"viewBox=\"0 0 24 24\"\n",
              "     width=\"24px\">\n",
              "    <g>\n",
              "        <path d=\"M19 3H5c-1.1 0-2 .9-2 2v14c0 1.1.9 2 2 2h14c1.1 0 2-.9 2-2V5c0-1.1-.9-2-2-2zM9 17H7v-7h2v7zm4 0h-2V7h2v10zm4 0h-2v-4h2v4z\"/>\n",
              "    </g>\n",
              "</svg>\n",
              "  </button>\n",
              "\n",
              "<style>\n",
              "  .colab-df-quickchart {\n",
              "      --bg-color: #E8F0FE;\n",
              "      --fill-color: #1967D2;\n",
              "      --hover-bg-color: #E2EBFA;\n",
              "      --hover-fill-color: #174EA6;\n",
              "      --disabled-fill-color: #AAA;\n",
              "      --disabled-bg-color: #DDD;\n",
              "  }\n",
              "\n",
              "  [theme=dark] .colab-df-quickchart {\n",
              "      --bg-color: #3B4455;\n",
              "      --fill-color: #D2E3FC;\n",
              "      --hover-bg-color: #434B5C;\n",
              "      --hover-fill-color: #FFFFFF;\n",
              "      --disabled-bg-color: #3B4455;\n",
              "      --disabled-fill-color: #666;\n",
              "  }\n",
              "\n",
              "  .colab-df-quickchart {\n",
              "    background-color: var(--bg-color);\n",
              "    border: none;\n",
              "    border-radius: 50%;\n",
              "    cursor: pointer;\n",
              "    display: none;\n",
              "    fill: var(--fill-color);\n",
              "    height: 32px;\n",
              "    padding: 0;\n",
              "    width: 32px;\n",
              "  }\n",
              "\n",
              "  .colab-df-quickchart:hover {\n",
              "    background-color: var(--hover-bg-color);\n",
              "    box-shadow: 0 1px 2px rgba(60, 64, 67, 0.3), 0 1px 3px 1px rgba(60, 64, 67, 0.15);\n",
              "    fill: var(--button-hover-fill-color);\n",
              "  }\n",
              "\n",
              "  .colab-df-quickchart-complete:disabled,\n",
              "  .colab-df-quickchart-complete:disabled:hover {\n",
              "    background-color: var(--disabled-bg-color);\n",
              "    fill: var(--disabled-fill-color);\n",
              "    box-shadow: none;\n",
              "  }\n",
              "\n",
              "  .colab-df-spinner {\n",
              "    border: 2px solid var(--fill-color);\n",
              "    border-color: transparent;\n",
              "    border-bottom-color: var(--fill-color);\n",
              "    animation:\n",
              "      spin 1s steps(1) infinite;\n",
              "  }\n",
              "\n",
              "  @keyframes spin {\n",
              "    0% {\n",
              "      border-color: transparent;\n",
              "      border-bottom-color: var(--fill-color);\n",
              "      border-left-color: var(--fill-color);\n",
              "    }\n",
              "    20% {\n",
              "      border-color: transparent;\n",
              "      border-left-color: var(--fill-color);\n",
              "      border-top-color: var(--fill-color);\n",
              "    }\n",
              "    30% {\n",
              "      border-color: transparent;\n",
              "      border-left-color: var(--fill-color);\n",
              "      border-top-color: var(--fill-color);\n",
              "      border-right-color: var(--fill-color);\n",
              "    }\n",
              "    40% {\n",
              "      border-color: transparent;\n",
              "      border-right-color: var(--fill-color);\n",
              "      border-top-color: var(--fill-color);\n",
              "    }\n",
              "    60% {\n",
              "      border-color: transparent;\n",
              "      border-right-color: var(--fill-color);\n",
              "    }\n",
              "    80% {\n",
              "      border-color: transparent;\n",
              "      border-right-color: var(--fill-color);\n",
              "      border-bottom-color: var(--fill-color);\n",
              "    }\n",
              "    90% {\n",
              "      border-color: transparent;\n",
              "      border-bottom-color: var(--fill-color);\n",
              "    }\n",
              "  }\n",
              "</style>\n",
              "\n",
              "  <script>\n",
              "    async function quickchart(key) {\n",
              "      const quickchartButtonEl =\n",
              "        document.querySelector('#' + key + ' button');\n",
              "      quickchartButtonEl.disabled = true;  // To prevent multiple clicks.\n",
              "      quickchartButtonEl.classList.add('colab-df-spinner');\n",
              "      try {\n",
              "        const charts = await google.colab.kernel.invokeFunction(\n",
              "            'suggestCharts', [key], {});\n",
              "      } catch (error) {\n",
              "        console.error('Error during call to suggestCharts:', error);\n",
              "      }\n",
              "      quickchartButtonEl.classList.remove('colab-df-spinner');\n",
              "      quickchartButtonEl.classList.add('colab-df-quickchart-complete');\n",
              "    }\n",
              "    (() => {\n",
              "      let quickchartButtonEl =\n",
              "        document.querySelector('#df-e50522a2-a370-4134-a34a-4ee02ba84f9a button');\n",
              "      quickchartButtonEl.style.display =\n",
              "        google.colab.kernel.accessAllowed ? 'block' : 'none';\n",
              "    })();\n",
              "  </script>\n",
              "</div>\n",
              "\n",
              "  <div id=\"id_8826687d-4b96-4536-94e0-642e357d2ef2\">\n",
              "    <style>\n",
              "      .colab-df-generate {\n",
              "        background-color: #E8F0FE;\n",
              "        border: none;\n",
              "        border-radius: 50%;\n",
              "        cursor: pointer;\n",
              "        display: none;\n",
              "        fill: #1967D2;\n",
              "        height: 32px;\n",
              "        padding: 0 0 0 0;\n",
              "        width: 32px;\n",
              "      }\n",
              "\n",
              "      .colab-df-generate:hover {\n",
              "        background-color: #E2EBFA;\n",
              "        box-shadow: 0px 1px 2px rgba(60, 64, 67, 0.3), 0px 1px 3px 1px rgba(60, 64, 67, 0.15);\n",
              "        fill: #174EA6;\n",
              "      }\n",
              "\n",
              "      [theme=dark] .colab-df-generate {\n",
              "        background-color: #3B4455;\n",
              "        fill: #D2E3FC;\n",
              "      }\n",
              "\n",
              "      [theme=dark] .colab-df-generate:hover {\n",
              "        background-color: #434B5C;\n",
              "        box-shadow: 0px 1px 3px 1px rgba(0, 0, 0, 0.15);\n",
              "        filter: drop-shadow(0px 1px 2px rgba(0, 0, 0, 0.3));\n",
              "        fill: #FFFFFF;\n",
              "      }\n",
              "    </style>\n",
              "    <button class=\"colab-df-generate\" onclick=\"generateWithVariable('Datawithoutbill_df')\"\n",
              "            title=\"Generate code using this dataframe.\"\n",
              "            style=\"display:none;\">\n",
              "\n",
              "  <svg xmlns=\"http://www.w3.org/2000/svg\" height=\"24px\"viewBox=\"0 0 24 24\"\n",
              "       width=\"24px\">\n",
              "    <path d=\"M7,19H8.4L18.45,9,17,7.55,7,17.6ZM5,21V16.75L18.45,3.32a2,2,0,0,1,2.83,0l1.4,1.43a1.91,1.91,0,0,1,.58,1.4,1.91,1.91,0,0,1-.58,1.4L9.25,21ZM18.45,9,17,7.55Zm-12,3A5.31,5.31,0,0,0,4.9,8.1,5.31,5.31,0,0,0,1,6.5,5.31,5.31,0,0,0,4.9,4.9,5.31,5.31,0,0,0,6.5,1,5.31,5.31,0,0,0,8.1,4.9,5.31,5.31,0,0,0,12,6.5,5.46,5.46,0,0,0,6.5,12Z\"/>\n",
              "  </svg>\n",
              "    </button>\n",
              "    <script>\n",
              "      (() => {\n",
              "      const buttonEl =\n",
              "        document.querySelector('#id_8826687d-4b96-4536-94e0-642e357d2ef2 button.colab-df-generate');\n",
              "      buttonEl.style.display =\n",
              "        google.colab.kernel.accessAllowed ? 'block' : 'none';\n",
              "\n",
              "      buttonEl.onclick = () => {\n",
              "        google.colab.notebook.generateWithVariable('Datawithoutbill_df');\n",
              "      }\n",
              "      })();\n",
              "    </script>\n",
              "  </div>\n",
              "\n",
              "    </div>\n",
              "  </div>\n"
            ],
            "application/vnd.google.colaboratory.intrinsic+json": {
              "type": "dataframe",
              "variable_name": "Datawithoutbill_df"
            }
          },
          "metadata": {},
          "execution_count": 2
        }
      ]
    },
    {
      "cell_type": "code",
      "source": [
        "Datawithoutbill_df = Datawithoutbill_df.dropna()"
      ],
      "metadata": {
        "id": "2G8AcXYZ9aAw"
      },
      "execution_count": null,
      "outputs": []
    },
    {
      "cell_type": "code",
      "source": [
        "from sklearn.model_selection import train_test_split\n",
        "\n",
        "X = Datawithoutbill_df.drop(columns=[\"QTY\"])\n",
        "y = Datawithoutbill_df[\"QTY\"]\n",
        "\n",
        "X_train, X_val, y_train, y_val = train_test_split(X, y, test_size=0.2, random_state=42)"
      ],
      "metadata": {
        "id": "6Jq9fJYFbBJd"
      },
      "execution_count": null,
      "outputs": []
    },
    {
      "cell_type": "markdown",
      "source": [
        "#|||||||||||||||||||||||||||||||||||||||||||||||||||||||||||||||||||||||||||||||"
      ],
      "metadata": {
        "id": "F_7GDNa8hHRC"
      }
    },
    {
      "cell_type": "markdown",
      "source": [
        "#xgboost + all feature"
      ],
      "metadata": {
        "id": "I-qNMHeSvg4K"
      }
    },
    {
      "cell_type": "code",
      "source": [
        "import xgboost as xgb\n",
        "import numpy as np\n",
        "from sklearn.model_selection import train_test_split\n",
        "from sklearn.metrics import mean_squared_error\n",
        "import matplotlib.pyplot as plt"
      ],
      "metadata": {
        "id": "xvGJFCWuxahL"
      },
      "execution_count": null,
      "outputs": []
    },
    {
      "cell_type": "code",
      "source": [
        "xgb_model = xgb.XGBRegressor(n_estimators=500, learning_rate=0.1)\n",
        "\n",
        "xgb_model.fit(X_train, y_train, eval_set=[(X_val, y_val)], verbose=10)\n",
        "\n",
        "y_pred = xgb_model.predict(X_val)\n",
        "\n",
        "rmse = np.sqrt(mean_squared_error(y_val, y_pred))\n",
        "print(f\"RMSE: {rmse}\")"
      ],
      "metadata": {
        "colab": {
          "base_uri": "https://localhost:8080/"
        },
        "id": "h7fu8aM4vjph",
        "outputId": "b6d63c0d-2e79-49fe-d7eb-cbb35b676dde"
      },
      "execution_count": null,
      "outputs": [
        {
          "output_type": "stream",
          "name": "stdout",
          "text": [
            "[0]\tvalidation_0-rmse:17.89361\n",
            "[10]\tvalidation_0-rmse:15.62936\n",
            "[20]\tvalidation_0-rmse:15.01250\n",
            "[30]\tvalidation_0-rmse:14.69228\n",
            "[40]\tvalidation_0-rmse:14.39771\n",
            "[50]\tvalidation_0-rmse:14.18310\n",
            "[60]\tvalidation_0-rmse:14.08300\n",
            "[70]\tvalidation_0-rmse:13.99332\n",
            "[80]\tvalidation_0-rmse:13.93353\n",
            "[90]\tvalidation_0-rmse:13.89160\n",
            "[100]\tvalidation_0-rmse:13.83810\n",
            "[110]\tvalidation_0-rmse:13.78432\n",
            "[120]\tvalidation_0-rmse:13.75874\n",
            "[130]\tvalidation_0-rmse:13.69944\n",
            "[140]\tvalidation_0-rmse:13.65754\n",
            "[150]\tvalidation_0-rmse:13.63008\n",
            "[160]\tvalidation_0-rmse:13.60241\n",
            "[170]\tvalidation_0-rmse:13.59172\n",
            "[180]\tvalidation_0-rmse:13.57867\n",
            "[190]\tvalidation_0-rmse:13.55526\n",
            "[200]\tvalidation_0-rmse:13.53607\n",
            "[210]\tvalidation_0-rmse:13.50698\n",
            "[220]\tvalidation_0-rmse:13.48375\n",
            "[230]\tvalidation_0-rmse:13.45689\n",
            "[240]\tvalidation_0-rmse:13.44405\n",
            "[250]\tvalidation_0-rmse:13.42119\n",
            "[260]\tvalidation_0-rmse:13.41125\n",
            "[270]\tvalidation_0-rmse:13.39454\n",
            "[280]\tvalidation_0-rmse:13.38823\n",
            "[290]\tvalidation_0-rmse:13.37660\n",
            "[300]\tvalidation_0-rmse:13.36274\n",
            "[310]\tvalidation_0-rmse:13.35460\n",
            "[320]\tvalidation_0-rmse:13.35527\n",
            "[330]\tvalidation_0-rmse:13.34292\n",
            "[340]\tvalidation_0-rmse:13.33533\n",
            "[350]\tvalidation_0-rmse:13.33459\n",
            "[360]\tvalidation_0-rmse:13.32734\n",
            "[370]\tvalidation_0-rmse:13.31854\n",
            "[380]\tvalidation_0-rmse:13.29987\n",
            "[390]\tvalidation_0-rmse:13.29433\n",
            "[400]\tvalidation_0-rmse:13.29077\n",
            "[410]\tvalidation_0-rmse:13.27686\n",
            "[420]\tvalidation_0-rmse:13.27330\n",
            "[430]\tvalidation_0-rmse:13.26989\n",
            "[440]\tvalidation_0-rmse:13.26817\n",
            "[450]\tvalidation_0-rmse:13.26301\n",
            "[460]\tvalidation_0-rmse:13.26156\n",
            "[470]\tvalidation_0-rmse:13.25579\n",
            "[480]\tvalidation_0-rmse:13.24883\n",
            "[490]\tvalidation_0-rmse:13.23809\n",
            "[499]\tvalidation_0-rmse:13.23549\n",
            "RMSE: 13.235494548984638\n"
          ]
        }
      ]
    },
    {
      "cell_type": "code",
      "source": [
        "rmse = np.sqrt(mean_squared_error(y_val, y_pred))\n",
        "mse = mean_squared_error(y_val, y_pred)\n",
        "r2 = xgb_model.score(X_val, y_val)"
      ],
      "metadata": {
        "id": "wMRTKzKFv484"
      },
      "execution_count": null,
      "outputs": []
    },
    {
      "cell_type": "code",
      "source": [
        "print(\"Testing performance\")\n",
        "print('RMSE: {:.2f}'.format(rmse))\n",
        "print('MSE: {:.2f}'.format(mse))\n",
        "print('R2: {:.2f}'.format(r2))"
      ],
      "metadata": {
        "colab": {
          "base_uri": "https://localhost:8080/"
        },
        "id": "Cx6UnyYxwJny",
        "outputId": "78854c35-5f17-483b-dbd4-3f4dcfa2cca4"
      },
      "execution_count": null,
      "outputs": [
        {
          "output_type": "stream",
          "name": "stdout",
          "text": [
            "Testing performance\n",
            "RMSE: 13.24\n",
            "MSE: 175.18\n",
            "R2: 0.48\n"
          ]
        }
      ]
    },
    {
      "cell_type": "code",
      "source": [
        "train_preds = xgb_model.predict(X_train)\n",
        "val_preds = xgb_model.predict(X_val)\n",
        "\n",
        "train_residuals = y_train - train_preds\n",
        "val_residuals = y_val - val_preds\n",
        "\n",
        "def residual_plot(y_train, train_preds, y_val, val_preds, title=\"Residual Plot\"):\n",
        "    plt.figure(figsize=(10, 6))\n",
        "\n",
        "    plt.scatter(train_preds, y_train - train_preds, label='Training Residuals', alpha=0.5)\n",
        "\n",
        "    plt.scatter(val_preds, y_val - val_preds, label='Validation Residuals', alpha=0.5, color='red')\n",
        "\n",
        "    plt.hlines(0, min(train_preds.min(), val_preds.min()), max(train_preds.max(), val_preds.max()), colors='black', linestyles='dashed')\n",
        "\n",
        "    plt.title(title)\n",
        "    plt.xlabel('Predicted Values')\n",
        "    plt.ylabel('Residuals')\n",
        "    plt.legend()\n",
        "    plt.show()\n",
        "\n",
        "residual_plot(y_train, train_preds,\n",
        "              y_val, val_preds,\n",
        "              title=\"XGBoost Residual Plot\")\n"
      ],
      "metadata": {
        "colab": {
          "base_uri": "https://localhost:8080/",
          "height": 564
        },
        "id": "XQri_8zozstg",
        "outputId": "9473f18a-b36a-4f7f-c7bb-aad0a7647e8b"
      },
      "execution_count": null,
      "outputs": [
        {
          "output_type": "display_data",
          "data": {
            "text/plain": [
              "<Figure size 1000x600 with 1 Axes>"
            ],
            "image/png": "[encoded data removed]"
          },
          "metadata": {}
        }
      ]
    },
    {
      "cell_type": "code",
      "source": [
        "feature_importances = xgb_model.feature_importances_\n",
        "plt.barh(range(len(feature_importances)), feature_importances)\n",
        "plt.xlabel(\"Feature Importance\")\n",
        "plt.ylabel(\"Feature\")\n",
        "plt.title(\"XGBoost Feature Importances\")\n",
        "plt.show()"
      ],
      "metadata": {
        "colab": {
          "base_uri": "https://localhost:8080/",
          "height": 472
        },
        "id": "f6qlmMLFwgQT",
        "outputId": "b3e22ac7-6188-44a5-e360-05df5d632ca9"
      },
      "execution_count": null,
      "outputs": [
        {
          "output_type": "display_data",
          "data": {
            "text/plain": [
              "<Figure size 640x480 with 1 Axes>"
            ],
            "image/png": "[encoded data removed]"
          },
          "metadata": {}
        }
      ]
    },
    {
      "cell_type": "code",
      "source": [
        "feature_importances = xgb_model.feature_importances_\n",
        "importance_df = pd.DataFrame({\n",
        "    'Feature': X_train.columns,\n",
        "    'Importance': feature_importances\n",
        "})\n",
        "importance_df = importance_df.sort_values(by='Importance', ascending=False)\n",
        "print(importance_df)"
      ],
      "metadata": {
        "colab": {
          "base_uri": "https://localhost:8080/"
        },
        "id": "endb2fpuyjCj",
        "outputId": "bd63d46d-13f9-4dbb-c7a2-7adccbad70ea"
      },
      "execution_count": null,
      "outputs": [
        {
          "output_type": "stream",
          "name": "stdout",
          "text": [
            "                          Feature  Importance\n",
            "17                      DEST_CODE    0.131722\n",
            "13                      ITEM_CODE    0.107322\n",
            "15                      UNIT_NAME    0.102684\n",
            "16                       REG_Code    0.068723\n",
            "32  ITEM_DESC_CLEAN_labelencoding    0.061933\n",
            "26                          month    0.060151\n",
            "14                ITEM_NAMEในระบบ    0.053272\n",
            "18                       Category    0.041827\n",
            "29                    day_of_year    0.038136\n",
            "10               CONSIGNEE_TAMBON    0.037280\n",
            "12              CONSIGNEE_ZIPCODE    0.037269\n",
            "0              CONSIGNEE_PROVINCE    0.026545\n",
            "28                    day_of_week    0.024651\n",
            "7                       Wind_Gust    0.024198\n",
            "11               CONSIGNEE_AMPHUR    0.023995\n",
            "4                       Condition    0.022887\n",
            "19                      is_payday    0.020455\n",
            "27                            day    0.019362\n",
            "3                      Wind_Speed    0.018969\n",
            "5                       Dew_Point    0.017491\n",
            "2                        Humidity    0.017429\n",
            "1                     Temperature    0.013991\n",
            "8                        Pressure    0.013781\n",
            "6                            Wind    0.008177\n",
            "20                is_end_of_month    0.007749\n",
            "21             is_significant_day    0.000000\n",
            "22                is_black_friday    0.000000\n",
            "23                   is_halloween    0.000000\n",
            "24                   is_christmas    0.000000\n",
            "25                    is_new_year    0.000000\n",
            "9                          Precip    0.000000\n",
            "30                        quarter    0.000000\n",
            "31                     is_weekend    0.000000\n"
          ]
        }
      ]
    },
    {
      "cell_type": "code",
      "source": [
        "importance_df"
      ],
      "metadata": {
        "colab": {
          "base_uri": "https://localhost:8080/",
          "height": 1000
        },
        "id": "bWVDySC9FUh_",
        "outputId": "12f0f184-c5fd-4620-b497-ee2758a7b283"
      },
      "execution_count": null,
      "outputs": [
        {
          "output_type": "execute_result",
          "data": {
            "text/plain": [
              "                          Feature  Importance\n",
              "17                      DEST_CODE    0.131722\n",
              "13                      ITEM_CODE    0.107322\n",
              "15                      UNIT_NAME    0.102684\n",
              "16                       REG_Code    0.068723\n",
              "32  ITEM_DESC_CLEAN_labelencoding    0.061933\n",
              "26                          month    0.060151\n",
              "14                ITEM_NAMEในระบบ    0.053272\n",
              "18                       Category    0.041827\n",
              "29                    day_of_year    0.038136\n",
              "10               CONSIGNEE_TAMBON    0.037280\n",
              "12              CONSIGNEE_ZIPCODE    0.037269\n",
              "0              CONSIGNEE_PROVINCE    0.026545\n",
              "28                    day_of_week    0.024651\n",
              "7                       Wind_Gust    0.024198\n",
              "11               CONSIGNEE_AMPHUR    0.023995\n",
              "4                       Condition    0.022887\n",
              "19                      is_payday    0.020455\n",
              "27                            day    0.019362\n",
              "3                      Wind_Speed    0.018969\n",
              "5                       Dew_Point    0.017491\n",
              "2                        Humidity    0.017429\n",
              "1                     Temperature    0.013991\n",
              "8                        Pressure    0.013781\n",
              "6                            Wind    0.008177\n",
              "20                is_end_of_month    0.007749\n",
              "21             is_significant_day    0.000000\n",
              "22                is_black_friday    0.000000\n",
              "23                   is_halloween    0.000000\n",
              "24                   is_christmas    0.000000\n",
              "25                    is_new_year    0.000000\n",
              "9                          Precip    0.000000\n",
              "30                        quarter    0.000000\n",
              "31                     is_weekend    0.000000"
            ],
            "text/html": [
              "\n",
              "  <div id=\"df-086f6c2c-a0ca-4e8d-991e-ee0b24f8b389\" class=\"colab-df-container\">\n",
              "    <div>\n",
              "<style scoped>\n",
              "    .dataframe tbody tr th:only-of-type {\n",
              "        vertical-align: middle;\n",
              "    }\n",
              "\n",
              "    .dataframe tbody tr th {\n",
              "        vertical-align: top;\n",
              "    }\n",
              "\n",
              "    .dataframe thead th {\n",
              "        text-align: right;\n",
              "    }\n",
              "</style>\n",
              "<table border=\"1\" class=\"dataframe\">\n",
              "  <thead>\n",
              "    <tr style=\"text-align: right;\">\n",
              "      <th></th>\n",
              "      <th>Feature</th>\n",
              "      <th>Importance</th>\n",
              "    </tr>\n",
              "  </thead>\n",
              "  <tbody>\n",
              "    <tr>\n",
              "      <th>17</th>\n",
              "      <td>DEST_CODE</td>\n",
              "      <td>0.131722</td>\n",
              "    </tr>\n",
              "    <tr>\n",
              "      <th>13</th>\n",
              "      <td>ITEM_CODE</td>\n",
              "      <td>0.107322</td>\n",
              "    </tr>\n",
              "    <tr>\n",
              "      <th>15</th>\n",
              "      <td>UNIT_NAME</td>\n",
              "      <td>0.102684</td>\n",
              "    </tr>\n",
              "    <tr>\n",
              "      <th>16</th>\n",
              "      <td>REG_Code</td>\n",
              "      <td>0.068723</td>\n",
              "    </tr>\n",
              "    <tr>\n",
              "      <th>32</th>\n",
              "      <td>ITEM_DESC_CLEAN_labelencoding</td>\n",
              "      <td>0.061933</td>\n",
              "    </tr>\n",
              "    <tr>\n",
              "      <th>26</th>\n",
              "      <td>month</td>\n",
              "      <td>0.060151</td>\n",
              "    </tr>\n",
              "    <tr>\n",
              "      <th>14</th>\n",
              "      <td>ITEM_NAMEในระบบ</td>\n",
              "      <td>0.053272</td>\n",
              "    </tr>\n",
              "    <tr>\n",
              "      <th>18</th>\n",
              "      <td>Category</td>\n",
              "      <td>0.041827</td>\n",
              "    </tr>\n",
              "    <tr>\n",
              "      <th>29</th>\n",
              "      <td>day_of_year</td>\n",
              "      <td>0.038136</td>\n",
              "    </tr>\n",
              "    <tr>\n",
              "      <th>10</th>\n",
              "      <td>CONSIGNEE_TAMBON</td>\n",
              "      <td>0.037280</td>\n",
              "    </tr>\n",
              "    <tr>\n",
              "      <th>12</th>\n",
              "      <td>CONSIGNEE_ZIPCODE</td>\n",
              "      <td>0.037269</td>\n",
              "    </tr>\n",
              "    <tr>\n",
              "      <th>0</th>\n",
              "      <td>CONSIGNEE_PROVINCE</td>\n",
              "      <td>0.026545</td>\n",
              "    </tr>\n",
              "    <tr>\n",
              "      <th>28</th>\n",
              "      <td>day_of_week</td>\n",
              "      <td>0.024651</td>\n",
              "    </tr>\n",
              "    <tr>\n",
              "      <th>7</th>\n",
              "      <td>Wind_Gust</td>\n",
              "      <td>0.024198</td>\n",
              "    </tr>\n",
              "    <tr>\n",
              "      <th>11</th>\n",
              "      <td>CONSIGNEE_AMPHUR</td>\n",
              "      <td>0.023995</td>\n",
              "    </tr>\n",
              "    <tr>\n",
              "      <th>4</th>\n",
              "      <td>Condition</td>\n",
              "      <td>0.022887</td>\n",
              "    </tr>\n",
              "    <tr>\n",
              "      <th>19</th>\n",
              "      <td>is_payday</td>\n",
              "      <td>0.020455</td>\n",
              "    </tr>\n",
              "    <tr>\n",
              "      <th>27</th>\n",
              "      <td>day</td>\n",
              "      <td>0.019362</td>\n",
              "    </tr>\n",
              "    <tr>\n",
              "      <th>3</th>\n",
              "      <td>Wind_Speed</td>\n",
              "      <td>0.018969</td>\n",
              "    </tr>\n",
              "    <tr>\n",
              "      <th>5</th>\n",
              "      <td>Dew_Point</td>\n",
              "      <td>0.017491</td>\n",
              "    </tr>\n",
              "    <tr>\n",
              "      <th>2</th>\n",
              "      <td>Humidity</td>\n",
              "      <td>0.017429</td>\n",
              "    </tr>\n",
              "    <tr>\n",
              "      <th>1</th>\n",
              "      <td>Temperature</td>\n",
              "      <td>0.013991</td>\n",
              "    </tr>\n",
              "    <tr>\n",
              "      <th>8</th>\n",
              "      <td>Pressure</td>\n",
              "      <td>0.013781</td>\n",
              "    </tr>\n",
              "    <tr>\n",
              "      <th>6</th>\n",
              "      <td>Wind</td>\n",
              "      <td>0.008177</td>\n",
              "    </tr>\n",
              "    <tr>\n",
              "      <th>20</th>\n",
              "      <td>is_end_of_month</td>\n",
              "      <td>0.007749</td>\n",
              "    </tr>\n",
              "    <tr>\n",
              "      <th>21</th>\n",
              "      <td>is_significant_day</td>\n",
              "      <td>0.000000</td>\n",
              "    </tr>\n",
              "    <tr>\n",
              "      <th>22</th>\n",
              "      <td>is_black_friday</td>\n",
              "      <td>0.000000</td>\n",
              "    </tr>\n",
              "    <tr>\n",
              "      <th>23</th>\n",
              "      <td>is_halloween</td>\n",
              "      <td>0.000000</td>\n",
              "    </tr>\n",
              "    <tr>\n",
              "      <th>24</th>\n",
              "      <td>is_christmas</td>\n",
              "      <td>0.000000</td>\n",
              "    </tr>\n",
              "    <tr>\n",
              "      <th>25</th>\n",
              "      <td>is_new_year</td>\n",
              "      <td>0.000000</td>\n",
              "    </tr>\n",
              "    <tr>\n",
              "      <th>9</th>\n",
              "      <td>Precip</td>\n",
              "      <td>0.000000</td>\n",
              "    </tr>\n",
              "    <tr>\n",
              "      <th>30</th>\n",
              "      <td>quarter</td>\n",
              "      <td>0.000000</td>\n",
              "    </tr>\n",
              "    <tr>\n",
              "      <th>31</th>\n",
              "      <td>is_weekend</td>\n",
              "      <td>0.000000</td>\n",
              "    </tr>\n",
              "  </tbody>\n",
              "</table>\n",
              "</div>\n",
              "    <div class=\"colab-df-buttons\">\n",
              "\n",
              "  <div class=\"colab-df-container\">\n",
              "    <button class=\"colab-df-convert\" onclick=\"convertToInteractive('df-086f6c2c-a0ca-4e8d-991e-ee0b24f8b389')\"\n",
              "            title=\"Convert this dataframe to an interactive table.\"\n",
              "            style=\"display:none;\">\n",
              "\n",
              "  <svg xmlns=\"http://www.w3.org/2000/svg\" height=\"24px\" viewBox=\"0 -960 960 960\">\n",
              "    <path d=\"M120-120v-720h720v720H120Zm60-500h600v-160H180v160Zm220 220h160v-160H400v160Zm0 220h160v-160H400v160ZM180-400h160v-160H180v160Zm440 0h160v-160H620v160ZM180-180h160v-160H180v160Zm440 0h160v-160H620v160Z\"/>\n",
              "  </svg>\n",
              "    </button>\n",
              "\n",
              "  <style>\n",
              "    .colab-df-container {\n",
              "      display:flex;\n",
              "      gap: 12px;\n",
              "    }\n",
              "\n",
              "    .colab-df-convert {\n",
              "      background-color: #E8F0FE;\n",
              "      border: none;\n",
              "      border-radius: 50%;\n",
              "      cursor: pointer;\n",
              "      display: none;\n",
              "      fill: #1967D2;\n",
              "      height: 32px;\n",
              "      padding: 0 0 0 0;\n",
              "      width: 32px;\n",
              "    }\n",
              "\n",
              "    .colab-df-convert:hover {\n",
              "      background-color: #E2EBFA;\n",
              "      box-shadow: 0px 1px 2px rgba(60, 64, 67, 0.3), 0px 1px 3px 1px rgba(60, 64, 67, 0.15);\n",
              "      fill: #174EA6;\n",
              "    }\n",
              "\n",
              "    .colab-df-buttons div {\n",
              "      margin-bottom: 4px;\n",
              "    }\n",
              "\n",
              "    [theme=dark] .colab-df-convert {\n",
              "      background-color: #3B4455;\n",
              "      fill: #D2E3FC;\n",
              "    }\n",
              "\n",
              "    [theme=dark] .colab-df-convert:hover {\n",
              "      background-color: #434B5C;\n",
              "      box-shadow: 0px 1px 3px 1px rgba(0, 0, 0, 0.15);\n",
              "      filter: drop-shadow(0px 1px 2px rgba(0, 0, 0, 0.3));\n",
              "      fill: #FFFFFF;\n",
              "    }\n",
              "  </style>\n",
              "\n",
              "    <script>\n",
              "      const buttonEl =\n",
              "        document.querySelector('#df-086f6c2c-a0ca-4e8d-991e-ee0b24f8b389 button.colab-df-convert');\n",
              "      buttonEl.style.display =\n",
              "        google.colab.kernel.accessAllowed ? 'block' : 'none';\n",
              "\n",
              "      async function convertToInteractive(key) {\n",
              "        const element = document.querySelector('#df-086f6c2c-a0ca-4e8d-991e-ee0b24f8b389');\n",
              "        const dataTable =\n",
              "          await google.colab.kernel.invokeFunction('convertToInteractive',\n",
              "                                                    [key], {});\n",
              "        if (!dataTable) return;\n",
              "\n",
              "        const docLinkHtml = 'Like what you see? Visit the ' +\n",
              "          '<a target=\"_blank\" href=https://colab.research.google.com/notebooks/data_table.ipynb>data table notebook</a>'\n",
              "          + ' to learn more about interactive tables.';\n",
              "        element.innerHTML = '';\n",
              "        dataTable['output_type'] = 'display_data';\n",
              "        await google.colab.output.renderOutput(dataTable, element);\n",
              "        const docLink = document.createElement('div');\n",
              "        docLink.innerHTML = docLinkHtml;\n",
              "        element.appendChild(docLink);\n",
              "      }\n",
              "    </script>\n",
              "  </div>\n",
              "\n",
              "\n",
              "<div id=\"df-8ec3fc73-77e6-4bab-a569-a85cb4c145a1\">\n",
              "  <button class=\"colab-df-quickchart\" onclick=\"quickchart('df-8ec3fc73-77e6-4bab-a569-a85cb4c145a1')\"\n",
              "            title=\"Suggest charts\"\n",
              "            style=\"display:none;\">\n",
              "\n",
              "<svg xmlns=\"http://www.w3.org/2000/svg\" height=\"24px\"viewBox=\"0 0 24 24\"\n",
              "     width=\"24px\">\n",
              "    <g>\n",
              "        <path d=\"M19 3H5c-1.1 0-2 .9-2 2v14c0 1.1.9 2 2 2h14c1.1 0 2-.9 2-2V5c0-1.1-.9-2-2-2zM9 17H7v-7h2v7zm4 0h-2V7h2v10zm4 0h-2v-4h2v4z\"/>\n",
              "    </g>\n",
              "</svg>\n",
              "  </button>\n",
              "\n",
              "<style>\n",
              "  .colab-df-quickchart {\n",
              "      --bg-color: #E8F0FE;\n",
              "      --fill-color: #1967D2;\n",
              "      --hover-bg-color: #E2EBFA;\n",
              "      --hover-fill-color: #174EA6;\n",
              "      --disabled-fill-color: #AAA;\n",
              "      --disabled-bg-color: #DDD;\n",
              "  }\n",
              "\n",
              "  [theme=dark] .colab-df-quickchart {\n",
              "      --bg-color: #3B4455;\n",
              "      --fill-color: #D2E3FC;\n",
              "      --hover-bg-color: #434B5C;\n",
              "      --hover-fill-color: #FFFFFF;\n",
              "      --disabled-bg-color: #3B4455;\n",
              "      --disabled-fill-color: #666;\n",
              "  }\n",
              "\n",
              "  .colab-df-quickchart {\n",
              "    background-color: var(--bg-color);\n",
              "    border: none;\n",
              "    border-radius: 50%;\n",
              "    cursor: pointer;\n",
              "    display: none;\n",
              "    fill: var(--fill-color);\n",
              "    height: 32px;\n",
              "    padding: 0;\n",
              "    width: 32px;\n",
              "  }\n",
              "\n",
              "  .colab-df-quickchart:hover {\n",
              "    background-color: var(--hover-bg-color);\n",
              "    box-shadow: 0 1px 2px rgba(60, 64, 67, 0.3), 0 1px 3px 1px rgba(60, 64, 67, 0.15);\n",
              "    fill: var(--button-hover-fill-color);\n",
              "  }\n",
              "\n",
              "  .colab-df-quickchart-complete:disabled,\n",
              "  .colab-df-quickchart-complete:disabled:hover {\n",
              "    background-color: var(--disabled-bg-color);\n",
              "    fill: var(--disabled-fill-color);\n",
              "    box-shadow: none;\n",
              "  }\n",
              "\n",
              "  .colab-df-spinner {\n",
              "    border: 2px solid var(--fill-color);\n",
              "    border-color: transparent;\n",
              "    border-bottom-color: var(--fill-color);\n",
              "    animation:\n",
              "      spin 1s steps(1) infinite;\n",
              "  }\n",
              "\n",
              "  @keyframes spin {\n",
              "    0% {\n",
              "      border-color: transparent;\n",
              "      border-bottom-color: var(--fill-color);\n",
              "      border-left-color: var(--fill-color);\n",
              "    }\n",
              "    20% {\n",
              "      border-color: transparent;\n",
              "      border-left-color: var(--fill-color);\n",
              "      border-top-color: var(--fill-color);\n",
              "    }\n",
              "    30% {\n",
              "      border-color: transparent;\n",
              "      border-left-color: var(--fill-color);\n",
              "      border-top-color: var(--fill-color);\n",
              "      border-right-color: var(--fill-color);\n",
              "    }\n",
              "    40% {\n",
              "      border-color: transparent;\n",
              "      border-right-color: var(--fill-color);\n",
              "      border-top-color: var(--fill-color);\n",
              "    }\n",
              "    60% {\n",
              "      border-color: transparent;\n",
              "      border-right-color: var(--fill-color);\n",
              "    }\n",
              "    80% {\n",
              "      border-color: transparent;\n",
              "      border-right-color: var(--fill-color);\n",
              "      border-bottom-color: var(--fill-color);\n",
              "    }\n",
              "    90% {\n",
              "      border-color: transparent;\n",
              "      border-bottom-color: var(--fill-color);\n",
              "    }\n",
              "  }\n",
              "</style>\n",
              "\n",
              "  <script>\n",
              "    async function quickchart(key) {\n",
              "      const quickchartButtonEl =\n",
              "        document.querySelector('#' + key + ' button');\n",
              "      quickchartButtonEl.disabled = true;  // To prevent multiple clicks.\n",
              "      quickchartButtonEl.classList.add('colab-df-spinner');\n",
              "      try {\n",
              "        const charts = await google.colab.kernel.invokeFunction(\n",
              "            'suggestCharts', [key], {});\n",
              "      } catch (error) {\n",
              "        console.error('Error during call to suggestCharts:', error);\n",
              "      }\n",
              "      quickchartButtonEl.classList.remove('colab-df-spinner');\n",
              "      quickchartButtonEl.classList.add('colab-df-quickchart-complete');\n",
              "    }\n",
              "    (() => {\n",
              "      let quickchartButtonEl =\n",
              "        document.querySelector('#df-8ec3fc73-77e6-4bab-a569-a85cb4c145a1 button');\n",
              "      quickchartButtonEl.style.display =\n",
              "        google.colab.kernel.accessAllowed ? 'block' : 'none';\n",
              "    })();\n",
              "  </script>\n",
              "</div>\n",
              "\n",
              "  <div id=\"id_6faaf3d8-eafd-47fa-b45a-e31b569981b0\">\n",
              "    <style>\n",
              "      .colab-df-generate {\n",
              "        background-color: #E8F0FE;\n",
              "        border: none;\n",
              "        border-radius: 50%;\n",
              "        cursor: pointer;\n",
              "        display: none;\n",
              "        fill: #1967D2;\n",
              "        height: 32px;\n",
              "        padding: 0 0 0 0;\n",
              "        width: 32px;\n",
              "      }\n",
              "\n",
              "      .colab-df-generate:hover {\n",
              "        background-color: #E2EBFA;\n",
              "        box-shadow: 0px 1px 2px rgba(60, 64, 67, 0.3), 0px 1px 3px 1px rgba(60, 64, 67, 0.15);\n",
              "        fill: #174EA6;\n",
              "      }\n",
              "\n",
              "      [theme=dark] .colab-df-generate {\n",
              "        background-color: #3B4455;\n",
              "        fill: #D2E3FC;\n",
              "      }\n",
              "\n",
              "      [theme=dark] .colab-df-generate:hover {\n",
              "        background-color: #434B5C;\n",
              "        box-shadow: 0px 1px 3px 1px rgba(0, 0, 0, 0.15);\n",
              "        filter: drop-shadow(0px 1px 2px rgba(0, 0, 0, 0.3));\n",
              "        fill: #FFFFFF;\n",
              "      }\n",
              "    </style>\n",
              "    <button class=\"colab-df-generate\" onclick=\"generateWithVariable('importance_df')\"\n",
              "            title=\"Generate code using this dataframe.\"\n",
              "            style=\"display:none;\">\n",
              "\n",
              "  <svg xmlns=\"http://www.w3.org/2000/svg\" height=\"24px\"viewBox=\"0 0 24 24\"\n",
              "       width=\"24px\">\n",
              "    <path d=\"M7,19H8.4L18.45,9,17,7.55,7,17.6ZM5,21V16.75L18.45,3.32a2,2,0,0,1,2.83,0l1.4,1.43a1.91,1.91,0,0,1,.58,1.4,1.91,1.91,0,0,1-.58,1.4L9.25,21ZM18.45,9,17,7.55Zm-12,3A5.31,5.31,0,0,0,4.9,8.1,5.31,5.31,0,0,0,1,6.5,5.31,5.31,0,0,0,4.9,4.9,5.31,5.31,0,0,0,6.5,1,5.31,5.31,0,0,0,8.1,4.9,5.31,5.31,0,0,0,12,6.5,5.46,5.46,0,0,0,6.5,12Z\"/>\n",
              "  </svg>\n",
              "    </button>\n",
              "    <script>\n",
              "      (() => {\n",
              "      const buttonEl =\n",
              "        document.querySelector('#id_6faaf3d8-eafd-47fa-b45a-e31b569981b0 button.colab-df-generate');\n",
              "      buttonEl.style.display =\n",
              "        google.colab.kernel.accessAllowed ? 'block' : 'none';\n",
              "\n",
              "      buttonEl.onclick = () => {\n",
              "        google.colab.notebook.generateWithVariable('importance_df');\n",
              "      }\n",
              "      })();\n",
              "    </script>\n",
              "  </div>\n",
              "\n",
              "    </div>\n",
              "  </div>\n"
            ],
            "application/vnd.google.colaboratory.intrinsic+json": {
              "type": "dataframe",
              "variable_name": "importance_df",
              "summary": "{\n  \"name\": \"importance_df\",\n  \"rows\": 33,\n  \"fields\": [\n    {\n      \"column\": \"Feature\",\n      \"properties\": {\n        \"dtype\": \"string\",\n        \"num_unique_values\": 33,\n        \"samples\": [\n          \"quarter\",\n          \"Condition\",\n          \"is_black_friday\"\n        ],\n        \"semantic_type\": \"\",\n        \"description\": \"\"\n      }\n    },\n    {\n      \"column\": \"Importance\",\n      \"properties\": {\n        \"dtype\": \"float32\",\n        \"num_unique_values\": 26,\n        \"samples\": [\n          0.03813646733760834,\n          0.020454740151762962,\n          0.13172225654125214\n        ],\n        \"semantic_type\": \"\",\n        \"description\": \"\"\n      }\n    }\n  ]\n}"
            }
          },
          "metadata": {},
          "execution_count": 154
        }
      ]
    },
    {
      "cell_type": "code",
      "source": [
        "feature_names = X_train.columns.tolist()\n",
        "print(\"Feature Names:\", feature_names)"
      ],
      "metadata": {
        "colab": {
          "base_uri": "https://localhost:8080/"
        },
        "id": "sK3EaLjny3WB",
        "outputId": "739bdeb7-30b9-450c-d64e-4a55cb8d781d"
      },
      "execution_count": null,
      "outputs": [
        {
          "output_type": "stream",
          "name": "stdout",
          "text": [
            "Feature Names: ['CONSIGNEE_PROVINCE', 'Temperature', 'Humidity', 'Wind_Speed', 'Condition', 'Dew_Point', 'Wind', 'Wind_Gust', 'Pressure', 'Precip', 'CONSIGNEE_TAMBON', 'CONSIGNEE_AMPHUR', 'CONSIGNEE_ZIPCODE', 'ITEM_CODE', 'ITEM_NAMEในระบบ', 'UNIT_NAME', 'REG_Code', 'DEST_CODE', 'Category', 'is_payday', 'is_end_of_month', 'is_significant_day', 'is_black_friday', 'is_halloween', 'is_christmas', 'is_new_year', 'month', 'day', 'day_of_week', 'day_of_year', 'quarter', 'is_weekend', 'ITEM_DESC_CLEAN_labelencoding']\n"
          ]
        }
      ]
    },
    {
      "cell_type": "markdown",
      "source": [
        "#optuna + xgboost"
      ],
      "metadata": {
        "id": "PsEezlZH1HLj"
      }
    },
    {
      "cell_type": "code",
      "source": [
        "!pip install -q optuna"
      ],
      "metadata": {
        "colab": {
          "base_uri": "https://localhost:8080/"
        },
        "id": "A4bcMXV71lLK",
        "outputId": "026e200f-7ed5-4637-dd86-ca92bce11828"
      },
      "execution_count": null,
      "outputs": [
        {
          "output_type": "stream",
          "name": "stdout",
          "text": [
            "\u001b[?25l   \u001b[90m━━━━━━━━━━━━━━━━━━━━━━━━━━━━━━━━━━━━━━━━\u001b[0m \u001b[32m0.0/362.8 kB\u001b[0m \u001b[31m?\u001b[0m eta \u001b[36m-:--:--\u001b[0m\r\u001b[2K   \u001b[91m━━━━━━━━━━━━━━━━━━━━━━━━━━━━━━━━━━━━━━━\u001b[0m\u001b[91m╸\u001b[0m \u001b[32m358.4/362.8 kB\u001b[0m \u001b[31m17.0 MB/s\u001b[0m eta \u001b[36m0:00:01\u001b[0m\r\u001b[2K   \u001b[90m━━━━━━━━━━━━━━━━━━━━━━━━━━━━━━━━━━━━━━━━\u001b[0m \u001b[32m362.8/362.8 kB\u001b[0m \u001b[31m9.7 MB/s\u001b[0m eta \u001b[36m0:00:00\u001b[0m\n",
            "\u001b[2K   \u001b[90m━━━━━━━━━━━━━━━━━━━━━━━━━━━━━━━━━━━━━━━━\u001b[0m \u001b[32m233.0/233.0 kB\u001b[0m \u001b[31m14.7 MB/s\u001b[0m eta \u001b[36m0:00:00\u001b[0m\n",
            "\u001b[2K   \u001b[90m━━━━━━━━━━━━━━━━━━━━━━━━━━━━━━━━━━━━━━━━\u001b[0m \u001b[32m78.6/78.6 kB\u001b[0m \u001b[31m4.9 MB/s\u001b[0m eta \u001b[36m0:00:00\u001b[0m\n",
            "\u001b[?25h"
          ]
        }
      ]
    },
    {
      "cell_type": "code",
      "source": [
        "import optuna\n",
        "import xgboost as xgb\n",
        "import numpy as np\n",
        "from sklearn.metrics import mean_squared_error\n",
        "from sklearn.model_selection import train_test_split\n",
        "\n",
        "def objective(trial):\n",
        "    params = {\n",
        "        'n_estimators': trial.suggest_int('n_estimators', 100, 2000),\n",
        "        'learning_rate': trial.suggest_float('learning_rate', 0.01, 0.3),\n",
        "        'max_depth': trial.suggest_int('max_depth', 3, 10),\n",
        "        'min_child_weight': trial.suggest_int('min_child_weight', 1, 10),\n",
        "        'subsample': trial.suggest_float('subsample', 0.5, 1.0),\n",
        "        'colsample_bytree': trial.suggest_float('colsample_bytree', 0.5, 1.0),\n",
        "        'gamma': trial.suggest_float('gamma', 0.0, 5.0),\n",
        "        'lambda': trial.suggest_float('lambda', 1e-3, 10.0),\n",
        "        'alpha': trial.suggest_float('alpha', 1e-3, 10.0),\n",
        "        'eval_metric': 'rmse'\n",
        "    }\n",
        "\n",
        "    model = xgb.XGBRegressor(**params, random_state=42)\n",
        "\n",
        "    model.fit(\n",
        "        X_train, y_train,\n",
        "        eval_set=[(X_val, y_val)],\n",
        "        verbose=False,\n",
        "    )\n",
        "\n",
        "    y_pred = model.predict(X_val)\n",
        "    rmse = np.sqrt(mean_squared_error(y_val, y_pred))\n",
        "\n",
        "    return rmse\n",
        "\n",
        "study = optuna.create_study(direction='minimize')\n",
        "study.optimize(objective, n_trials=10)\n",
        "\n",
        "print(\"Best parameters: \", study.best_params)\n",
        "\n",
        "best_params = study.best_params\n",
        "xgb_model = xgb.XGBRegressor(**best_params, random_state=42)\n",
        "\n",
        "xgb_model.fit(X_train, y_train, eval_set=[(X_val, y_val)], verbose=10)\n",
        "\n",
        "y_pred = xgb_model.predict(X_val)\n",
        "rmse = np.sqrt(mean_squared_error(y_val, y_pred))\n",
        "print(f\"Best RMSE: {rmse}\")"
      ],
      "metadata": {
        "id": "05RcWFmt1EeV",
        "colab": {
          "base_uri": "https://localhost:8080/"
        },
        "outputId": "56902dd6-bfc3-486b-ac33-790c8902c09e"
      },
      "execution_count": null,
      "outputs": [
        {
          "output_type": "stream",
          "name": "stderr",
          "text": [
            "[I 2024-09-14 09:23:02,157] A new study created in memory with name: no-name-7303ed6e-06b5-48b1-8315-ae9bf7c25bf2\n",
            "[I 2024-09-14 09:24:17,112] Trial 0 finished with value: 13.743588170606106 and parameters: {'n_estimators': 345, 'learning_rate': 0.24221812756510813, 'max_depth': 9, 'min_child_weight': 4, 'subsample': 0.704833375903668, 'colsample_bytree': 0.5901893380860188, 'gamma': 0.7117288839458713, 'lambda': 1.9581995648017914, 'alpha': 5.438485777204113}. Best is trial 0 with value: 13.743588170606106.\n",
            "[I 2024-09-14 09:28:38,218] Trial 1 finished with value: 13.811705547179782 and parameters: {'n_estimators': 1671, 'learning_rate': 0.2847057043483541, 'max_depth': 4, 'min_child_weight': 1, 'subsample': 0.6852263884023538, 'colsample_bytree': 0.7716876804304654, 'gamma': 0.0655619622878495, 'lambda': 8.785469716947008, 'alpha': 1.7472530415309309}. Best is trial 0 with value: 13.743588170606106.\n",
            "[I 2024-09-14 09:31:37,477] Trial 2 finished with value: 13.942063073011923 and parameters: {'n_estimators': 1123, 'learning_rate': 0.07247728715575132, 'max_depth': 4, 'min_child_weight': 2, 'subsample': 0.7736480573758675, 'colsample_bytree': 0.5890553405780823, 'gamma': 0.6149858674562197, 'lambda': 0.824065622600276, 'alpha': 3.329079188987567}. Best is trial 0 with value: 13.743588170606106.\n",
            "[I 2024-09-14 09:35:04,149] Trial 3 finished with value: 13.710596006268425 and parameters: {'n_estimators': 975, 'learning_rate': 0.11336204161811836, 'max_depth': 9, 'min_child_weight': 9, 'subsample': 0.6472558737787388, 'colsample_bytree': 0.505999421889101, 'gamma': 0.6976768245994008, 'lambda': 0.9577069066547698, 'alpha': 2.1322309750417983}. Best is trial 3 with value: 13.710596006268425.\n",
            "[I 2024-09-14 09:37:09,563] Trial 4 finished with value: 14.015759329606004 and parameters: {'n_estimators': 569, 'learning_rate': 0.2690831272937018, 'max_depth': 9, 'min_child_weight': 1, 'subsample': 0.5707616990660063, 'colsample_bytree': 0.5389874053431214, 'gamma': 3.262559775653091, 'lambda': 5.427978397257171, 'alpha': 2.1104578375741485}. Best is trial 3 with value: 13.710596006268425.\n",
            "[I 2024-09-14 09:41:38,799] Trial 5 finished with value: 13.693782889200273 and parameters: {'n_estimators': 1652, 'learning_rate': 0.2641403318257994, 'max_depth': 4, 'min_child_weight': 7, 'subsample': 0.8554720920670479, 'colsample_bytree': 0.8768984501765488, 'gamma': 1.0517348589358366, 'lambda': 5.515043804535658, 'alpha': 2.135453399144493}. Best is trial 5 with value: 13.693782889200273.\n",
            "[I 2024-09-14 09:45:39,347] Trial 6 finished with value: 13.801778368447279 and parameters: {'n_estimators': 1259, 'learning_rate': 0.24700736005876217, 'max_depth': 7, 'min_child_weight': 1, 'subsample': 0.5728742361088843, 'colsample_bytree': 0.7463069176355257, 'gamma': 1.2882490201514747, 'lambda': 9.187987490507304, 'alpha': 9.963607286221245}. Best is trial 5 with value: 13.693782889200273.\n",
            "[I 2024-09-14 09:50:10,434] Trial 7 finished with value: 13.717569115004896 and parameters: {'n_estimators': 1323, 'learning_rate': 0.19237046806805774, 'max_depth': 8, 'min_child_weight': 2, 'subsample': 0.7442183221939735, 'colsample_bytree': 0.6559904128365099, 'gamma': 1.4969417979924575, 'lambda': 8.744852723713628, 'alpha': 4.779814163350609}. Best is trial 5 with value: 13.693782889200273.\n",
            "[I 2024-09-14 09:54:39,703] Trial 8 finished with value: 13.811478280882609 and parameters: {'n_estimators': 1613, 'learning_rate': 0.032464333558143016, 'max_depth': 5, 'min_child_weight': 10, 'subsample': 0.5721383997577723, 'colsample_bytree': 0.891102064543872, 'gamma': 1.2061126085634206, 'lambda': 6.2249686089911975, 'alpha': 2.1799383406269315}. Best is trial 5 with value: 13.693782889200273.\n",
            "[I 2024-09-14 09:59:21,027] Trial 9 finished with value: 13.598349953913122 and parameters: {'n_estimators': 1726, 'learning_rate': 0.13310461698711107, 'max_depth': 5, 'min_child_weight': 2, 'subsample': 0.780452726854035, 'colsample_bytree': 0.7995545057930185, 'gamma': 4.184203871296922, 'lambda': 4.213747950836902, 'alpha': 8.679664880417572}. Best is trial 9 with value: 13.598349953913122.\n"
          ]
        },
        {
          "output_type": "stream",
          "name": "stdout",
          "text": [
            "Best parameters:  {'n_estimators': 1726, 'learning_rate': 0.13310461698711107, 'max_depth': 5, 'min_child_weight': 2, 'subsample': 0.780452726854035, 'colsample_bytree': 0.7995545057930185, 'gamma': 4.184203871296922, 'lambda': 4.213747950836902, 'alpha': 8.679664880417572}\n",
            "[0]\tvalidation_0-rmse:17.77154\n",
            "[10]\tvalidation_0-rmse:15.56547\n",
            "[20]\tvalidation_0-rmse:15.05371\n",
            "[30]\tvalidation_0-rmse:14.73941\n",
            "[40]\tvalidation_0-rmse:14.50380\n",
            "[50]\tvalidation_0-rmse:14.38122\n",
            "[60]\tvalidation_0-rmse:14.29637\n",
            "[70]\tvalidation_0-rmse:14.23486\n",
            "[80]\tvalidation_0-rmse:14.17032\n",
            "[90]\tvalidation_0-rmse:14.09783\n",
            "[100]\tvalidation_0-rmse:14.06179\n",
            "[110]\tvalidation_0-rmse:14.01760\n",
            "[120]\tvalidation_0-rmse:13.97544\n",
            "[130]\tvalidation_0-rmse:13.96682\n",
            "[140]\tvalidation_0-rmse:13.93490\n",
            "[150]\tvalidation_0-rmse:13.91652\n",
            "[160]\tvalidation_0-rmse:13.89631\n",
            "[170]\tvalidation_0-rmse:13.88093\n",
            "[180]\tvalidation_0-rmse:13.85744\n",
            "[190]\tvalidation_0-rmse:13.84497\n",
            "[200]\tvalidation_0-rmse:13.82651\n",
            "[210]\tvalidation_0-rmse:13.82424\n",
            "[220]\tvalidation_0-rmse:13.82075\n",
            "[230]\tvalidation_0-rmse:13.81091\n",
            "[240]\tvalidation_0-rmse:13.80293\n",
            "[250]\tvalidation_0-rmse:13.79433\n",
            "[260]\tvalidation_0-rmse:13.79973\n",
            "[270]\tvalidation_0-rmse:13.79369\n",
            "[280]\tvalidation_0-rmse:13.78331\n",
            "[290]\tvalidation_0-rmse:13.77715\n",
            "[300]\tvalidation_0-rmse:13.77407\n",
            "[310]\tvalidation_0-rmse:13.76345\n",
            "[320]\tvalidation_0-rmse:13.75555\n",
            "[330]\tvalidation_0-rmse:13.75098\n",
            "[340]\tvalidation_0-rmse:13.75086\n",
            "[350]\tvalidation_0-rmse:13.74452\n",
            "[360]\tvalidation_0-rmse:13.74033\n",
            "[370]\tvalidation_0-rmse:13.72537\n",
            "[380]\tvalidation_0-rmse:13.71864\n",
            "[390]\tvalidation_0-rmse:13.72048\n",
            "[400]\tvalidation_0-rmse:13.71403\n",
            "[410]\tvalidation_0-rmse:13.72008\n",
            "[420]\tvalidation_0-rmse:13.72121\n",
            "[430]\tvalidation_0-rmse:13.71623\n",
            "[440]\tvalidation_0-rmse:13.70605\n",
            "[450]\tvalidation_0-rmse:13.69628\n",
            "[460]\tvalidation_0-rmse:13.70120\n",
            "[470]\tvalidation_0-rmse:13.70073\n",
            "[480]\tvalidation_0-rmse:13.68935\n",
            "[490]\tvalidation_0-rmse:13.68239\n",
            "[500]\tvalidation_0-rmse:13.67722\n",
            "[510]\tvalidation_0-rmse:13.67365\n",
            "[520]\tvalidation_0-rmse:13.67045\n",
            "[530]\tvalidation_0-rmse:13.66462\n",
            "[540]\tvalidation_0-rmse:13.65848\n",
            "[550]\tvalidation_0-rmse:13.65413\n",
            "[560]\tvalidation_0-rmse:13.65291\n",
            "[570]\tvalidation_0-rmse:13.65381\n",
            "[580]\tvalidation_0-rmse:13.65573\n",
            "[590]\tvalidation_0-rmse:13.65228\n",
            "[600]\tvalidation_0-rmse:13.65171\n",
            "[610]\tvalidation_0-rmse:13.65473\n",
            "[620]\tvalidation_0-rmse:13.65240\n",
            "[630]\tvalidation_0-rmse:13.65371\n",
            "[640]\tvalidation_0-rmse:13.64868\n",
            "[650]\tvalidation_0-rmse:13.65263\n",
            "[660]\tvalidation_0-rmse:13.63311\n",
            "[670]\tvalidation_0-rmse:13.63572\n",
            "[680]\tvalidation_0-rmse:13.62701\n",
            "[690]\tvalidation_0-rmse:13.63286\n",
            "[700]\tvalidation_0-rmse:13.62888\n",
            "[710]\tvalidation_0-rmse:13.62758\n",
            "[720]\tvalidation_0-rmse:13.62834\n",
            "[730]\tvalidation_0-rmse:13.63399\n",
            "[740]\tvalidation_0-rmse:13.63344\n",
            "[750]\tvalidation_0-rmse:13.62821\n",
            "[760]\tvalidation_0-rmse:13.62861\n",
            "[770]\tvalidation_0-rmse:13.62453\n",
            "[780]\tvalidation_0-rmse:13.62209\n",
            "[790]\tvalidation_0-rmse:13.61198\n",
            "[800]\tvalidation_0-rmse:13.61220\n",
            "[810]\tvalidation_0-rmse:13.61145\n",
            "[820]\tvalidation_0-rmse:13.60858\n",
            "[830]\tvalidation_0-rmse:13.60817\n",
            "[840]\tvalidation_0-rmse:13.60844\n",
            "[850]\tvalidation_0-rmse:13.60823\n",
            "[860]\tvalidation_0-rmse:13.60767\n",
            "[870]\tvalidation_0-rmse:13.60899\n",
            "[880]\tvalidation_0-rmse:13.60716\n",
            "[890]\tvalidation_0-rmse:13.60204\n",
            "[900]\tvalidation_0-rmse:13.59647\n",
            "[910]\tvalidation_0-rmse:13.58552\n",
            "[920]\tvalidation_0-rmse:13.58780\n",
            "[930]\tvalidation_0-rmse:13.58258\n",
            "[940]\tvalidation_0-rmse:13.57827\n",
            "[950]\tvalidation_0-rmse:13.57462\n",
            "[960]\tvalidation_0-rmse:13.57741\n",
            "[970]\tvalidation_0-rmse:13.57490\n",
            "[980]\tvalidation_0-rmse:13.57381\n",
            "[990]\tvalidation_0-rmse:13.57957\n",
            "[1000]\tvalidation_0-rmse:13.57689\n",
            "[1010]\tvalidation_0-rmse:13.57742\n",
            "[1020]\tvalidation_0-rmse:13.57881\n",
            "[1030]\tvalidation_0-rmse:13.58618\n",
            "[1040]\tvalidation_0-rmse:13.58183\n",
            "[1050]\tvalidation_0-rmse:13.57844\n",
            "[1060]\tvalidation_0-rmse:13.57924\n",
            "[1070]\tvalidation_0-rmse:13.57765\n",
            "[1080]\tvalidation_0-rmse:13.57699\n",
            "[1090]\tvalidation_0-rmse:13.57119\n",
            "[1100]\tvalidation_0-rmse:13.57567\n",
            "[1110]\tvalidation_0-rmse:13.57980\n",
            "[1120]\tvalidation_0-rmse:13.57603\n",
            "[1130]\tvalidation_0-rmse:13.57827\n",
            "[1140]\tvalidation_0-rmse:13.57482\n",
            "[1150]\tvalidation_0-rmse:13.57801\n",
            "[1160]\tvalidation_0-rmse:13.56790\n",
            "[1170]\tvalidation_0-rmse:13.56560\n",
            "[1180]\tvalidation_0-rmse:13.56317\n",
            "[1190]\tvalidation_0-rmse:13.56198\n",
            "[1200]\tvalidation_0-rmse:13.56917\n",
            "[1210]\tvalidation_0-rmse:13.56438\n",
            "[1220]\tvalidation_0-rmse:13.56936\n",
            "[1230]\tvalidation_0-rmse:13.56840\n",
            "[1240]\tvalidation_0-rmse:13.56800\n",
            "[1250]\tvalidation_0-rmse:13.56823\n",
            "[1260]\tvalidation_0-rmse:13.56887\n",
            "[1270]\tvalidation_0-rmse:13.57266\n",
            "[1280]\tvalidation_0-rmse:13.56426\n",
            "[1290]\tvalidation_0-rmse:13.56587\n",
            "[1300]\tvalidation_0-rmse:13.56926\n",
            "[1310]\tvalidation_0-rmse:13.57288\n",
            "[1320]\tvalidation_0-rmse:13.57096\n",
            "[1330]\tvalidation_0-rmse:13.56340\n",
            "[1340]\tvalidation_0-rmse:13.56878\n",
            "[1350]\tvalidation_0-rmse:13.56982\n",
            "[1360]\tvalidation_0-rmse:13.57242\n",
            "[1370]\tvalidation_0-rmse:13.57075\n",
            "[1380]\tvalidation_0-rmse:13.57080\n",
            "[1390]\tvalidation_0-rmse:13.57019\n",
            "[1400]\tvalidation_0-rmse:13.56750\n",
            "[1410]\tvalidation_0-rmse:13.57005\n",
            "[1420]\tvalidation_0-rmse:13.56896\n",
            "[1430]\tvalidation_0-rmse:13.57094\n",
            "[1440]\tvalidation_0-rmse:13.57352\n",
            "[1450]\tvalidation_0-rmse:13.57404\n",
            "[1460]\tvalidation_0-rmse:13.57161\n",
            "[1470]\tvalidation_0-rmse:13.57419\n",
            "[1480]\tvalidation_0-rmse:13.57407\n",
            "[1490]\tvalidation_0-rmse:13.57577\n",
            "[1500]\tvalidation_0-rmse:13.57841\n",
            "[1510]\tvalidation_0-rmse:13.57852\n",
            "[1520]\tvalidation_0-rmse:13.57967\n",
            "[1530]\tvalidation_0-rmse:13.58412\n",
            "[1540]\tvalidation_0-rmse:13.58540\n",
            "[1550]\tvalidation_0-rmse:13.58579\n",
            "[1560]\tvalidation_0-rmse:13.58779\n",
            "[1570]\tvalidation_0-rmse:13.58570\n",
            "[1580]\tvalidation_0-rmse:13.58581\n",
            "[1590]\tvalidation_0-rmse:13.58400\n",
            "[1600]\tvalidation_0-rmse:13.58473\n",
            "[1610]\tvalidation_0-rmse:13.58625\n",
            "[1620]\tvalidation_0-rmse:13.58530\n",
            "[1630]\tvalidation_0-rmse:13.58141\n",
            "[1640]\tvalidation_0-rmse:13.58194\n",
            "[1650]\tvalidation_0-rmse:13.58707\n",
            "[1660]\tvalidation_0-rmse:13.58831\n",
            "[1670]\tvalidation_0-rmse:13.58459\n",
            "[1680]\tvalidation_0-rmse:13.58576\n",
            "[1690]\tvalidation_0-rmse:13.58820\n",
            "[1700]\tvalidation_0-rmse:13.58663\n",
            "[1710]\tvalidation_0-rmse:13.58487\n",
            "[1720]\tvalidation_0-rmse:13.59041\n",
            "[1725]\tvalidation_0-rmse:13.59835\n",
            "Best RMSE: 13.598349953913122\n"
          ]
        }
      ]
    },
    {
      "cell_type": "code",
      "source": [
        "rmse = np.sqrt(mean_squared_error(y_val, y_pred))\n",
        "mse = mean_squared_error(y_val, y_pred)\n",
        "r2 = xgb_model.score(X_val, y_val)"
      ],
      "metadata": {
        "id": "UoTpkZhLzlYz"
      },
      "execution_count": null,
      "outputs": []
    },
    {
      "cell_type": "code",
      "source": [
        "print(\"Testing performance\")\n",
        "print('RMSE: {:.2f}'.format(rmse))\n",
        "print('MSE: {:.2f}'.format(mse))\n",
        "print('R2: {:.2f}'.format(r2))"
      ],
      "metadata": {
        "colab": {
          "base_uri": "https://localhost:8080/"
        },
        "id": "RmvMLHmQ2tYF",
        "outputId": "dce3388a-d071-4d6f-b31f-8bcfd4a89129"
      },
      "execution_count": null,
      "outputs": [
        {
          "output_type": "stream",
          "name": "stdout",
          "text": [
            "Testing performance\n",
            "RMSE: 13.60\n",
            "MSE: 184.92\n",
            "R2: 0.46\n"
          ]
        }
      ]
    },
    {
      "cell_type": "markdown",
      "source": [
        "#xgboost + drop importance = 0"
      ],
      "metadata": {
        "id": "CNYhg7TE0S31"
      }
    },
    {
      "cell_type": "code",
      "source": [
        "feature = ['CONSIGNEE_PROVINCE', 'Temperature', 'Humidity', 'Wind_Speed', 'Condition', 'Dew_Point', 'Wind', 'Wind_Gust', 'Pressure', 'CONSIGNEE_TAMBON', 'CONSIGNEE_AMPHUR', 'CONSIGNEE_ZIPCODE', 'ITEM_CODE', 'ITEM_NAMEในระบบ', 'UNIT_NAME', 'REG_Code', 'DEST_CODE', 'Category', 'is_payday', 'month', 'day', 'day_of_week', 'day_of_year','ITEM_DESC_CLEAN_labelencoding']"
      ],
      "metadata": {
        "id": "x5YtMAQxNDb_"
      },
      "execution_count": null,
      "outputs": []
    },
    {
      "cell_type": "code",
      "source": [
        "from sklearn.model_selection import train_test_split\n",
        "\n",
        "X = Datawithoutbill_df[feature]\n",
        "y = Datawithoutbill_df[\"QTY\"]\n",
        "\n",
        "X_train, X_val, y_train, y_val = train_test_split(X, y, test_size=0.2, random_state=42)"
      ],
      "metadata": {
        "id": "yxU4pheYM8nc"
      },
      "execution_count": null,
      "outputs": []
    },
    {
      "cell_type": "code",
      "source": [
        "xgb_model = xgb.XGBRegressor(n_estimators=500, learning_rate=0.1)\n",
        "\n",
        "xgb_model.fit(X_train, y_train, eval_set=[(X_val, y_val)], verbose=10)\n",
        "\n",
        "y_pred = xgb_model.predict(X_val)\n",
        "\n",
        "rmse = np.sqrt(mean_squared_error(y_val, y_pred))\n",
        "print(f\"RMSE: {rmse}\")"
      ],
      "metadata": {
        "colab": {
          "base_uri": "https://localhost:8080/"
        },
        "id": "5SfXhXHXOC54",
        "outputId": "eb133478-3fea-4a5a-8554-b905b761896e"
      },
      "execution_count": null,
      "outputs": [
        {
          "output_type": "stream",
          "name": "stdout",
          "text": [
            "[0]\tvalidation_0-rmse:17.89361\n",
            "[10]\tvalidation_0-rmse:15.62936\n",
            "[20]\tvalidation_0-rmse:15.01250\n",
            "[30]\tvalidation_0-rmse:14.69228\n",
            "[40]\tvalidation_0-rmse:14.39771\n",
            "[50]\tvalidation_0-rmse:14.18310\n",
            "[60]\tvalidation_0-rmse:14.08300\n",
            "[70]\tvalidation_0-rmse:13.99332\n",
            "[80]\tvalidation_0-rmse:13.93353\n",
            "[90]\tvalidation_0-rmse:13.89160\n",
            "[100]\tvalidation_0-rmse:13.83810\n",
            "[110]\tvalidation_0-rmse:13.78432\n",
            "[120]\tvalidation_0-rmse:13.75874\n",
            "[130]\tvalidation_0-rmse:13.69944\n",
            "[140]\tvalidation_0-rmse:13.65754\n",
            "[150]\tvalidation_0-rmse:13.63008\n",
            "[160]\tvalidation_0-rmse:13.60241\n",
            "[170]\tvalidation_0-rmse:13.59172\n",
            "[180]\tvalidation_0-rmse:13.57867\n",
            "[190]\tvalidation_0-rmse:13.55526\n",
            "[200]\tvalidation_0-rmse:13.53607\n",
            "[210]\tvalidation_0-rmse:13.50400\n",
            "[220]\tvalidation_0-rmse:13.48233\n",
            "[230]\tvalidation_0-rmse:13.46755\n",
            "[240]\tvalidation_0-rmse:13.44895\n",
            "[250]\tvalidation_0-rmse:13.44896\n",
            "[260]\tvalidation_0-rmse:13.44781\n",
            "[270]\tvalidation_0-rmse:13.43384\n",
            "[280]\tvalidation_0-rmse:13.41418\n",
            "[290]\tvalidation_0-rmse:13.40287\n",
            "[300]\tvalidation_0-rmse:13.38911\n",
            "[310]\tvalidation_0-rmse:13.37523\n",
            "[320]\tvalidation_0-rmse:13.36188\n",
            "[330]\tvalidation_0-rmse:13.36023\n",
            "[340]\tvalidation_0-rmse:13.35836\n",
            "[350]\tvalidation_0-rmse:13.35051\n",
            "[360]\tvalidation_0-rmse:13.33796\n",
            "[370]\tvalidation_0-rmse:13.33350\n",
            "[380]\tvalidation_0-rmse:13.32935\n",
            "[390]\tvalidation_0-rmse:13.31694\n",
            "[400]\tvalidation_0-rmse:13.30596\n",
            "[410]\tvalidation_0-rmse:13.30248\n",
            "[420]\tvalidation_0-rmse:13.29700\n",
            "[430]\tvalidation_0-rmse:13.29524\n",
            "[440]\tvalidation_0-rmse:13.29244\n",
            "[450]\tvalidation_0-rmse:13.29133\n",
            "[460]\tvalidation_0-rmse:13.29280\n",
            "[470]\tvalidation_0-rmse:13.28613\n",
            "[480]\tvalidation_0-rmse:13.27824\n",
            "[490]\tvalidation_0-rmse:13.27456\n",
            "[499]\tvalidation_0-rmse:13.25953\n",
            "RMSE: 13.259534111476492\n"
          ]
        }
      ]
    },
    {
      "cell_type": "code",
      "source": [
        "rmse = np.sqrt(mean_squared_error(y_val, y_pred))\n",
        "mse = mean_squared_error(y_val, y_pred)\n",
        "r2 = xgb_model.score(X_val, y_val)"
      ],
      "metadata": {
        "id": "ksHduYzGOJ8W"
      },
      "execution_count": null,
      "outputs": []
    },
    {
      "cell_type": "code",
      "source": [
        "print(\"Testing performance\")\n",
        "print('RMSE: {:.2f}'.format(rmse))\n",
        "print('MSE: {:.2f}'.format(mse))\n",
        "print('R2: {:.2f}'.format(r2))"
      ],
      "metadata": {
        "colab": {
          "base_uri": "https://localhost:8080/"
        },
        "id": "f4atbHVgOL25",
        "outputId": "e9e5473e-f503-4ca0-fc3f-30e9fb1840be"
      },
      "execution_count": null,
      "outputs": [
        {
          "output_type": "stream",
          "name": "stdout",
          "text": [
            "Testing performance\n",
            "RMSE: 13.26\n",
            "MSE: 175.82\n",
            "R2: 0.48\n"
          ]
        }
      ]
    },
    {
      "cell_type": "markdown",
      "source": [
        "#xgboost + 10 feature"
      ],
      "metadata": {
        "id": "0FHa4X9fO2Un"
      }
    },
    {
      "cell_type": "code",
      "source": [
        "feature = ['DEST_CODE','UNIT_NAME','ITEM_CODE','REG_Code','ITEM_DESC_CLEAN_labelencoding','ITEM_NAMEในระบบ','CONSIGNEE_TAMBON','CONSIGNEE_ZIPCODE','Category','CONSIGNEE_PROVINCE']"
      ],
      "metadata": {
        "id": "qnbOl6xSO68E"
      },
      "execution_count": null,
      "outputs": []
    },
    {
      "cell_type": "code",
      "source": [
        "from sklearn.model_selection import train_test_split\n",
        "\n",
        "X = Datawithoutbill_df[feature]\n",
        "y = Datawithoutbill_df[\"QTY\"]\n",
        "\n",
        "X_train, X_val, y_train, y_val = train_test_split(X, y, test_size=0.2, random_state=42)"
      ],
      "metadata": {
        "id": "JNpGZCzLPbV_"
      },
      "execution_count": null,
      "outputs": []
    },
    {
      "cell_type": "code",
      "source": [
        "xgb_model = xgb.XGBRegressor(n_estimators=500, learning_rate=0.1)\n",
        "\n",
        "xgb_model.fit(X_train, y_train, eval_set=[(X_val, y_val)], verbose=10)\n",
        "\n",
        "y_pred = xgb_model.predict(X_val)\n",
        "\n",
        "rmse = np.sqrt(mean_squared_error(y_val, y_pred))\n",
        "print(f\"RMSE: {rmse}\")"
      ],
      "metadata": {
        "colab": {
          "base_uri": "https://localhost:8080/"
        },
        "id": "HIc-E9GJPfC2",
        "outputId": "c19d1af0-9d95-400e-abbb-237bf2f4f92c"
      },
      "execution_count": null,
      "outputs": [
        {
          "output_type": "stream",
          "name": "stdout",
          "text": [
            "[0]\tvalidation_0-rmse:17.89328\n",
            "[10]\tvalidation_0-rmse:15.59159\n",
            "[20]\tvalidation_0-rmse:14.97338\n",
            "[30]\tvalidation_0-rmse:14.60930\n",
            "[40]\tvalidation_0-rmse:14.30789\n",
            "[50]\tvalidation_0-rmse:14.09110\n",
            "[60]\tvalidation_0-rmse:13.99452\n",
            "[70]\tvalidation_0-rmse:13.91318\n",
            "[80]\tvalidation_0-rmse:13.84343\n",
            "[90]\tvalidation_0-rmse:13.76031\n",
            "[100]\tvalidation_0-rmse:13.72296\n",
            "[110]\tvalidation_0-rmse:13.67585\n",
            "[120]\tvalidation_0-rmse:13.60866\n",
            "[130]\tvalidation_0-rmse:13.55463\n",
            "[140]\tvalidation_0-rmse:13.50584\n",
            "[150]\tvalidation_0-rmse:13.47648\n",
            "[160]\tvalidation_0-rmse:13.45167\n",
            "[170]\tvalidation_0-rmse:13.42823\n",
            "[180]\tvalidation_0-rmse:13.40600\n",
            "[190]\tvalidation_0-rmse:13.37901\n",
            "[200]\tvalidation_0-rmse:13.35400\n",
            "[210]\tvalidation_0-rmse:13.32895\n",
            "[220]\tvalidation_0-rmse:13.30722\n",
            "[230]\tvalidation_0-rmse:13.28434\n",
            "[240]\tvalidation_0-rmse:13.27217\n",
            "[250]\tvalidation_0-rmse:13.25182\n",
            "[260]\tvalidation_0-rmse:13.23628\n",
            "[270]\tvalidation_0-rmse:13.21631\n",
            "[280]\tvalidation_0-rmse:13.18907\n",
            "[290]\tvalidation_0-rmse:13.17920\n",
            "[300]\tvalidation_0-rmse:13.17124\n",
            "[310]\tvalidation_0-rmse:13.15329\n",
            "[320]\tvalidation_0-rmse:13.13910\n",
            "[330]\tvalidation_0-rmse:13.12649\n",
            "[340]\tvalidation_0-rmse:13.11831\n",
            "[350]\tvalidation_0-rmse:13.11129\n",
            "[360]\tvalidation_0-rmse:13.10651\n",
            "[370]\tvalidation_0-rmse:13.09434\n",
            "[380]\tvalidation_0-rmse:13.08644\n",
            "[390]\tvalidation_0-rmse:13.08002\n",
            "[400]\tvalidation_0-rmse:13.06050\n",
            "[410]\tvalidation_0-rmse:13.04343\n",
            "[420]\tvalidation_0-rmse:13.02625\n",
            "[430]\tvalidation_0-rmse:13.01780\n",
            "[440]\tvalidation_0-rmse:13.00918\n",
            "[450]\tvalidation_0-rmse:13.00315\n",
            "[460]\tvalidation_0-rmse:12.98540\n",
            "[470]\tvalidation_0-rmse:12.97745\n",
            "[480]\tvalidation_0-rmse:12.97072\n",
            "[490]\tvalidation_0-rmse:12.96721\n",
            "[499]\tvalidation_0-rmse:12.96154\n",
            "RMSE: 12.961539274610995\n"
          ]
        }
      ]
    },
    {
      "cell_type": "code",
      "source": [
        "rmse = np.sqrt(mean_squared_error(y_val, y_pred))\n",
        "mse = mean_squared_error(y_val, y_pred)\n",
        "r2 = xgb_model.score(X_val, y_val)"
      ],
      "metadata": {
        "id": "sWCzR8IOPgso"
      },
      "execution_count": null,
      "outputs": []
    },
    {
      "cell_type": "code",
      "source": [
        "print(\"Testing performance\")\n",
        "print('RMSE: {:.2f}'.format(rmse))\n",
        "print('MSE: {:.2f}'.format(mse))\n",
        "print('R2: {:.2f}'.format(r2))"
      ],
      "metadata": {
        "colab": {
          "base_uri": "https://localhost:8080/"
        },
        "id": "nzdseBMsPjLU",
        "outputId": "b03ce52f-0417-4360-d40d-7a9960ee7dc9"
      },
      "execution_count": null,
      "outputs": [
        {
          "output_type": "stream",
          "name": "stdout",
          "text": [
            "Testing performance\n",
            "RMSE: 12.96\n",
            "MSE: 168.00\n",
            "R2: 0.51\n"
          ]
        }
      ]
    },
    {
      "cell_type": "markdown",
      "source": [
        "#xgboost + 20 feature"
      ],
      "metadata": {
        "id": "uFbqeFvTQFAf"
      }
    },
    {
      "cell_type": "code",
      "source": [
        "feature = ['DEST_CODE','UNIT_NAME','ITEM_CODE','REG_Code','ITEM_DESC_CLEAN_labelencoding','ITEM_NAMEในระบบ','CONSIGNEE_TAMBON','CONSIGNEE_ZIPCODE','Category','CONSIGNEE_PROVINCE','day_of_year','month','CONSIGNEE_AMPHUR','Wind_Gust','is_payday','day_of_week','Condition','Wind_Speed','Dew_Point','Humidity','day']"
      ],
      "metadata": {
        "id": "HirDxKAxQX_f"
      },
      "execution_count": null,
      "outputs": []
    },
    {
      "cell_type": "code",
      "source": [
        "from sklearn.model_selection import train_test_split\n",
        "\n",
        "X = Datawithoutbill_df[feature]\n",
        "y = Datawithoutbill_df[\"QTY\"]\n",
        "\n",
        "X_train, X_val, y_train, y_val = train_test_split(X, y, test_size=0.2, random_state=42)"
      ],
      "metadata": {
        "id": "smCpHHc3QHYq"
      },
      "execution_count": null,
      "outputs": []
    },
    {
      "cell_type": "code",
      "source": [
        "xgb_model = xgb.XGBRegressor(n_estimators=500, learning_rate=0.1)\n",
        "\n",
        "xgb_model.fit(X_train, y_train, eval_set=[(X_val, y_val)], verbose=10)\n",
        "\n",
        "y_pred = xgb_model.predict(X_val)\n",
        "\n",
        "rmse = np.sqrt(mean_squared_error(y_val, y_pred))\n",
        "print(f\"RMSE: {rmse}\")"
      ],
      "metadata": {
        "colab": {
          "base_uri": "https://localhost:8080/"
        },
        "id": "7wrQIR1WRZ01",
        "outputId": "3582a03f-c6bc-47cc-d1a9-01fc19f8bc36"
      },
      "execution_count": null,
      "outputs": [
        {
          "output_type": "stream",
          "name": "stdout",
          "text": [
            "[0]\tvalidation_0-rmse:17.89342\n",
            "[10]\tvalidation_0-rmse:15.63219\n",
            "[20]\tvalidation_0-rmse:15.01553\n",
            "[30]\tvalidation_0-rmse:14.70126\n",
            "[40]\tvalidation_0-rmse:14.34501\n",
            "[50]\tvalidation_0-rmse:14.16828\n",
            "[60]\tvalidation_0-rmse:14.08206\n",
            "[70]\tvalidation_0-rmse:13.98927\n",
            "[80]\tvalidation_0-rmse:13.88463\n",
            "[90]\tvalidation_0-rmse:13.83103\n",
            "[100]\tvalidation_0-rmse:13.78785\n",
            "[110]\tvalidation_0-rmse:13.75048\n",
            "[120]\tvalidation_0-rmse:13.71707\n",
            "[130]\tvalidation_0-rmse:13.65320\n",
            "[140]\tvalidation_0-rmse:13.62258\n",
            "[150]\tvalidation_0-rmse:13.60078\n",
            "[160]\tvalidation_0-rmse:13.57286\n",
            "[170]\tvalidation_0-rmse:13.55225\n",
            "[180]\tvalidation_0-rmse:13.53184\n",
            "[190]\tvalidation_0-rmse:13.51546\n",
            "[200]\tvalidation_0-rmse:13.48351\n",
            "[210]\tvalidation_0-rmse:13.47678\n",
            "[220]\tvalidation_0-rmse:13.46737\n",
            "[230]\tvalidation_0-rmse:13.45445\n",
            "[240]\tvalidation_0-rmse:13.43289\n",
            "[250]\tvalidation_0-rmse:13.41218\n",
            "[260]\tvalidation_0-rmse:13.37926\n",
            "[270]\tvalidation_0-rmse:13.36884\n",
            "[280]\tvalidation_0-rmse:13.35455\n",
            "[290]\tvalidation_0-rmse:13.34882\n",
            "[300]\tvalidation_0-rmse:13.34042\n",
            "[310]\tvalidation_0-rmse:13.33409\n",
            "[320]\tvalidation_0-rmse:13.32891\n",
            "[330]\tvalidation_0-rmse:13.32598\n",
            "[340]\tvalidation_0-rmse:13.30311\n",
            "[350]\tvalidation_0-rmse:13.30548\n",
            "[360]\tvalidation_0-rmse:13.29849\n",
            "[370]\tvalidation_0-rmse:13.28783\n",
            "[380]\tvalidation_0-rmse:13.27419\n",
            "[390]\tvalidation_0-rmse:13.25358\n",
            "[400]\tvalidation_0-rmse:13.24441\n",
            "[410]\tvalidation_0-rmse:13.23144\n",
            "[420]\tvalidation_0-rmse:13.23322\n",
            "[430]\tvalidation_0-rmse:13.21930\n",
            "[440]\tvalidation_0-rmse:13.21762\n",
            "[450]\tvalidation_0-rmse:13.21330\n",
            "[460]\tvalidation_0-rmse:13.21268\n",
            "[470]\tvalidation_0-rmse:13.19627\n",
            "[480]\tvalidation_0-rmse:13.19020\n",
            "[490]\tvalidation_0-rmse:13.17680\n",
            "[499]\tvalidation_0-rmse:13.17877\n",
            "RMSE: 13.17877041251362\n"
          ]
        }
      ]
    },
    {
      "cell_type": "code",
      "source": [
        "rmse = np.sqrt(mean_squared_error(y_val, y_pred))\n",
        "mse = mean_squared_error(y_val, y_pred)\n",
        "r2 = xgb_model.score(X_val, y_val)"
      ],
      "metadata": {
        "id": "gn35NesRRbdm"
      },
      "execution_count": null,
      "outputs": []
    },
    {
      "cell_type": "code",
      "source": [
        "print(\"Testing performance\")\n",
        "print('RMSE: {:.2f}'.format(rmse))\n",
        "print('MSE: {:.2f}'.format(mse))\n",
        "print('R2: {:.2f}'.format(r2))"
      ],
      "metadata": {
        "colab": {
          "base_uri": "https://localhost:8080/"
        },
        "id": "YYofxtkZRcxM",
        "outputId": "a7d682f0-e6ca-4310-b9ea-9acf035e0cbd"
      },
      "execution_count": null,
      "outputs": [
        {
          "output_type": "stream",
          "name": "stdout",
          "text": [
            "Testing performance\n",
            "RMSE: 13.18\n",
            "MSE: 173.68\n",
            "R2: 0.49\n"
          ]
        }
      ]
    },
    {
      "cell_type": "markdown",
      "source": [
        "#xgboost + 5 feature"
      ],
      "metadata": {
        "id": "tHzp7l8BR3QY"
      }
    },
    {
      "cell_type": "code",
      "source": [
        "feature = ['DEST_CODE','UNIT_NAME','ITEM_CODE','REG_Code','ITEM_DESC_CLEAN_labelencoding']"
      ],
      "metadata": {
        "id": "gf_odn-rR6WG"
      },
      "execution_count": null,
      "outputs": []
    },
    {
      "cell_type": "code",
      "source": [
        "from sklearn.model_selection import train_test_split\n",
        "\n",
        "X = Datawithoutbill_df[feature]\n",
        "y = Datawithoutbill_df[\"QTY\"]\n",
        "\n",
        "X_train, X_val, y_train, y_val = train_test_split(X, y, test_size=0.2, random_state=42)"
      ],
      "metadata": {
        "id": "5szNdUMbR_TW"
      },
      "execution_count": null,
      "outputs": []
    },
    {
      "cell_type": "code",
      "source": [
        "xgb_model = xgb.XGBRegressor(n_estimators=500, learning_rate=0.1)\n",
        "\n",
        "xgb_model.fit(X_train, y_train, eval_set=[(X_val, y_val)], verbose=10)\n",
        "\n",
        "y_pred = xgb_model.predict(X_val)\n",
        "\n",
        "rmse = np.sqrt(mean_squared_error(y_val, y_pred))\n",
        "print(f\"RMSE: {rmse}\")"
      ],
      "metadata": {
        "colab": {
          "base_uri": "https://localhost:8080/"
        },
        "id": "8IYepCvVSBoB",
        "outputId": "eed89b8f-f32e-44ea-ecad-8e25f442a258"
      },
      "execution_count": null,
      "outputs": [
        {
          "output_type": "stream",
          "name": "stdout",
          "text": [
            "[0]\tvalidation_0-rmse:17.90764\n",
            "[10]\tvalidation_0-rmse:15.62096\n",
            "[20]\tvalidation_0-rmse:15.02182\n",
            "[30]\tvalidation_0-rmse:14.73943\n",
            "[40]\tvalidation_0-rmse:14.53775\n",
            "[50]\tvalidation_0-rmse:14.35572\n",
            "[60]\tvalidation_0-rmse:14.20740\n",
            "[70]\tvalidation_0-rmse:14.12604\n",
            "[80]\tvalidation_0-rmse:14.07743\n",
            "[90]\tvalidation_0-rmse:14.02357\n",
            "[100]\tvalidation_0-rmse:13.94200\n",
            "[110]\tvalidation_0-rmse:13.89129\n",
            "[120]\tvalidation_0-rmse:13.85060\n",
            "[130]\tvalidation_0-rmse:13.81149\n",
            "[140]\tvalidation_0-rmse:13.77720\n",
            "[150]\tvalidation_0-rmse:13.74931\n",
            "[160]\tvalidation_0-rmse:13.73272\n",
            "[170]\tvalidation_0-rmse:13.70298\n",
            "[180]\tvalidation_0-rmse:13.67874\n",
            "[190]\tvalidation_0-rmse:13.66205\n",
            "[200]\tvalidation_0-rmse:13.64018\n",
            "[210]\tvalidation_0-rmse:13.62087\n",
            "[220]\tvalidation_0-rmse:13.60484\n",
            "[230]\tvalidation_0-rmse:13.59758\n",
            "[240]\tvalidation_0-rmse:13.59381\n",
            "[250]\tvalidation_0-rmse:13.58507\n",
            "[260]\tvalidation_0-rmse:13.57858\n",
            "[270]\tvalidation_0-rmse:13.57229\n",
            "[280]\tvalidation_0-rmse:13.56243\n",
            "[290]\tvalidation_0-rmse:13.55335\n",
            "[300]\tvalidation_0-rmse:13.54979\n",
            "[310]\tvalidation_0-rmse:13.54233\n",
            "[320]\tvalidation_0-rmse:13.52737\n",
            "[330]\tvalidation_0-rmse:13.51347\n",
            "[340]\tvalidation_0-rmse:13.50174\n",
            "[350]\tvalidation_0-rmse:13.49101\n",
            "[360]\tvalidation_0-rmse:13.48699\n",
            "[370]\tvalidation_0-rmse:13.48304\n",
            "[380]\tvalidation_0-rmse:13.47419\n",
            "[390]\tvalidation_0-rmse:13.46674\n",
            "[400]\tvalidation_0-rmse:13.45238\n",
            "[410]\tvalidation_0-rmse:13.44793\n",
            "[420]\tvalidation_0-rmse:13.44223\n",
            "[430]\tvalidation_0-rmse:13.43529\n",
            "[440]\tvalidation_0-rmse:13.43348\n",
            "[450]\tvalidation_0-rmse:13.43073\n",
            "[460]\tvalidation_0-rmse:13.42153\n",
            "[470]\tvalidation_0-rmse:13.41580\n",
            "[480]\tvalidation_0-rmse:13.40887\n",
            "[490]\tvalidation_0-rmse:13.40094\n",
            "[499]\tvalidation_0-rmse:13.39521\n",
            "RMSE: 13.39520532532397\n"
          ]
        }
      ]
    },
    {
      "cell_type": "code",
      "source": [
        "rmse = np.sqrt(mean_squared_error(y_val, y_pred))\n",
        "mse = mean_squared_error(y_val, y_pred)\n",
        "r2 = xgb_model.score(X_val, y_val)"
      ],
      "metadata": {
        "id": "NUzLpAFeSFdC"
      },
      "execution_count": null,
      "outputs": []
    },
    {
      "cell_type": "code",
      "source": [
        "print(\"Testing performance\")\n",
        "print('RMSE: {:.2f}'.format(rmse))\n",
        "print('MSE: {:.2f}'.format(mse))\n",
        "print('R2: {:.2f}'.format(r2))"
      ],
      "metadata": {
        "colab": {
          "base_uri": "https://localhost:8080/"
        },
        "id": "fSqzmDHVSF_6",
        "outputId": "c2dfbd17-db51-4b0c-b0a8-ed741ed9676a"
      },
      "execution_count": null,
      "outputs": [
        {
          "output_type": "stream",
          "name": "stdout",
          "text": [
            "Testing performance\n",
            "RMSE: 13.40\n",
            "MSE: 179.43\n",
            "R2: 0.47\n"
          ]
        }
      ]
    },
    {
      "cell_type": "markdown",
      "source": [
        "#xgboost + 7 feature"
      ],
      "metadata": {
        "id": "YbxEv3hiSNSW"
      }
    },
    {
      "cell_type": "code",
      "source": [
        "feature = ['DEST_CODE','UNIT_NAME','ITEM_CODE','REG_Code','ITEM_DESC_CLEAN_labelencoding','ITEM_NAMEในระบบ','CONSIGNEE_TAMBON']"
      ],
      "metadata": {
        "id": "8LXf6Z7lSRv-"
      },
      "execution_count": null,
      "outputs": []
    },
    {
      "cell_type": "code",
      "source": [
        "from sklearn.model_selection import train_test_split\n",
        "\n",
        "X = Datawithoutbill_df[feature]\n",
        "y = Datawithoutbill_df[\"QTY\"]\n",
        "\n",
        "X_train, X_val, y_train, y_val = train_test_split(X, y, test_size=0.2, random_state=42)"
      ],
      "metadata": {
        "id": "4Fd1Vts9SccV"
      },
      "execution_count": null,
      "outputs": []
    },
    {
      "cell_type": "code",
      "source": [
        "xgb_model = xgb.XGBRegressor(n_estimators=500, learning_rate=0.1)\n",
        "\n",
        "xgb_model.fit(X_train, y_train, eval_set=[(X_val, y_val)], verbose=10)\n",
        "\n",
        "y_pred = xgb_model.predict(X_val)\n",
        "\n",
        "rmse = np.sqrt(mean_squared_error(y_val, y_pred))\n",
        "print(f\"RMSE: {rmse}\")\n"
      ],
      "metadata": {
        "colab": {
          "base_uri": "https://localhost:8080/"
        },
        "id": "Bplf32JxSeAO",
        "outputId": "86a8ac47-afdb-4f13-e191-8d401e6a16fb"
      },
      "execution_count": null,
      "outputs": [
        {
          "output_type": "stream",
          "name": "stdout",
          "text": [
            "[0]\tvalidation_0-rmse:17.89649\n",
            "[10]\tvalidation_0-rmse:15.58465\n",
            "[20]\tvalidation_0-rmse:14.97744\n",
            "[30]\tvalidation_0-rmse:14.63763\n",
            "[40]\tvalidation_0-rmse:14.39366\n",
            "[50]\tvalidation_0-rmse:14.20502\n",
            "[60]\tvalidation_0-rmse:14.09102\n",
            "[70]\tvalidation_0-rmse:14.01777\n",
            "[80]\tvalidation_0-rmse:13.95660\n",
            "[90]\tvalidation_0-rmse:13.88350\n",
            "[100]\tvalidation_0-rmse:13.83350\n",
            "[110]\tvalidation_0-rmse:13.76862\n",
            "[120]\tvalidation_0-rmse:13.70981\n",
            "[130]\tvalidation_0-rmse:13.67412\n",
            "[140]\tvalidation_0-rmse:13.62347\n",
            "[150]\tvalidation_0-rmse:13.59408\n",
            "[160]\tvalidation_0-rmse:13.56478\n",
            "[170]\tvalidation_0-rmse:13.54181\n",
            "[180]\tvalidation_0-rmse:13.51264\n",
            "[190]\tvalidation_0-rmse:13.48813\n",
            "[200]\tvalidation_0-rmse:13.45925\n",
            "[210]\tvalidation_0-rmse:13.43658\n",
            "[220]\tvalidation_0-rmse:13.42537\n",
            "[230]\tvalidation_0-rmse:13.41393\n",
            "[240]\tvalidation_0-rmse:13.38917\n",
            "[250]\tvalidation_0-rmse:13.36868\n",
            "[260]\tvalidation_0-rmse:13.35272\n",
            "[270]\tvalidation_0-rmse:13.34206\n",
            "[280]\tvalidation_0-rmse:13.32123\n",
            "[290]\tvalidation_0-rmse:13.31290\n",
            "[300]\tvalidation_0-rmse:13.29247\n",
            "[310]\tvalidation_0-rmse:13.27654\n",
            "[320]\tvalidation_0-rmse:13.25927\n",
            "[330]\tvalidation_0-rmse:13.24792\n",
            "[340]\tvalidation_0-rmse:13.23479\n",
            "[350]\tvalidation_0-rmse:13.21527\n",
            "[360]\tvalidation_0-rmse:13.19434\n",
            "[370]\tvalidation_0-rmse:13.18253\n",
            "[380]\tvalidation_0-rmse:13.17248\n",
            "[390]\tvalidation_0-rmse:13.16416\n",
            "[400]\tvalidation_0-rmse:13.15385\n",
            "[410]\tvalidation_0-rmse:13.13825\n",
            "[420]\tvalidation_0-rmse:13.13278\n",
            "[430]\tvalidation_0-rmse:13.11910\n",
            "[440]\tvalidation_0-rmse:13.10715\n",
            "[450]\tvalidation_0-rmse:13.09394\n",
            "[460]\tvalidation_0-rmse:13.08381\n",
            "[470]\tvalidation_0-rmse:13.08022\n",
            "[480]\tvalidation_0-rmse:13.07442\n",
            "[490]\tvalidation_0-rmse:13.06463\n",
            "[499]\tvalidation_0-rmse:13.06038\n",
            "RMSE: 13.060375107262056\n"
          ]
        }
      ]
    },
    {
      "cell_type": "code",
      "source": [
        "rmse = np.sqrt(mean_squared_error(y_val, y_pred))\n",
        "mse = mean_squared_error(y_val, y_pred)\n",
        "r2 = xgb_model.score(X_val, y_val)"
      ],
      "metadata": {
        "id": "iYP4EHqSShrO"
      },
      "execution_count": null,
      "outputs": []
    },
    {
      "cell_type": "code",
      "source": [
        "print(\"Testing performance\")\n",
        "print('RMSE: {:.2f}'.format(rmse))\n",
        "print('MSE: {:.2f}'.format(mse))\n",
        "print('R2: {:.2f}'.format(r2))"
      ],
      "metadata": {
        "colab": {
          "base_uri": "https://localhost:8080/"
        },
        "id": "ttZuRcv3SjSQ",
        "outputId": "6cb4c150-41b7-4b57-b938-85dfcbf7451d"
      },
      "execution_count": null,
      "outputs": [
        {
          "output_type": "stream",
          "name": "stdout",
          "text": [
            "Testing performance\n",
            "RMSE: 13.06\n",
            "MSE: 170.57\n",
            "R2: 0.50\n"
          ]
        }
      ]
    },
    {
      "cell_type": "code",
      "source": [
        "'''\n",
        "xgboost + all feature + lr=0.1 + n_estimators=500\n",
        "Testing performance\n",
        "RMSE: 13.24\n",
        "MSE: 175.18\n",
        "R2: 0.48\n",
        "\n",
        "xgboost + optuna +all feature + n_trials=10\n",
        "Testing performance\n",
        "RMSE: 13.60\n",
        "MSE: 184.92\n",
        "R2: 0.46\n",
        "\n",
        "xgboost + all feature + lr=0.1 + n_estimators=500 + drop feature importance = 0\n",
        "Testing performance\n",
        "RMSE: 13.26\n",
        "MSE: 175.82\n",
        "R2: 0.48\n",
        "\n",
        "xgboost + all feature + lr=0.1 + n_estimators=500 + 10 feature\n",
        "Testing performance\n",
        "RMSE: 12.96\n",
        "MSE: 168.00\n",
        "R2: 0.51\n",
        "\n",
        "xgboost + all feature + lr=0.1 + n_estimators=500 + 20 feature\n",
        "Testing performance\n",
        "RMSE: 13.18\n",
        "MSE: 173.68\n",
        "R2: 0.49\n",
        "\n",
        "xgboost + all feature + lr=0.1 + n_estimators=500 + 5 feature\n",
        "Testing performance\n",
        "RMSE: 13.40\n",
        "MSE: 179.43\n",
        "R2: 0.47\n",
        "\n",
        "xgboost + all feature + lr=0.1 + n_estimators=500 + 7 feature\n",
        "Testing performance\n",
        "RMSE: 13.06\n",
        "MSE: 170.57\n",
        "R2: 0.50\n",
        "'''"
      ],
      "metadata": {
        "id": "P-Egeu2LzAni",
        "colab": {
          "base_uri": "https://localhost:8080/",
          "height": 36
        },
        "outputId": "581cd5a1-c981-42f7-8550-262255ffe866"
      },
      "execution_count": null,
      "outputs": [
        {
          "output_type": "execute_result",
          "data": {
            "text/plain": [
              "'\\nxgboost + all feature + lr=0.1 + n_estimators=500\\nTesting performance\\nRMSE: 13.24\\nMSE: 175.18\\nR2: 0.48\\n\\nxgboost + optuna +all feature + n_trials=10\\n\\n'"
            ],
            "application/vnd.google.colaboratory.intrinsic+json": {
              "type": "string"
            }
          },
          "metadata": {},
          "execution_count": 18
        }
      ]
    },
    {
      "cell_type": "markdown",
      "source": [
        "#|||||||||||||||||||||||||||||||||||||||||||||||||||||||||||||||||||||||||||||||"
      ],
      "metadata": {
        "id": "tGYmgrdrgy-C"
      }
    },
    {
      "cell_type": "markdown",
      "source": [
        "#catboost + all feature"
      ],
      "metadata": {
        "id": "xBAbCzXbTsJt"
      }
    },
    {
      "cell_type": "code",
      "source": [
        "!pip install -q catboost"
      ],
      "metadata": {
        "colab": {
          "base_uri": "https://localhost:8080/"
        },
        "id": "Nrzof9QMTwM-",
        "outputId": "4b7852ff-5cb5-4616-99b5-4fac3f8efeab"
      },
      "execution_count": null,
      "outputs": [
        {
          "output_type": "stream",
          "name": "stdout",
          "text": [
            "\u001b[2K   \u001b[90m━━━━━━━━━━━━━━━━━━━━━━━━━━━━━━━━━━━━━━━━\u001b[0m \u001b[32m98.7/98.7 MB\u001b[0m \u001b[31m5.8 MB/s\u001b[0m eta \u001b[36m0:00:00\u001b[0m\n",
            "\u001b[?25h"
          ]
        }
      ]
    },
    {
      "cell_type": "code",
      "source": [
        "from sklearn.model_selection import train_test_split\n",
        "\n",
        "X = Datawithoutbill_df.drop(columns=[\"QTY\"])\n",
        "y = Datawithoutbill_df[\"QTY\"]\n",
        "\n",
        "X_train, X_val, y_train, y_val = train_test_split(X, y, test_size=0.2, random_state=42)"
      ],
      "metadata": {
        "id": "UkF67OxLTx2D"
      },
      "execution_count": null,
      "outputs": []
    },
    {
      "cell_type": "code",
      "source": [
        "from catboost import CatBoostRegressor\n",
        "import numpy as np\n",
        "from sklearn.metrics import mean_squared_error\n",
        "model = CatBoostRegressor(iterations=500,\n",
        "                          learning_rate=0.1,\n",
        "                          depth=6,\n",
        "                          verbose=100)"
      ],
      "metadata": {
        "id": "iozNmoi2Ufq1"
      },
      "execution_count": null,
      "outputs": []
    },
    {
      "cell_type": "code",
      "source": [
        "model.fit(X_train, y_train,\n",
        "          eval_set=(X_val, y_val),\n",
        "          cat_features=[],\n",
        "          early_stopping_rounds=100)"
      ],
      "metadata": {
        "colab": {
          "base_uri": "https://localhost:8080/"
        },
        "id": "T46buqBpUnJj",
        "outputId": "fe893772-9f1e-4a29-a07e-d56ba8365343"
      },
      "execution_count": null,
      "outputs": [
        {
          "output_type": "stream",
          "name": "stdout",
          "text": [
            "0:\tlearn: 17.8559581\ttest: 18.0503880\tbest: 18.0503880 (0)\ttotal: 374ms\tremaining: 3m 6s\n",
            "100:\tlearn: 14.1005860\ttest: 14.4664931\tbest: 14.4664931 (100)\ttotal: 16.2s\tremaining: 1m 3s\n",
            "200:\tlearn: 13.6312512\ttest: 14.0377787\tbest: 14.0377787 (200)\ttotal: 36.4s\tremaining: 54.2s\n",
            "300:\tlearn: 13.3498564\ttest: 13.8109878\tbest: 13.8109878 (300)\ttotal: 49.9s\tremaining: 33s\n",
            "400:\tlearn: 13.1502006\ttest: 13.6565045\tbest: 13.6565045 (400)\ttotal: 1m 6s\tremaining: 16.3s\n",
            "499:\tlearn: 12.9852839\ttest: 13.5356257\tbest: 13.5325292 (498)\ttotal: 1m 19s\tremaining: 0us\n",
            "\n",
            "bestTest = 13.5325292\n",
            "bestIteration = 498\n",
            "\n",
            "Shrink model to first 499 iterations.\n"
          ]
        },
        {
          "output_type": "execute_result",
          "data": {
            "text/plain": [
              "<catboost.core.CatBoostRegressor at 0x7881e9bdfd60>"
            ]
          },
          "metadata": {},
          "execution_count": 52
        }
      ]
    },
    {
      "cell_type": "code",
      "source": [
        "rmse = np.sqrt(mean_squared_error(y_val, y_pred))\n",
        "mse = mean_squared_error(y_val, y_pred)"
      ],
      "metadata": {
        "id": "WLMUalWQUtu4"
      },
      "execution_count": null,
      "outputs": []
    },
    {
      "cell_type": "code",
      "source": [
        "print(\"Testing performance\")\n",
        "print('RMSE: {:.2f}'.format(rmse))\n",
        "print('MSE: {:.2f}'.format(mse))"
      ],
      "metadata": {
        "colab": {
          "base_uri": "https://localhost:8080/"
        },
        "id": "89R8BbphU0sa",
        "outputId": "11919640-5769-4852-d9a4-dc47cd47cf64"
      },
      "execution_count": null,
      "outputs": [
        {
          "output_type": "stream",
          "name": "stdout",
          "text": [
            "Testing performance\n",
            "RMSE: 13.06\n",
            "MSE: 170.57\n"
          ]
        }
      ]
    },
    {
      "cell_type": "markdown",
      "source": [
        "#catboost + optuna"
      ],
      "metadata": {
        "id": "yAJBWqLpWd6w"
      }
    },
    {
      "cell_type": "code",
      "source": [
        "import optuna\n",
        "from catboost import CatBoostRegressor\n",
        "import numpy as np\n",
        "from sklearn.metrics import mean_squared_error\n",
        "from sklearn.model_selection import train_test_split\n",
        "\n",
        "X_train, X_val, y_train, y_val = train_test_split(X, y, test_size=0.2, random_state=42)\n",
        "\n",
        "def objective(trial):\n",
        "    params = {\n",
        "        'iterations': trial.suggest_int('iterations', 100, 2000),\n",
        "        'learning_rate': trial.suggest_float('learning_rate', 0.01, 0.3),\n",
        "        'depth': trial.suggest_int('depth', 4, 10),\n",
        "        'l2_leaf_reg': trial.suggest_float('l2_leaf_reg', 1e-3, 10.0),\n",
        "        'bagging_temperature': trial.suggest_float('bagging_temperature', 0.0, 1.0),\n",
        "        'random_strength': trial.suggest_float('random_strength', 0.0, 1.0),\n",
        "        'border_count': trial.suggest_int('border_count', 32, 255),\n",
        "        'verbose': False\n",
        "    }\n",
        "\n",
        "    model = CatBoostRegressor(**params, random_seed=42)\n",
        "\n",
        "    model.fit(X_train, y_train, eval_set=(X_val, y_val), early_stopping_rounds=50)\n",
        "\n",
        "    y_pred = model.predict(X_val)\n",
        "    rmse = np.sqrt(mean_squared_error(y_val, y_pred))\n",
        "\n",
        "    return rmse\n",
        "\n",
        "study = optuna.create_study(direction='minimize')\n",
        "study.optimize(objective, n_trials=10)\n",
        "\n",
        "print(\"Best parameters: \", study.best_params)\n",
        "\n",
        "best_params = study.best_params\n",
        "catboost_model = CatBoostRegressor(**best_params, random_seed=42)\n",
        "\n",
        "catboost_model.fit(X_train, y_train, eval_set=(X_val, y_val), verbose=10)\n",
        "\n",
        "y_pred = catboost_model.predict(X_val)\n",
        "rmse = np.sqrt(mean_squared_error(y_val, y_pred))\n",
        "print(f\"Best RMSE: {rmse}\")\n"
      ],
      "metadata": {
        "colab": {
          "base_uri": "https://localhost:8080/"
        },
        "id": "a5DUTfmiWRAN",
        "outputId": "ee8eae6b-76a7-46c2-c553-149032870f93"
      },
      "execution_count": null,
      "outputs": [
        {
          "output_type": "stream",
          "name": "stderr",
          "text": [
            "[I 2024-09-14 11:44:38,569] A new study created in memory with name: no-name-3e95eb2f-dc06-49af-ba20-7d5af72d6860\n",
            "[I 2024-09-14 11:45:53,550] Trial 0 finished with value: 14.519638180308728 and parameters: {'iterations': 421, 'learning_rate': 0.0168779420989482, 'depth': 7, 'l2_leaf_reg': 7.461511701205884, 'bagging_temperature': 0.4623330760102222, 'random_strength': 0.6380209342773145, 'border_count': 151}. Best is trial 0 with value: 14.519638180308728.\n",
            "[I 2024-09-14 11:48:23,180] Trial 1 finished with value: 13.326514030342564 and parameters: {'iterations': 995, 'learning_rate': 0.07195343838679233, 'depth': 7, 'l2_leaf_reg': 8.249071626032569, 'bagging_temperature': 0.9404157840356389, 'random_strength': 0.9674434816655862, 'border_count': 228}. Best is trial 1 with value: 13.326514030342564.\n",
            "[I 2024-09-14 11:49:42,449] Trial 2 finished with value: 13.10750231638171 and parameters: {'iterations': 1884, 'learning_rate': 0.23184065904220494, 'depth': 8, 'l2_leaf_reg': 0.9277548281799595, 'bagging_temperature': 0.1216915755985114, 'random_strength': 0.8293171766799523, 'border_count': 255}. Best is trial 2 with value: 13.10750231638171.\n",
            "[I 2024-09-14 11:53:56,087] Trial 3 finished with value: 13.24776987565035 and parameters: {'iterations': 1946, 'learning_rate': 0.0772812539147848, 'depth': 7, 'l2_leaf_reg': 2.4531516774111846, 'bagging_temperature': 0.5729356254708312, 'random_strength': 0.7382547414649966, 'border_count': 113}. Best is trial 2 with value: 13.10750231638171.\n",
            "[I 2024-09-14 11:57:40,175] Trial 4 finished with value: 14.276527152984574 and parameters: {'iterations': 1629, 'learning_rate': 0.010091614570681489, 'depth': 6, 'l2_leaf_reg': 6.359332289625466, 'bagging_temperature': 0.9813981440123686, 'random_strength': 0.977941518695192, 'border_count': 79}. Best is trial 2 with value: 13.10750231638171.\n",
            "[I 2024-09-14 11:59:56,670] Trial 5 finished with value: 13.073757410037073 and parameters: {'iterations': 767, 'learning_rate': 0.20701942039725535, 'depth': 10, 'l2_leaf_reg': 1.686104140936813, 'bagging_temperature': 0.1858749167104169, 'random_strength': 0.5529902606608941, 'border_count': 243}. Best is trial 5 with value: 13.073757410037073.\n",
            "[I 2024-09-14 12:00:12,629] Trial 6 finished with value: 14.093844567622387 and parameters: {'iterations': 118, 'learning_rate': 0.26330085622034355, 'depth': 5, 'l2_leaf_reg': 0.5806678891320115, 'bagging_temperature': 0.5359132036744394, 'random_strength': 0.4922014170017164, 'border_count': 102}. Best is trial 5 with value: 13.073757410037073.\n",
            "[I 2024-09-14 12:02:10,430] Trial 7 finished with value: 13.057329597603514 and parameters: {'iterations': 1916, 'learning_rate': 0.20935688500137326, 'depth': 9, 'l2_leaf_reg': 8.248639726835021, 'bagging_temperature': 0.18534035661642745, 'random_strength': 0.8686571558251239, 'border_count': 212}. Best is trial 7 with value: 13.057329597603514.\n",
            "[I 2024-09-14 12:05:17,671] Trial 8 finished with value: 13.37263784799265 and parameters: {'iterations': 1832, 'learning_rate': 0.0933981161274957, 'depth': 8, 'l2_leaf_reg': 9.465521469246944, 'bagging_temperature': 0.00998611443845343, 'random_strength': 0.382414997826627, 'border_count': 34}. Best is trial 7 with value: 13.057329597603514.\n",
            "[I 2024-09-14 12:10:57,133] Trial 9 finished with value: 13.040108240589682 and parameters: {'iterations': 1770, 'learning_rate': 0.06750639855401516, 'depth': 9, 'l2_leaf_reg': 2.7109712312044114, 'bagging_temperature': 0.23669694957111131, 'random_strength': 0.39462824357169435, 'border_count': 182}. Best is trial 9 with value: 13.040108240589682.\n"
          ]
        },
        {
          "output_type": "stream",
          "name": "stdout",
          "text": [
            "Best parameters:  {'iterations': 1770, 'learning_rate': 0.06750639855401516, 'depth': 9, 'l2_leaf_reg': 2.7109712312044114, 'bagging_temperature': 0.23669694957111131, 'random_strength': 0.39462824357169435, 'border_count': 182}\n",
            "0:\tlearn: 17.8926595\ttest: 18.0817331\tbest: 18.0817331 (0)\ttotal: 164ms\tremaining: 4m 49s\n",
            "10:\tlearn: 15.8595457\ttest: 16.1114901\tbest: 16.1114901 (10)\ttotal: 1.73s\tremaining: 4m 37s\n",
            "20:\tlearn: 15.0762207\ttest: 15.3482236\tbest: 15.3482236 (20)\ttotal: 3.33s\tremaining: 4m 37s\n",
            "30:\tlearn: 14.7029163\ttest: 14.9923762\tbest: 14.9923762 (30)\ttotal: 5.39s\tremaining: 5m 2s\n",
            "40:\tlearn: 14.4366050\ttest: 14.7273399\tbest: 14.7273399 (40)\ttotal: 8.77s\tremaining: 6m 10s\n",
            "50:\tlearn: 14.2490942\ttest: 14.5557618\tbest: 14.5557618 (50)\ttotal: 10.5s\tremaining: 5m 54s\n",
            "60:\tlearn: 14.1300403\ttest: 14.4546383\tbest: 14.4546383 (60)\ttotal: 12.1s\tremaining: 5m 39s\n",
            "70:\tlearn: 14.0428341\ttest: 14.3935237\tbest: 14.3935237 (70)\ttotal: 13.8s\tremaining: 5m 29s\n",
            "80:\tlearn: 13.9238138\ttest: 14.2845483\tbest: 14.2845483 (80)\ttotal: 15.5s\tremaining: 5m 23s\n",
            "90:\tlearn: 13.8370098\ttest: 14.2152553\tbest: 14.2152553 (90)\ttotal: 17.1s\tremaining: 5m 16s\n",
            "100:\tlearn: 13.7684932\ttest: 14.1549292\tbest: 14.1548612 (99)\ttotal: 18.8s\tremaining: 5m 11s\n",
            "110:\tlearn: 13.6868739\ttest: 14.0783018\tbest: 14.0783018 (110)\ttotal: 22s\tremaining: 5m 28s\n",
            "120:\tlearn: 13.6195690\ttest: 14.0188726\tbest: 14.0188726 (120)\ttotal: 24.2s\tremaining: 5m 30s\n",
            "130:\tlearn: 13.5818137\ttest: 13.9960366\tbest: 13.9937252 (129)\ttotal: 25.9s\tremaining: 5m 23s\n",
            "140:\tlearn: 13.5266838\ttest: 13.9486168\tbest: 13.9486168 (140)\ttotal: 27.6s\tremaining: 5m 18s\n",
            "150:\tlearn: 13.4747090\ttest: 13.9050309\tbest: 13.9050309 (150)\ttotal: 29.3s\tremaining: 5m 14s\n",
            "160:\tlearn: 13.4248350\ttest: 13.8653036\tbest: 13.8653036 (160)\ttotal: 30.9s\tremaining: 5m 9s\n",
            "170:\tlearn: 13.3851828\ttest: 13.8427191\tbest: 13.8418329 (169)\ttotal: 32.5s\tremaining: 5m 4s\n",
            "180:\tlearn: 13.3367322\ttest: 13.8018278\tbest: 13.8018278 (180)\ttotal: 35.1s\tremaining: 5m 8s\n",
            "190:\tlearn: 13.3029824\ttest: 13.7746396\tbest: 13.7746396 (190)\ttotal: 37.9s\tremaining: 5m 13s\n",
            "200:\tlearn: 13.2651533\ttest: 13.7532654\tbest: 13.7532654 (200)\ttotal: 39.5s\tremaining: 5m 8s\n",
            "210:\tlearn: 13.2333524\ttest: 13.7300296\tbest: 13.7300296 (210)\ttotal: 41.1s\tremaining: 5m 3s\n",
            "220:\tlearn: 13.1996465\ttest: 13.7082080\tbest: 13.7082080 (220)\ttotal: 42.8s\tremaining: 5m\n",
            "230:\tlearn: 13.1695315\ttest: 13.6897445\tbest: 13.6897445 (230)\ttotal: 44.5s\tremaining: 4m 56s\n",
            "240:\tlearn: 13.1330917\ttest: 13.6642732\tbest: 13.6642732 (240)\ttotal: 46.1s\tremaining: 4m 52s\n",
            "250:\tlearn: 13.1045570\ttest: 13.6413717\tbest: 13.6413717 (250)\ttotal: 47.9s\tremaining: 4m 49s\n",
            "260:\tlearn: 13.0697511\ttest: 13.6140597\tbest: 13.6140597 (260)\ttotal: 51s\tremaining: 4m 54s\n",
            "270:\tlearn: 13.0388296\ttest: 13.5966210\tbest: 13.5963445 (269)\ttotal: 53.2s\tremaining: 4m 54s\n",
            "280:\tlearn: 13.0082962\ttest: 13.5790425\tbest: 13.5775558 (278)\ttotal: 54.8s\tremaining: 4m 50s\n",
            "290:\tlearn: 12.9827648\ttest: 13.5697743\tbest: 13.5686330 (289)\ttotal: 56.4s\tremaining: 4m 46s\n",
            "300:\tlearn: 12.9543106\ttest: 13.5454331\tbest: 13.5451194 (299)\ttotal: 58s\tremaining: 4m 43s\n",
            "310:\tlearn: 12.9285298\ttest: 13.5289713\tbest: 13.5289713 (310)\ttotal: 59.7s\tremaining: 4m 39s\n",
            "320:\tlearn: 12.9068061\ttest: 13.5179542\tbest: 13.5179542 (320)\ttotal: 1m 1s\tremaining: 4m 36s\n",
            "330:\tlearn: 12.8801357\ttest: 13.5053918\tbest: 13.5053918 (330)\ttotal: 1m 3s\tremaining: 4m 37s\n",
            "340:\tlearn: 12.8619055\ttest: 13.5012273\tbest: 13.5011931 (339)\ttotal: 1m 6s\tremaining: 4m 39s\n",
            "350:\tlearn: 12.8444378\ttest: 13.4924652\tbest: 13.4924652 (350)\ttotal: 1m 9s\tremaining: 4m 39s\n",
            "360:\tlearn: 12.8209160\ttest: 13.4777502\tbest: 13.4777502 (360)\ttotal: 1m 11s\tremaining: 4m 40s\n",
            "370:\tlearn: 12.8015033\ttest: 13.4649999\tbest: 13.4649999 (370)\ttotal: 1m 13s\tremaining: 4m 37s\n",
            "380:\tlearn: 12.7726865\ttest: 13.4440698\tbest: 13.4440698 (380)\ttotal: 1m 15s\tremaining: 4m 34s\n",
            "390:\tlearn: 12.7575743\ttest: 13.4364721\tbest: 13.4364721 (390)\ttotal: 1m 17s\tremaining: 4m 32s\n",
            "400:\tlearn: 12.7365888\ttest: 13.4204943\tbest: 13.4204943 (400)\ttotal: 1m 21s\tremaining: 4m 39s\n",
            "410:\tlearn: 12.7238846\ttest: 13.4143676\tbest: 13.4143676 (410)\ttotal: 1m 24s\tremaining: 4m 38s\n",
            "420:\tlearn: 12.7032468\ttest: 13.4044762\tbest: 13.4044762 (420)\ttotal: 1m 25s\tremaining: 4m 35s\n",
            "430:\tlearn: 12.6822215\ttest: 13.3898684\tbest: 13.3898684 (430)\ttotal: 1m 29s\tremaining: 4m 37s\n",
            "440:\tlearn: 12.6675271\ttest: 13.3842475\tbest: 13.3842475 (440)\ttotal: 1m 34s\tremaining: 4m 43s\n",
            "450:\tlearn: 12.6481038\ttest: 13.3742379\tbest: 13.3736674 (446)\ttotal: 1m 36s\tremaining: 4m 43s\n",
            "460:\tlearn: 12.6294433\ttest: 13.3709919\tbest: 13.3693306 (457)\ttotal: 1m 39s\tremaining: 4m 42s\n",
            "470:\tlearn: 12.6090771\ttest: 13.3577066\tbest: 13.3577066 (470)\ttotal: 1m 41s\tremaining: 4m 39s\n",
            "480:\tlearn: 12.5997315\ttest: 13.3540711\tbest: 13.3532683 (477)\ttotal: 1m 42s\tremaining: 4m 35s\n",
            "490:\tlearn: 12.5817831\ttest: 13.3426921\tbest: 13.3426921 (490)\ttotal: 1m 46s\tremaining: 4m 36s\n",
            "500:\tlearn: 12.5687273\ttest: 13.3402719\tbest: 13.3401178 (498)\ttotal: 1m 50s\tremaining: 4m 39s\n",
            "510:\tlearn: 12.5475459\ttest: 13.3244891\tbest: 13.3244891 (510)\ttotal: 1m 52s\tremaining: 4m 38s\n",
            "520:\tlearn: 12.5362131\ttest: 13.3206688\tbest: 13.3206688 (520)\ttotal: 1m 55s\tremaining: 4m 35s\n",
            "530:\tlearn: 12.5248697\ttest: 13.3170856\tbest: 13.3170856 (530)\ttotal: 1m 58s\tremaining: 4m 35s\n",
            "540:\tlearn: 12.5114259\ttest: 13.3161775\tbest: 13.3161775 (540)\ttotal: 2m 1s\tremaining: 4m 35s\n",
            "550:\tlearn: 12.4963050\ttest: 13.3054771\tbest: 13.3054771 (550)\ttotal: 2m 5s\tremaining: 4m 38s\n",
            "560:\tlearn: 12.4806303\ttest: 13.2963045\tbest: 13.2963045 (560)\ttotal: 2m 8s\tremaining: 4m 36s\n",
            "570:\tlearn: 12.4683326\ttest: 13.2861585\tbest: 13.2861585 (570)\ttotal: 2m 11s\tremaining: 4m 35s\n",
            "580:\tlearn: 12.4544030\ttest: 13.2791546\tbest: 13.2791546 (580)\ttotal: 2m 13s\tremaining: 4m 34s\n",
            "590:\tlearn: 12.4425140\ttest: 13.2763715\tbest: 13.2763715 (590)\ttotal: 2m 15s\tremaining: 4m 31s\n",
            "600:\tlearn: 12.4277443\ttest: 13.2652622\tbest: 13.2652622 (600)\ttotal: 2m 21s\tremaining: 4m 34s\n",
            "610:\tlearn: 12.4186413\ttest: 13.2633993\tbest: 13.2627226 (608)\ttotal: 2m 23s\tremaining: 4m 31s\n",
            "620:\tlearn: 12.4103401\ttest: 13.2605883\tbest: 13.2599948 (618)\ttotal: 2m 24s\tremaining: 4m 28s\n",
            "630:\tlearn: 12.3964693\ttest: 13.2531784\tbest: 13.2531784 (630)\ttotal: 2m 27s\tremaining: 4m 25s\n",
            "640:\tlearn: 12.3835281\ttest: 13.2475900\tbest: 13.2470539 (638)\ttotal: 2m 29s\tremaining: 4m 23s\n",
            "650:\tlearn: 12.3730052\ttest: 13.2461851\tbest: 13.2454913 (648)\ttotal: 2m 33s\tremaining: 4m 23s\n",
            "660:\tlearn: 12.3618832\ttest: 13.2416387\tbest: 13.2416387 (660)\ttotal: 2m 37s\tremaining: 4m 23s\n",
            "670:\tlearn: 12.3470854\ttest: 13.2382965\tbest: 13.2368166 (665)\ttotal: 2m 39s\tremaining: 4m 21s\n",
            "680:\tlearn: 12.3317263\ttest: 13.2306585\tbest: 13.2306585 (680)\ttotal: 2m 41s\tremaining: 4m 18s\n",
            "690:\tlearn: 12.3138167\ttest: 13.2127031\tbest: 13.2127031 (690)\ttotal: 2m 43s\tremaining: 4m 14s\n",
            "700:\tlearn: 12.3017638\ttest: 13.2099535\tbest: 13.2099535 (700)\ttotal: 2m 44s\tremaining: 4m 11s\n",
            "710:\tlearn: 12.2879594\ttest: 13.2023135\tbest: 13.2022151 (707)\ttotal: 2m 47s\tremaining: 4m 9s\n",
            "720:\tlearn: 12.2790456\ttest: 13.1984664\tbest: 13.1984664 (720)\ttotal: 2m 50s\tremaining: 4m 7s\n",
            "730:\tlearn: 12.2679481\ttest: 13.1926837\tbest: 13.1926837 (730)\ttotal: 2m 52s\tremaining: 4m 4s\n",
            "740:\tlearn: 12.2579966\ttest: 13.1922437\tbest: 13.1920291 (738)\ttotal: 2m 55s\tremaining: 4m 3s\n",
            "750:\tlearn: 12.2453316\ttest: 13.1904153\tbest: 13.1904153 (750)\ttotal: 2m 57s\tremaining: 4m 1s\n",
            "760:\tlearn: 12.2325692\ttest: 13.1848826\tbest: 13.1848826 (760)\ttotal: 3m\tremaining: 3m 58s\n",
            "770:\tlearn: 12.2211405\ttest: 13.1832214\tbest: 13.1826528 (769)\ttotal: 3m 3s\tremaining: 3m 57s\n",
            "780:\tlearn: 12.2098463\ttest: 13.1807403\tbest: 13.1806222 (776)\ttotal: 3m 5s\tremaining: 3m 54s\n",
            "790:\tlearn: 12.1977931\ttest: 13.1751911\tbest: 13.1751911 (790)\ttotal: 3m 6s\tremaining: 3m 51s\n",
            "800:\tlearn: 12.1854206\ttest: 13.1701698\tbest: 13.1701698 (800)\ttotal: 3m 8s\tremaining: 3m 48s\n",
            "810:\tlearn: 12.1757472\ttest: 13.1644500\tbest: 13.1644500 (810)\ttotal: 3m 11s\tremaining: 3m 46s\n",
            "820:\tlearn: 12.1679396\ttest: 13.1655650\tbest: 13.1644500 (810)\ttotal: 3m 14s\tremaining: 3m 45s\n",
            "830:\tlearn: 12.1581492\ttest: 13.1618069\tbest: 13.1618069 (830)\ttotal: 3m 19s\tremaining: 3m 45s\n",
            "840:\tlearn: 12.1492788\ttest: 13.1602361\tbest: 13.1602361 (840)\ttotal: 3m 22s\tremaining: 3m 43s\n",
            "850:\tlearn: 12.1423733\ttest: 13.1600979\tbest: 13.1598358 (843)\ttotal: 3m 25s\tremaining: 3m 41s\n",
            "860:\tlearn: 12.1306117\ttest: 13.1548342\tbest: 13.1548342 (860)\ttotal: 3m 27s\tremaining: 3m 39s\n",
            "870:\tlearn: 12.1203165\ttest: 13.1566494\tbest: 13.1537603 (862)\ttotal: 3m 30s\tremaining: 3m 36s\n",
            "880:\tlearn: 12.1102216\ttest: 13.1539405\tbest: 13.1537603 (862)\ttotal: 3m 33s\tremaining: 3m 35s\n",
            "890:\tlearn: 12.0983661\ttest: 13.1471630\tbest: 13.1471630 (890)\ttotal: 3m 35s\tremaining: 3m 32s\n",
            "900:\tlearn: 12.0872538\ttest: 13.1420338\tbest: 13.1419580 (898)\ttotal: 3m 38s\tremaining: 3m 30s\n",
            "910:\tlearn: 12.0799500\ttest: 13.1402600\tbest: 13.1391350 (908)\ttotal: 3m 40s\tremaining: 3m 27s\n",
            "920:\tlearn: 12.0715467\ttest: 13.1417727\tbest: 13.1391350 (908)\ttotal: 3m 42s\tremaining: 3m 24s\n",
            "930:\tlearn: 12.0635999\ttest: 13.1393376\tbest: 13.1383980 (929)\ttotal: 3m 44s\tremaining: 3m 22s\n",
            "940:\tlearn: 12.0547052\ttest: 13.1354840\tbest: 13.1354840 (940)\ttotal: 3m 48s\tremaining: 3m 21s\n",
            "950:\tlearn: 12.0463612\ttest: 13.1340582\tbest: 13.1334995 (949)\ttotal: 3m 50s\tremaining: 3m 18s\n",
            "960:\tlearn: 12.0371097\ttest: 13.1298072\tbest: 13.1297648 (959)\ttotal: 3m 52s\tremaining: 3m 15s\n",
            "970:\tlearn: 12.0266270\ttest: 13.1276314\tbest: 13.1253908 (969)\ttotal: 3m 53s\tremaining: 3m 12s\n",
            "980:\tlearn: 12.0171033\ttest: 13.1256434\tbest: 13.1253307 (978)\ttotal: 3m 55s\tremaining: 3m 9s\n",
            "990:\tlearn: 12.0101013\ttest: 13.1268786\tbest: 13.1253307 (978)\ttotal: 3m 58s\tremaining: 3m 7s\n",
            "1000:\tlearn: 12.0014718\ttest: 13.1241528\tbest: 13.1237504 (998)\ttotal: 4m 1s\tremaining: 3m 5s\n",
            "1010:\tlearn: 11.9939739\ttest: 13.1258128\tbest: 13.1237504 (998)\ttotal: 4m 4s\tremaining: 3m 3s\n",
            "1020:\tlearn: 11.9870880\ttest: 13.1236846\tbest: 13.1234822 (1019)\ttotal: 4m 7s\tremaining: 3m 1s\n",
            "1030:\tlearn: 11.9789582\ttest: 13.1204778\tbest: 13.1200087 (1029)\ttotal: 4m 10s\tremaining: 2m 59s\n",
            "1040:\tlearn: 11.9675288\ttest: 13.1185411\tbest: 13.1185411 (1040)\ttotal: 4m 15s\tremaining: 2m 58s\n",
            "1050:\tlearn: 11.9539395\ttest: 13.1120233\tbest: 13.1120233 (1050)\ttotal: 4m 20s\tremaining: 2m 58s\n",
            "1060:\tlearn: 11.9447599\ttest: 13.1086461\tbest: 13.1086324 (1059)\ttotal: 4m 24s\tremaining: 2m 57s\n",
            "1070:\tlearn: 11.9382394\ttest: 13.1095510\tbest: 13.1084497 (1066)\ttotal: 4m 28s\tremaining: 2m 55s\n",
            "1080:\tlearn: 11.9301957\ttest: 13.1080559\tbest: 13.1080559 (1080)\ttotal: 4m 32s\tremaining: 2m 53s\n",
            "1090:\tlearn: 11.9234493\ttest: 13.1058006\tbest: 13.1058006 (1090)\ttotal: 4m 34s\tremaining: 2m 51s\n",
            "1100:\tlearn: 11.9134650\ttest: 13.1047880\tbest: 13.1044714 (1096)\ttotal: 4m 36s\tremaining: 2m 48s\n",
            "1110:\tlearn: 11.9061255\ttest: 13.1020693\tbest: 13.1020693 (1110)\ttotal: 4m 38s\tremaining: 2m 45s\n",
            "1120:\tlearn: 11.8983038\ttest: 13.1005214\tbest: 13.1004853 (1119)\ttotal: 4m 40s\tremaining: 2m 42s\n",
            "1130:\tlearn: 11.8923347\ttest: 13.0990764\tbest: 13.0990764 (1130)\ttotal: 4m 43s\tremaining: 2m 39s\n",
            "1140:\tlearn: 11.8843575\ttest: 13.0947531\tbest: 13.0943024 (1132)\ttotal: 4m 47s\tremaining: 2m 38s\n",
            "1150:\tlearn: 11.8766836\ttest: 13.0923433\tbest: 13.0923433 (1150)\ttotal: 4m 50s\tremaining: 2m 36s\n",
            "1160:\tlearn: 11.8688161\ttest: 13.0933771\tbest: 13.0917310 (1152)\ttotal: 4m 52s\tremaining: 2m 33s\n",
            "1170:\tlearn: 11.8620842\ttest: 13.0934682\tbest: 13.0917310 (1152)\ttotal: 4m 55s\tremaining: 2m 31s\n",
            "1180:\tlearn: 11.8551372\ttest: 13.0887919\tbest: 13.0882895 (1176)\ttotal: 4m 58s\tremaining: 2m 28s\n",
            "1190:\tlearn: 11.8482637\ttest: 13.0887417\tbest: 13.0882895 (1176)\ttotal: 5m 4s\tremaining: 2m 27s\n",
            "1200:\tlearn: 11.8415396\ttest: 13.0882687\tbest: 13.0876977 (1198)\ttotal: 5m 7s\tremaining: 2m 25s\n",
            "1210:\tlearn: 11.8354997\ttest: 13.0865192\tbest: 13.0865192 (1210)\ttotal: 5m 10s\tremaining: 2m 23s\n",
            "1220:\tlearn: 11.8288407\ttest: 13.0860504\tbest: 13.0850215 (1214)\ttotal: 5m 12s\tremaining: 2m 20s\n",
            "1230:\tlearn: 11.8239346\ttest: 13.0870816\tbest: 13.0850215 (1214)\ttotal: 5m 16s\tremaining: 2m 18s\n",
            "1240:\tlearn: 11.8167357\ttest: 13.0855284\tbest: 13.0850215 (1214)\ttotal: 5m 19s\tremaining: 2m 16s\n",
            "1250:\tlearn: 11.8078236\ttest: 13.0888947\tbest: 13.0840539 (1243)\ttotal: 5m 22s\tremaining: 2m 13s\n",
            "1260:\tlearn: 11.8020090\ttest: 13.0858198\tbest: 13.0840539 (1243)\ttotal: 5m 24s\tremaining: 2m 11s\n",
            "1270:\tlearn: 11.7940182\ttest: 13.0868681\tbest: 13.0840539 (1243)\ttotal: 5m 26s\tremaining: 2m 8s\n",
            "1280:\tlearn: 11.7874748\ttest: 13.0840314\tbest: 13.0837864 (1278)\ttotal: 5m 28s\tremaining: 2m 5s\n",
            "1290:\tlearn: 11.7809599\ttest: 13.0819937\tbest: 13.0819937 (1290)\ttotal: 5m 32s\tremaining: 2m 3s\n",
            "1300:\tlearn: 11.7717797\ttest: 13.0809187\tbest: 13.0804399 (1296)\ttotal: 5m 35s\tremaining: 2m 1s\n",
            "1310:\tlearn: 11.7655288\ttest: 13.0795704\tbest: 13.0792642 (1307)\ttotal: 5m 39s\tremaining: 1m 59s\n",
            "1320:\tlearn: 11.7596542\ttest: 13.0795562\tbest: 13.0789691 (1316)\ttotal: 5m 42s\tremaining: 1m 56s\n",
            "1330:\tlearn: 11.7543675\ttest: 13.0796518\tbest: 13.0789691 (1316)\ttotal: 5m 47s\tremaining: 1m 54s\n",
            "1340:\tlearn: 11.7484884\ttest: 13.0778236\tbest: 13.0778236 (1340)\ttotal: 5m 49s\tremaining: 1m 51s\n",
            "1350:\tlearn: 11.7408987\ttest: 13.0769560\tbest: 13.0769560 (1350)\ttotal: 5m 50s\tremaining: 1m 48s\n",
            "1360:\tlearn: 11.7314058\ttest: 13.0719594\tbest: 13.0719594 (1360)\ttotal: 5m 52s\tremaining: 1m 45s\n",
            "1370:\tlearn: 11.7249043\ttest: 13.0717984\tbest: 13.0704970 (1368)\ttotal: 5m 54s\tremaining: 1m 43s\n",
            "1380:\tlearn: 11.7184350\ttest: 13.0664600\tbest: 13.0664600 (1380)\ttotal: 5m 55s\tremaining: 1m 40s\n",
            "1390:\tlearn: 11.7095532\ttest: 13.0635747\tbest: 13.0635747 (1390)\ttotal: 5m 57s\tremaining: 1m 37s\n",
            "1400:\tlearn: 11.7030269\ttest: 13.0616360\tbest: 13.0611789 (1395)\ttotal: 6m 1s\tremaining: 1m 35s\n",
            "1410:\tlearn: 11.6983743\ttest: 13.0613498\tbest: 13.0611037 (1403)\ttotal: 6m 2s\tremaining: 1m 32s\n",
            "1420:\tlearn: 11.6937412\ttest: 13.0613644\tbest: 13.0608339 (1415)\ttotal: 6m 4s\tremaining: 1m 29s\n",
            "1430:\tlearn: 11.6863575\ttest: 13.0608317\tbest: 13.0608317 (1430)\ttotal: 6m 6s\tremaining: 1m 26s\n",
            "1440:\tlearn: 11.6789200\ttest: 13.0591871\tbest: 13.0589376 (1439)\ttotal: 6m 7s\tremaining: 1m 23s\n",
            "1450:\tlearn: 11.6721021\ttest: 13.0565382\tbest: 13.0565382 (1450)\ttotal: 6m 9s\tremaining: 1m 21s\n",
            "1460:\tlearn: 11.6628974\ttest: 13.0557561\tbest: 13.0557561 (1460)\ttotal: 6m 11s\tremaining: 1m 18s\n",
            "1470:\tlearn: 11.6573102\ttest: 13.0571860\tbest: 13.0557561 (1460)\ttotal: 6m 14s\tremaining: 1m 16s\n",
            "1480:\tlearn: 11.6506722\ttest: 13.0545138\tbest: 13.0545138 (1480)\ttotal: 6m 17s\tremaining: 1m 13s\n",
            "1490:\tlearn: 11.6447398\ttest: 13.0536881\tbest: 13.0536322 (1485)\ttotal: 6m 18s\tremaining: 1m 10s\n",
            "1500:\tlearn: 11.6374643\ttest: 13.0544569\tbest: 13.0536322 (1485)\ttotal: 6m 20s\tremaining: 1m 8s\n",
            "1510:\tlearn: 11.6302914\ttest: 13.0540179\tbest: 13.0511484 (1507)\ttotal: 6m 22s\tremaining: 1m 5s\n",
            "1520:\tlearn: 11.6215634\ttest: 13.0507489\tbest: 13.0507489 (1520)\ttotal: 6m 23s\tremaining: 1m 2s\n",
            "1530:\tlearn: 11.6160480\ttest: 13.0527824\tbest: 13.0505939 (1521)\ttotal: 6m 25s\tremaining: 1m\n",
            "1540:\tlearn: 11.6109533\ttest: 13.0497110\tbest: 13.0497110 (1540)\ttotal: 6m 28s\tremaining: 57.7s\n",
            "1550:\tlearn: 11.6054320\ttest: 13.0502375\tbest: 13.0492642 (1542)\ttotal: 6m 31s\tremaining: 55.2s\n",
            "1560:\tlearn: 11.6001148\ttest: 13.0480199\tbest: 13.0475112 (1558)\ttotal: 6m 32s\tremaining: 52.6s\n",
            "1570:\tlearn: 11.5954099\ttest: 13.0500035\tbest: 13.0475112 (1558)\ttotal: 6m 34s\tremaining: 49.9s\n",
            "1580:\tlearn: 11.5897265\ttest: 13.0485636\tbest: 13.0475112 (1558)\ttotal: 6m 35s\tremaining: 47.3s\n",
            "1590:\tlearn: 11.5847365\ttest: 13.0488265\tbest: 13.0475112 (1558)\ttotal: 6m 37s\tremaining: 44.7s\n",
            "1600:\tlearn: 11.5796644\ttest: 13.0466891\tbest: 13.0466891 (1600)\ttotal: 6m 39s\tremaining: 42.1s\n",
            "1610:\tlearn: 11.5750159\ttest: 13.0481493\tbest: 13.0464561 (1603)\ttotal: 6m 41s\tremaining: 39.6s\n",
            "1620:\tlearn: 11.5699630\ttest: 13.0486088\tbest: 13.0464561 (1603)\ttotal: 6m 44s\tremaining: 37.2s\n",
            "1630:\tlearn: 11.5641790\ttest: 13.0478202\tbest: 13.0464561 (1603)\ttotal: 6m 46s\tremaining: 34.6s\n",
            "1640:\tlearn: 11.5604029\ttest: 13.0475306\tbest: 13.0464561 (1603)\ttotal: 6m 47s\tremaining: 32s\n",
            "1650:\tlearn: 11.5541684\ttest: 13.0469705\tbest: 13.0464561 (1603)\ttotal: 6m 49s\tremaining: 29.5s\n",
            "1660:\tlearn: 11.5488479\ttest: 13.0446208\tbest: 13.0446208 (1660)\ttotal: 6m 51s\tremaining: 27s\n",
            "1670:\tlearn: 11.5438593\ttest: 13.0434197\tbest: 13.0433889 (1669)\ttotal: 6m 52s\tremaining: 24.5s\n",
            "1680:\tlearn: 11.5392918\ttest: 13.0419671\tbest: 13.0418191 (1678)\ttotal: 6m 54s\tremaining: 21.9s\n",
            "1690:\tlearn: 11.5322211\ttest: 13.0401082\tbest: 13.0401082 (1690)\ttotal: 6m 57s\tremaining: 19.5s\n",
            "1700:\tlearn: 11.5251064\ttest: 13.0417275\tbest: 13.0401082 (1690)\ttotal: 6m 59s\tremaining: 17s\n",
            "1710:\tlearn: 11.5180615\ttest: 13.0425929\tbest: 13.0401082 (1690)\ttotal: 7m 1s\tremaining: 14.5s\n",
            "1720:\tlearn: 11.5100815\ttest: 13.0420037\tbest: 13.0401082 (1690)\ttotal: 7m 3s\tremaining: 12s\n",
            "1730:\tlearn: 11.5050707\ttest: 13.0427876\tbest: 13.0401082 (1690)\ttotal: 7m 4s\tremaining: 9.57s\n",
            "1740:\tlearn: 11.4998782\ttest: 13.0417229\tbest: 13.0401082 (1690)\ttotal: 7m 6s\tremaining: 7.1s\n",
            "1750:\tlearn: 11.4947189\ttest: 13.0416312\tbest: 13.0401082 (1690)\ttotal: 7m 8s\tremaining: 4.65s\n",
            "1760:\tlearn: 11.4894029\ttest: 13.0418529\tbest: 13.0401082 (1690)\ttotal: 7m 11s\tremaining: 2.21s\n",
            "1769:\tlearn: 11.4843444\ttest: 13.0382767\tbest: 13.0382767 (1769)\ttotal: 7m 15s\tremaining: 0us\n",
            "\n",
            "bestTest = 13.03827669\n",
            "bestIteration = 1769\n",
            "\n",
            "Best RMSE: 13.038276694779722\n"
          ]
        }
      ]
    },
    {
      "cell_type": "code",
      "source": [
        "rmse = np.sqrt(mean_squared_error(y_val, y_pred))\n",
        "mse = mean_squared_error(y_val, y_pred)"
      ],
      "metadata": {
        "id": "OkOD7c1cWjvq"
      },
      "execution_count": null,
      "outputs": []
    },
    {
      "cell_type": "code",
      "source": [
        "print(\"Testing performance\")\n",
        "print('RMSE: {:.2f}'.format(rmse))\n",
        "print('MSE: {:.2f}'.format(mse))"
      ],
      "metadata": {
        "colab": {
          "base_uri": "https://localhost:8080/"
        },
        "id": "wZ-1gKxVWlD-",
        "outputId": "6ef363c1-469d-4194-9b7b-05f22cdbcb22"
      },
      "execution_count": null,
      "outputs": [
        {
          "output_type": "stream",
          "name": "stdout",
          "text": [
            "Testing performance\n",
            "RMSE: 13.04\n",
            "MSE: 170.00\n"
          ]
        }
      ]
    },
    {
      "cell_type": "markdown",
      "source": [
        "#catboost + drop importance = 0"
      ],
      "metadata": {
        "id": "yqUciddHcu77"
      }
    },
    {
      "cell_type": "code",
      "source": [
        "feature = ['CONSIGNEE_PROVINCE', 'Temperature', 'Humidity', 'Wind_Speed', 'Condition', 'Dew_Point', 'Wind', 'Wind_Gust', 'Pressure', 'CONSIGNEE_TAMBON', 'CONSIGNEE_AMPHUR', 'CONSIGNEE_ZIPCODE', 'ITEM_CODE', 'ITEM_NAMEในระบบ', 'UNIT_NAME', 'REG_Code', 'DEST_CODE', 'Category', 'is_payday', 'month', 'day', 'day_of_week', 'day_of_year','ITEM_DESC_CLEAN_labelencoding']"
      ],
      "metadata": {
        "id": "34iKZsEyc2TT"
      },
      "execution_count": null,
      "outputs": []
    },
    {
      "cell_type": "code",
      "source": [
        "from sklearn.model_selection import train_test_split\n",
        "\n",
        "X = Datawithoutbill_df[feature]\n",
        "y = Datawithoutbill_df[\"QTY\"]\n",
        "\n",
        "X_train, X_val, y_train, y_val = train_test_split(X, y, test_size=0.2, random_state=42)"
      ],
      "metadata": {
        "id": "aOn8sudEc3zT"
      },
      "execution_count": null,
      "outputs": []
    },
    {
      "cell_type": "code",
      "source": [
        "model.fit(X_train, y_train,\n",
        "          eval_set=(X_val, y_val),\n",
        "          cat_features=[],\n",
        "          early_stopping_rounds=100)"
      ],
      "metadata": {
        "colab": {
          "base_uri": "https://localhost:8080/"
        },
        "id": "e1teDJMqc7bw",
        "outputId": "8ae0f312-2f7d-46ef-af9f-8bfc7175e38b"
      },
      "execution_count": null,
      "outputs": [
        {
          "output_type": "stream",
          "name": "stdout",
          "text": [
            "0:\tlearn: 17.8560633\ttest: 18.0506597\tbest: 18.0506597 (0)\ttotal: 212ms\tremaining: 1m 45s\n",
            "100:\tlearn: 14.1067267\ttest: 14.4599542\tbest: 14.4599542 (100)\ttotal: 13.6s\tremaining: 53.8s\n",
            "200:\tlearn: 13.6310548\ttest: 14.0277114\tbest: 14.0277114 (200)\ttotal: 29.9s\tremaining: 44.4s\n",
            "300:\tlearn: 13.3636269\ttest: 13.8011240\tbest: 13.8010044 (299)\ttotal: 48.8s\tremaining: 32.3s\n",
            "400:\tlearn: 13.1485845\ttest: 13.6300386\tbest: 13.6300386 (400)\ttotal: 1m 4s\tremaining: 16s\n",
            "499:\tlearn: 13.0073666\ttest: 13.5240784\tbest: 13.5240784 (499)\ttotal: 1m 27s\tremaining: 0us\n",
            "\n",
            "bestTest = 13.52407838\n",
            "bestIteration = 499\n",
            "\n"
          ]
        },
        {
          "output_type": "execute_result",
          "data": {
            "text/plain": [
              "<catboost.core.CatBoostRegressor at 0x7881e9bdfd60>"
            ]
          },
          "metadata": {},
          "execution_count": 66
        }
      ]
    },
    {
      "cell_type": "code",
      "source": [
        "rmse = np.sqrt(mean_squared_error(y_val, y_pred))\n",
        "mse = mean_squared_error(y_val, y_pred)"
      ],
      "metadata": {
        "id": "fJwHCB8Fc70f"
      },
      "execution_count": null,
      "outputs": []
    },
    {
      "cell_type": "code",
      "source": [
        "print(\"Testing performance\")\n",
        "print('RMSE: {:.2f}'.format(rmse))\n",
        "print('MSE: {:.2f}'.format(mse))"
      ],
      "metadata": {
        "colab": {
          "base_uri": "https://localhost:8080/"
        },
        "id": "g-mB3wb8dAdE",
        "outputId": "eb5ae099-43f5-44a0-803e-c8c4a275f89f"
      },
      "execution_count": null,
      "outputs": [
        {
          "output_type": "stream",
          "name": "stdout",
          "text": [
            "Testing performance\n",
            "RMSE: 13.04\n",
            "MSE: 170.00\n"
          ]
        }
      ]
    },
    {
      "cell_type": "markdown",
      "source": [
        "#catboost + 10 feature"
      ],
      "metadata": {
        "id": "0o24kUrNdFzO"
      }
    },
    {
      "cell_type": "code",
      "source": [
        "feature = ['DEST_CODE','UNIT_NAME','ITEM_CODE','REG_Code','ITEM_DESC_CLEAN_labelencoding','ITEM_NAMEในระบบ','CONSIGNEE_TAMBON','CONSIGNEE_ZIPCODE','Category','CONSIGNEE_PROVINCE']"
      ],
      "metadata": {
        "id": "kHg3Qhk5dKHO"
      },
      "execution_count": null,
      "outputs": []
    },
    {
      "cell_type": "code",
      "source": [
        "from sklearn.model_selection import train_test_split\n",
        "\n",
        "X = Datawithoutbill_df[feature]\n",
        "y = Datawithoutbill_df[\"QTY\"]\n",
        "\n",
        "X_train, X_val, y_train, y_val = train_test_split(X, y, test_size=0.2, random_state=42)"
      ],
      "metadata": {
        "id": "z88AhxIldLKV"
      },
      "execution_count": null,
      "outputs": []
    },
    {
      "cell_type": "code",
      "source": [
        "model.fit(X_train, y_train,\n",
        "          eval_set=(X_val, y_val),\n",
        "          cat_features=[],\n",
        "          early_stopping_rounds=100)"
      ],
      "metadata": {
        "colab": {
          "base_uri": "https://localhost:8080/"
        },
        "id": "Ety3_MMxdMJG",
        "outputId": "b547132d-da55-4965-c5e5-ad5f19e27e0f"
      },
      "execution_count": null,
      "outputs": [
        {
          "output_type": "stream",
          "name": "stdout",
          "text": [
            "0:\tlearn: 17.8565667\ttest: 18.0509945\tbest: 18.0509945 (0)\ttotal: 96.5ms\tremaining: 48.1s\n",
            "100:\tlearn: 14.1228672\ttest: 14.4315310\tbest: 14.4315310 (100)\ttotal: 11.9s\tremaining: 47.1s\n",
            "200:\tlearn: 13.6729477\ttest: 13.9898984\tbest: 13.9898984 (200)\ttotal: 28.3s\tremaining: 42s\n",
            "300:\tlearn: 13.4369837\ttest: 13.7261395\tbest: 13.7261395 (300)\ttotal: 52.5s\tremaining: 34.7s\n",
            "400:\tlearn: 13.2714187\ttest: 13.5625866\tbest: 13.5625866 (400)\ttotal: 1m 5s\tremaining: 16.2s\n",
            "499:\tlearn: 13.1454708\ttest: 13.4378476\tbest: 13.4378476 (499)\ttotal: 1m 17s\tremaining: 0us\n",
            "\n",
            "bestTest = 13.43784763\n",
            "bestIteration = 499\n",
            "\n"
          ]
        },
        {
          "output_type": "execute_result",
          "data": {
            "text/plain": [
              "<catboost.core.CatBoostRegressor at 0x7881e9bdfd60>"
            ]
          },
          "metadata": {},
          "execution_count": 78
        }
      ]
    },
    {
      "cell_type": "code",
      "source": [
        "rmse = np.sqrt(mean_squared_error(y_val, y_pred))\n",
        "mse = mean_squared_error(y_val, y_pred)"
      ],
      "metadata": {
        "id": "q9DAsfGmdM_E"
      },
      "execution_count": null,
      "outputs": []
    },
    {
      "cell_type": "code",
      "source": [
        "print(\"Testing performance\")\n",
        "print('RMSE: {:.2f}'.format(rmse))\n",
        "print('MSE: {:.2f}'.format(mse))"
      ],
      "metadata": {
        "colab": {
          "base_uri": "https://localhost:8080/"
        },
        "id": "ivw1vNoRdN9t",
        "outputId": "13adfc87-7c50-4fe1-d0d3-9ea8cce18e79"
      },
      "execution_count": null,
      "outputs": [
        {
          "output_type": "stream",
          "name": "stdout",
          "text": [
            "Testing performance\n",
            "RMSE: 13.04\n",
            "MSE: 170.00\n"
          ]
        }
      ]
    },
    {
      "cell_type": "markdown",
      "source": [
        "#catboost + 20 feature"
      ],
      "metadata": {
        "id": "nYI3RE2wdQZE"
      }
    },
    {
      "cell_type": "code",
      "source": [
        "feature = ['DEST_CODE','UNIT_NAME','ITEM_CODE','REG_Code','ITEM_DESC_CLEAN_labelencoding','ITEM_NAMEในระบบ','CONSIGNEE_TAMBON','CONSIGNEE_ZIPCODE','Category','CONSIGNEE_PROVINCE','day_of_year','month','CONSIGNEE_AMPHUR','Wind_Gust','is_payday','day_of_week','Condition','Wind_Speed','Dew_Point','Humidity','day']"
      ],
      "metadata": {
        "id": "2LqrDkEsdVnP"
      },
      "execution_count": null,
      "outputs": []
    },
    {
      "cell_type": "code",
      "source": [
        "from sklearn.model_selection import train_test_split\n",
        "\n",
        "X = Datawithoutbill_df[feature]\n",
        "y = Datawithoutbill_df[\"QTY\"]\n",
        "\n",
        "X_train, X_val, y_train, y_val = train_test_split(X, y, test_size=0.2, random_state=42)\n",
        "\n",
        "model.fit(X_train, y_train,\n",
        "          eval_set=(X_val, y_val),\n",
        "          cat_features=[],\n",
        "          early_stopping_rounds=100)\n",
        "\n",
        "rmse = np.sqrt(mean_squared_error(y_val, y_pred))\n",
        "mse = mean_squared_error(y_val, y_pred)"
      ],
      "metadata": {
        "colab": {
          "base_uri": "https://localhost:8080/"
        },
        "id": "qBxhvxlBdXrs",
        "outputId": "01d50a3d-cb75-4f95-963a-6af99031930b"
      },
      "execution_count": null,
      "outputs": [
        {
          "output_type": "stream",
          "name": "stdout",
          "text": [
            "0:\tlearn: 17.8554512\ttest: 18.0500419\tbest: 18.0500419 (0)\ttotal: 106ms\tremaining: 52.9s\n",
            "100:\tlearn: 14.0924399\ttest: 14.4368556\tbest: 14.4368556 (100)\ttotal: 18.1s\tremaining: 1m 11s\n",
            "200:\tlearn: 13.6338278\ttest: 14.0341677\tbest: 14.0341677 (200)\ttotal: 37.2s\tremaining: 55.4s\n",
            "300:\tlearn: 13.3657612\ttest: 13.8092694\tbest: 13.8091096 (299)\ttotal: 54.1s\tremaining: 35.7s\n",
            "400:\tlearn: 13.1627411\ttest: 13.6410397\tbest: 13.6410397 (400)\ttotal: 1m 13s\tremaining: 18.2s\n",
            "499:\tlearn: 13.0122623\ttest: 13.5144344\tbest: 13.5140624 (498)\ttotal: 1m 27s\tremaining: 0us\n",
            "\n",
            "bestTest = 13.51406243\n",
            "bestIteration = 498\n",
            "\n",
            "Shrink model to first 499 iterations.\n"
          ]
        }
      ]
    },
    {
      "cell_type": "code",
      "source": [
        "print(\"Testing performance\")\n",
        "print('RMSE: {:.2f}'.format(rmse))\n",
        "print('MSE: {:.2f}'.format(mse))"
      ],
      "metadata": {
        "colab": {
          "base_uri": "https://localhost:8080/"
        },
        "id": "zP90tlNCddsa",
        "outputId": "9948526e-81ea-4abe-d293-2bbede2b4d71"
      },
      "execution_count": null,
      "outputs": [
        {
          "output_type": "stream",
          "name": "stdout",
          "text": [
            "Testing performance\n",
            "RMSE: 13.04\n",
            "MSE: 170.00\n"
          ]
        }
      ]
    },
    {
      "cell_type": "markdown",
      "source": [
        "#catboost + 5 feature"
      ],
      "metadata": {
        "id": "XsoMTPV3dgUZ"
      }
    },
    {
      "cell_type": "code",
      "source": [
        "feature = ['DEST_CODE','UNIT_NAME','ITEM_CODE','REG_Code','ITEM_DESC_CLEAN_labelencoding']"
      ],
      "metadata": {
        "id": "hMj3_-s_dkF0"
      },
      "execution_count": null,
      "outputs": []
    },
    {
      "cell_type": "code",
      "source": [
        "from sklearn.model_selection import train_test_split\n",
        "\n",
        "X = Datawithoutbill_df[feature]\n",
        "y = Datawithoutbill_df[\"QTY\"]\n",
        "\n",
        "X_train, X_val, y_train, y_val = train_test_split(X, y, test_size=0.2, random_state=42)\n",
        "\n",
        "model.fit(X_train, y_train,\n",
        "          eval_set=(X_val, y_val),\n",
        "          cat_features=[],\n",
        "          early_stopping_rounds=100)\n",
        "\n",
        "rmse = np.sqrt(mean_squared_error(y_val, y_pred))\n",
        "mse = mean_squared_error(y_val, y_pred)"
      ],
      "metadata": {
        "colab": {
          "base_uri": "https://localhost:8080/"
        },
        "id": "LwKcmiBjdk5p",
        "outputId": "2a5fc9a5-9044-4ac7-cd9e-74bc3a7c37c8"
      },
      "execution_count": null,
      "outputs": [
        {
          "output_type": "stream",
          "name": "stdout",
          "text": [
            "0:\tlearn: 17.8597393\ttest: 18.0546021\tbest: 18.0546021 (0)\ttotal: 79.8ms\tremaining: 39.8s\n",
            "100:\tlearn: 14.2529845\ttest: 14.5248721\tbest: 14.5248721 (100)\ttotal: 15.4s\tremaining: 1m\n",
            "200:\tlearn: 13.9068845\ttest: 14.1644452\tbest: 14.1644452 (200)\ttotal: 25.8s\tremaining: 38.4s\n",
            "300:\tlearn: 13.7377798\ttest: 13.9827700\tbest: 13.9827700 (300)\ttotal: 38.3s\tremaining: 25.3s\n",
            "400:\tlearn: 13.6077451\ttest: 13.8394292\tbest: 13.8392898 (399)\ttotal: 47.7s\tremaining: 11.8s\n",
            "499:\tlearn: 13.5193943\ttest: 13.7569095\tbest: 13.7569095 (499)\ttotal: 58.8s\tremaining: 0us\n",
            "\n",
            "bestTest = 13.75690947\n",
            "bestIteration = 499\n",
            "\n"
          ]
        }
      ]
    },
    {
      "cell_type": "code",
      "source": [
        "print(\"Testing performance\")\n",
        "print('RMSE: {:.2f}'.format(rmse))\n",
        "print('MSE: {:.2f}'.format(mse))"
      ],
      "metadata": {
        "colab": {
          "base_uri": "https://localhost:8080/"
        },
        "id": "BykEgDs9dluF",
        "outputId": "e14c9a93-9a83-4679-c07b-884fffb416c2"
      },
      "execution_count": null,
      "outputs": [
        {
          "output_type": "stream",
          "name": "stdout",
          "text": [
            "Testing performance\n",
            "RMSE: 13.04\n",
            "MSE: 170.00\n"
          ]
        }
      ]
    },
    {
      "cell_type": "markdown",
      "source": [
        "#catboost + 7 feature"
      ],
      "metadata": {
        "id": "sXy3KKs2dnU1"
      }
    },
    {
      "cell_type": "code",
      "source": [
        "feature = ['DEST_CODE','UNIT_NAME','ITEM_CODE','REG_Code','ITEM_DESC_CLEAN_labelencoding','ITEM_NAMEในระบบ','CONSIGNEE_TAMBON']"
      ],
      "metadata": {
        "id": "p58RAJBjdqd5"
      },
      "execution_count": null,
      "outputs": []
    },
    {
      "cell_type": "code",
      "source": [
        "from sklearn.model_selection import train_test_split\n",
        "\n",
        "X = Datawithoutbill_df[feature]\n",
        "y = Datawithoutbill_df[\"QTY\"]\n",
        "\n",
        "X_train, X_val, y_train, y_val = train_test_split(X, y, test_size=0.2, random_state=42)\n",
        "\n",
        "model.fit(X_train, y_train,\n",
        "          eval_set=(X_val, y_val),\n",
        "          cat_features=[],\n",
        "          early_stopping_rounds=100)\n",
        "\n",
        "rmse = np.sqrt(mean_squared_error(y_val, y_pred))\n",
        "mse = mean_squared_error(y_val, y_pred)"
      ],
      "metadata": {
        "colab": {
          "base_uri": "https://localhost:8080/"
        },
        "id": "KdofzwtHds4i",
        "outputId": "c5a1f4bb-312b-48a7-f5be-fab77f558230"
      },
      "execution_count": null,
      "outputs": [
        {
          "output_type": "stream",
          "name": "stdout",
          "text": [
            "0:\tlearn: 17.8559018\ttest: 18.0503515\tbest: 18.0503515 (0)\ttotal: 87.6ms\tremaining: 43.7s\n",
            "100:\tlearn: 14.1818970\ttest: 14.4835466\tbest: 14.4835466 (100)\ttotal: 11.1s\tremaining: 43.9s\n",
            "200:\tlearn: 13.7762451\ttest: 14.0768170\tbest: 14.0768170 (200)\ttotal: 22.8s\tremaining: 33.9s\n",
            "300:\tlearn: 13.5541933\ttest: 13.8259613\tbest: 13.8259613 (300)\ttotal: 32.6s\tremaining: 21.6s\n",
            "400:\tlearn: 13.3919180\ttest: 13.6535237\tbest: 13.6535237 (400)\ttotal: 43.4s\tremaining: 10.7s\n",
            "499:\tlearn: 13.2644875\ttest: 13.5378216\tbest: 13.5378216 (499)\ttotal: 54.1s\tremaining: 0us\n",
            "\n",
            "bestTest = 13.53782161\n",
            "bestIteration = 499\n",
            "\n"
          ]
        }
      ]
    },
    {
      "cell_type": "code",
      "source": [
        "print(\"Testing performance\")\n",
        "print('RMSE: {:.2f}'.format(rmse))\n",
        "print('MSE: {:.2f}'.format(mse))"
      ],
      "metadata": {
        "colab": {
          "base_uri": "https://localhost:8080/"
        },
        "id": "W--9ydeQdu7C",
        "outputId": "9421f539-3e6a-4ca5-88fd-04b6891ce914"
      },
      "execution_count": null,
      "outputs": [
        {
          "output_type": "stream",
          "name": "stdout",
          "text": [
            "Testing performance\n",
            "RMSE: 13.04\n",
            "MSE: 170.00\n"
          ]
        }
      ]
    },
    {
      "cell_type": "code",
      "source": [
        "'''\n",
        "catboost + all feature + lr=0.1 + n_estimators=500\n",
        "Testing performance\n",
        "RMSE: 13.24\n",
        "MSE: 175.18\n",
        "\n",
        "catboost + optuna\n",
        "Testing performance\n",
        "RMSE: 13.24\n",
        "MSE: 175.18\n",
        "\n",
        "catboost + drop feature importance = 0\n",
        "Testing performance\n",
        "RMSE: 13.04\n",
        "MSE: 170.00\n",
        "\n",
        "catboost + 10 feature\n",
        "Testing performance\n",
        "RMSE: 13.04\n",
        "MSE: 170.00\n",
        "\n",
        "catboost + 20 feature\n",
        "Testing performance\n",
        "RMSE: 13.04\n",
        "MSE: 170.00\n",
        "\n",
        "catboost + 5 feature\n",
        "Testing performance\n",
        "RMSE: 13.04\n",
        "MSE: 170.00\n",
        "\n",
        "catboost + 7 feature\n",
        "Testing performance\n",
        "RMSE: 13.04\n",
        "MSE: 170.00\n",
        "'''"
      ],
      "metadata": {
        "id": "7Ecxq_q4U8CT"
      },
      "execution_count": null,
      "outputs": []
    },
    {
      "cell_type": "markdown",
      "source": [
        "#|||||||||||||||||||||||||||||||||||||||||||||||||||||||||||||||||||||||||||||||"
      ],
      "metadata": {
        "id": "WjGeWyZwg59h"
      }
    },
    {
      "cell_type": "markdown",
      "source": [
        "#lightgbm + all feature"
      ],
      "metadata": {
        "id": "K8GGdQcQeG3V"
      }
    },
    {
      "cell_type": "code",
      "source": [
        "!pip install -q lightgbm"
      ],
      "metadata": {
        "id": "CeNYuemTeviV"
      },
      "execution_count": null,
      "outputs": []
    },
    {
      "cell_type": "code",
      "source": [
        "import lightgbm as lgb\n",
        "from lightgbm import LGBMRegressor\n",
        "from sklearn.metrics import mean_squared_error\n",
        "from sklearn.model_selection import train_test_split\n",
        "\n",
        "X = Datawithoutbill_df.drop(columns=[\"QTY\"])\n",
        "y = Datawithoutbill_df[\"QTY\"]\n",
        "\n",
        "X_train, X_val, y_train, y_val = train_test_split(X, y, test_size=0.2, random_state=42)\n",
        "\n",
        "model = LGBMRegressor(n_estimators=500, learning_rate=0.1, random_state=42)\n",
        "\n",
        "model.fit(X_train, y_train,\n",
        "          eval_set=[(X_val, y_val)],\n",
        "          eval_metric='rmse')\n",
        "\n",
        "y_pred = model.predict(X_val)\n",
        "\n",
        "rmse = np.sqrt(mean_squared_error(y_val, y_pred))\n",
        "mse = mean_squared_error(y_val, y_pred)"
      ],
      "metadata": {
        "colab": {
          "base_uri": "https://localhost:8080/"
        },
        "id": "HZELJcYIeK-U",
        "outputId": "ad972bab-981d-41d6-bd3e-3bd68b77e824"
      },
      "execution_count": null,
      "outputs": [
        {
          "output_type": "stream",
          "name": "stdout",
          "text": [
            "[LightGBM] [Info] Auto-choosing row-wise multi-threading, the overhead of testing was 0.123342 seconds.\n",
            "You can set `force_row_wise=true` to remove the overhead.\n",
            "And if memory is not enough, you can set `force_col_wise=true`.\n",
            "[LightGBM] [Info] Total Bins 2656\n",
            "[LightGBM] [Info] Number of data points in the train set: 685176, number of used features: 29\n",
            "[LightGBM] [Info] Start training from score 5.571634\n"
          ]
        }
      ]
    },
    {
      "cell_type": "code",
      "source": [
        "print(\"Testing performance\")\n",
        "print('RMSE: {:.2f}'.format(rmse))\n",
        "print('MSE: {:.2f}'.format(mse))"
      ],
      "metadata": {
        "colab": {
          "base_uri": "https://localhost:8080/"
        },
        "id": "04K83q_2e7Lu",
        "outputId": "466dd89c-2e5a-45d6-ee36-08484945f17d"
      },
      "execution_count": null,
      "outputs": [
        {
          "output_type": "stream",
          "name": "stdout",
          "text": [
            "Testing performance\n",
            "RMSE: 13.05\n",
            "MSE: 170.30\n"
          ]
        }
      ]
    },
    {
      "cell_type": "markdown",
      "source": [
        "#lightgbm + drop importance = 0"
      ],
      "metadata": {
        "id": "2kVbofKzgElP"
      }
    },
    {
      "cell_type": "code",
      "source": [
        "feature = ['CONSIGNEE_PROVINCE', 'Temperature', 'Humidity', 'Wind_Speed', 'Condition', 'Dew_Point', 'Wind', 'Wind_Gust', 'Pressure', 'CONSIGNEE_TAMBON', 'CONSIGNEE_AMPHUR', 'CONSIGNEE_ZIPCODE', 'ITEM_CODE', 'ITEM_NAMEในระบบ', 'UNIT_NAME', 'REG_Code', 'DEST_CODE', 'Category', 'is_payday', 'month', 'day', 'day_of_week', 'day_of_year','ITEM_DESC_CLEAN_labelencoding']"
      ],
      "metadata": {
        "id": "c40OfU9ggHXU"
      },
      "execution_count": null,
      "outputs": []
    },
    {
      "cell_type": "code",
      "source": [
        "import lightgbm as lgb\n",
        "from lightgbm import LGBMRegressor\n",
        "from sklearn.metrics import mean_squared_error\n",
        "from sklearn.model_selection import train_test_split\n",
        "\n",
        "X = Datawithoutbill_df[feature]\n",
        "y = Datawithoutbill_df[\"QTY\"]\n",
        "\n",
        "X_train, X_val, y_train, y_val = train_test_split(X, y, test_size=0.2, random_state=42)\n",
        "\n",
        "model = LGBMRegressor(n_estimators=500, learning_rate=0.1, random_state=42)\n",
        "\n",
        "model.fit(X_train, y_train,\n",
        "          eval_set=[(X_val, y_val)],\n",
        "          eval_metric='rmse',)\n",
        "\n",
        "y_pred = model.predict(X_val)\n",
        "\n",
        "rmse = np.sqrt(mean_squared_error(y_val, y_pred))\n",
        "mse = mean_squared_error(y_val, y_pred)"
      ],
      "metadata": {
        "colab": {
          "base_uri": "https://localhost:8080/"
        },
        "id": "dFxx6nysgJ-6",
        "outputId": "b3dba985-403c-47bd-e21f-60b496c5589f"
      },
      "execution_count": null,
      "outputs": [
        {
          "output_type": "stream",
          "name": "stdout",
          "text": [
            "[LightGBM] [Info] Auto-choosing row-wise multi-threading, the overhead of testing was 0.098174 seconds.\n",
            "You can set `force_row_wise=true` to remove the overhead.\n",
            "And if memory is not enough, you can set `force_col_wise=true`.\n",
            "[LightGBM] [Info] Total Bins 2645\n",
            "[LightGBM] [Info] Number of data points in the train set: 685176, number of used features: 24\n",
            "[LightGBM] [Info] Start training from score 5.571634\n"
          ]
        }
      ]
    },
    {
      "cell_type": "code",
      "source": [
        "print(\"Testing performance\")\n",
        "print('RMSE: {:.2f}'.format(rmse))\n",
        "print('MSE: {:.2f}'.format(mse))"
      ],
      "metadata": {
        "colab": {
          "base_uri": "https://localhost:8080/"
        },
        "id": "R7HUD7CTgLPQ",
        "outputId": "470f4a84-0099-4410-966b-39e781d7cde9"
      },
      "execution_count": null,
      "outputs": [
        {
          "output_type": "stream",
          "name": "stdout",
          "text": [
            "Testing performance\n",
            "RMSE: 13.04\n",
            "MSE: 170.07\n"
          ]
        }
      ]
    },
    {
      "cell_type": "markdown",
      "source": [
        "#lightgbm + 10 feature"
      ],
      "metadata": {
        "id": "PcS463n0fQTk"
      }
    },
    {
      "cell_type": "code",
      "source": [
        "feature = ['DEST_CODE','UNIT_NAME','ITEM_CODE','REG_Code','ITEM_DESC_CLEAN_labelencoding','ITEM_NAMEในระบบ','CONSIGNEE_TAMBON','CONSIGNEE_ZIPCODE','Category','CONSIGNEE_PROVINCE']"
      ],
      "metadata": {
        "id": "FeTubiNefY27"
      },
      "execution_count": null,
      "outputs": []
    },
    {
      "cell_type": "code",
      "source": [
        "import lightgbm as lgb\n",
        "from lightgbm import LGBMRegressor\n",
        "from sklearn.metrics import mean_squared_error\n",
        "from sklearn.model_selection import train_test_split\n",
        "\n",
        "X = Datawithoutbill_df[feature]\n",
        "y = Datawithoutbill_df[\"QTY\"]\n",
        "\n",
        "X_train, X_val, y_train, y_val = train_test_split(X, y, test_size=0.2, random_state=42)\n",
        "\n",
        "model = LGBMRegressor(n_estimators=500, learning_rate=0.1, random_state=42)\n",
        "\n",
        "model.fit(X_train, y_train,\n",
        "          eval_set=[(X_val, y_val)],\n",
        "          eval_metric='rmse',)\n",
        "\n",
        "y_pred = model.predict(X_val)\n",
        "\n",
        "rmse = np.sqrt(mean_squared_error(y_val, y_pred))\n",
        "mse = mean_squared_error(y_val, y_pred)"
      ],
      "metadata": {
        "colab": {
          "base_uri": "https://localhost:8080/"
        },
        "id": "WB6Vzu-nfWE2",
        "outputId": "647cd2fb-2d7e-4bbb-c07d-476b064de857"
      },
      "execution_count": null,
      "outputs": [
        {
          "output_type": "stream",
          "name": "stdout",
          "text": [
            "[LightGBM] [Info] Auto-choosing row-wise multi-threading, the overhead of testing was 0.042585 seconds.\n",
            "You can set `force_row_wise=true` to remove the overhead.\n",
            "And if memory is not enough, you can set `force_col_wise=true`.\n",
            "[LightGBM] [Info] Total Bins 1389\n",
            "[LightGBM] [Info] Number of data points in the train set: 685176, number of used features: 10\n",
            "[LightGBM] [Info] Start training from score 5.571634\n"
          ]
        }
      ]
    },
    {
      "cell_type": "code",
      "source": [
        "print(\"Testing performance\")\n",
        "print('RMSE: {:.2f}'.format(rmse))\n",
        "print('MSE: {:.2f}'.format(mse))"
      ],
      "metadata": {
        "colab": {
          "base_uri": "https://localhost:8080/"
        },
        "id": "2Gup9rOzffK7",
        "outputId": "a64dbc95-e663-441a-cf36-7bdfa1d3d929"
      },
      "execution_count": null,
      "outputs": [
        {
          "output_type": "stream",
          "name": "stdout",
          "text": [
            "Testing performance\n",
            "RMSE: 12.84\n",
            "MSE: 164.77\n"
          ]
        }
      ]
    },
    {
      "cell_type": "markdown",
      "source": [
        "#lightgbm + 20 feature"
      ],
      "metadata": {
        "id": "hV_auZTrfgXr"
      }
    },
    {
      "cell_type": "code",
      "source": [
        "feature = ['DEST_CODE','UNIT_NAME','ITEM_CODE','REG_Code','ITEM_DESC_CLEAN_labelencoding','ITEM_NAMEในระบบ','CONSIGNEE_TAMBON','CONSIGNEE_ZIPCODE','Category','CONSIGNEE_PROVINCE','day_of_year','month','CONSIGNEE_AMPHUR','Wind_Gust','is_payday','day_of_week','Condition','Wind_Speed','Dew_Point','Humidity','day']"
      ],
      "metadata": {
        "id": "DxepXznIfllC"
      },
      "execution_count": null,
      "outputs": []
    },
    {
      "cell_type": "code",
      "source": [
        "import lightgbm as lgb\n",
        "from lightgbm import LGBMRegressor\n",
        "from sklearn.metrics import mean_squared_error\n",
        "from sklearn.model_selection import train_test_split\n",
        "\n",
        "X = Datawithoutbill_df[feature]\n",
        "y = Datawithoutbill_df[\"QTY\"]\n",
        "\n",
        "X_train, X_val, y_train, y_val = train_test_split(X, y, test_size=0.2, random_state=42)\n",
        "\n",
        "model = LGBMRegressor(n_estimators=500, learning_rate=0.1, random_state=42)\n",
        "\n",
        "model.fit(X_train, y_train,\n",
        "          eval_set=[(X_val, y_val)],\n",
        "          eval_metric='rmse',)\n",
        "\n",
        "y_pred = model.predict(X_val)\n",
        "\n",
        "rmse = np.sqrt(mean_squared_error(y_val, y_pred))\n",
        "mse = mean_squared_error(y_val, y_pred)"
      ],
      "metadata": {
        "colab": {
          "base_uri": "https://localhost:8080/"
        },
        "id": "BjHbC_nifn7O",
        "outputId": "9a8475ef-d0ad-4de5-ee6c-80e4af9998ab"
      },
      "execution_count": null,
      "outputs": [
        {
          "output_type": "stream",
          "name": "stdout",
          "text": [
            "[LightGBM] [Info] Auto-choosing row-wise multi-threading, the overhead of testing was 0.082756 seconds.\n",
            "You can set `force_row_wise=true` to remove the overhead.\n",
            "And if memory is not enough, you can set `force_col_wise=true`.\n",
            "[LightGBM] [Info] Total Bins 2290\n",
            "[LightGBM] [Info] Number of data points in the train set: 685176, number of used features: 21\n",
            "[LightGBM] [Info] Start training from score 5.571634\n"
          ]
        }
      ]
    },
    {
      "cell_type": "code",
      "source": [
        "print(\"Testing performance\")\n",
        "print('RMSE: {:.2f}'.format(rmse))\n",
        "print('MSE: {:.2f}'.format(mse))"
      ],
      "metadata": {
        "colab": {
          "base_uri": "https://localhost:8080/"
        },
        "id": "rK6aUjmAfo9S",
        "outputId": "061a84b8-2d14-40f9-d964-3c5da58729e8"
      },
      "execution_count": null,
      "outputs": [
        {
          "output_type": "stream",
          "name": "stdout",
          "text": [
            "Testing performance\n",
            "RMSE: 13.00\n",
            "MSE: 169.01\n"
          ]
        }
      ]
    },
    {
      "cell_type": "markdown",
      "source": [
        "#lightgbm + 5 feature"
      ],
      "metadata": {
        "id": "jbuJ1rU_f3PC"
      }
    },
    {
      "cell_type": "code",
      "source": [
        "feature = ['DEST_CODE','UNIT_NAME','ITEM_CODE','REG_Code','ITEM_DESC_CLEAN_labelencoding']"
      ],
      "metadata": {
        "id": "5YmJDN-Yf5em"
      },
      "execution_count": null,
      "outputs": []
    },
    {
      "cell_type": "code",
      "source": [
        "import lightgbm as lgb\n",
        "from lightgbm import LGBMRegressor\n",
        "from sklearn.metrics import mean_squared_error\n",
        "from sklearn.model_selection import train_test_split\n",
        "\n",
        "X = Datawithoutbill_df[feature]\n",
        "y = Datawithoutbill_df[\"QTY\"]\n",
        "\n",
        "X_train, X_val, y_train, y_val = train_test_split(X, y, test_size=0.2, random_state=42)\n",
        "\n",
        "model = LGBMRegressor(n_estimators=500, learning_rate=0.1, random_state=42)\n",
        "\n",
        "model.fit(X_train, y_train,\n",
        "          eval_set=[(X_val, y_val)],\n",
        "          eval_metric='rmse',)\n",
        "\n",
        "y_pred = model.predict(X_val)\n",
        "\n",
        "rmse = np.sqrt(mean_squared_error(y_val, y_pred))\n",
        "mse = mean_squared_error(y_val, y_pred)"
      ],
      "metadata": {
        "colab": {
          "base_uri": "https://localhost:8080/"
        },
        "id": "ZbBZWbn0f5uk",
        "outputId": "58b22196-9916-4733-d9ce-5f5e5951ee4f"
      },
      "execution_count": null,
      "outputs": [
        {
          "output_type": "stream",
          "name": "stdout",
          "text": [
            "[LightGBM] [Info] Auto-choosing col-wise multi-threading, the overhead of testing was 0.067907 seconds.\n",
            "You can set `force_col_wise=true` to remove the overhead.\n",
            "[LightGBM] [Info] Total Bins 614\n",
            "[LightGBM] [Info] Number of data points in the train set: 685176, number of used features: 5\n",
            "[LightGBM] [Info] Start training from score 5.571634\n"
          ]
        }
      ]
    },
    {
      "cell_type": "code",
      "source": [
        "print(\"Testing performance\")\n",
        "print('RMSE: {:.2f}'.format(rmse))\n",
        "print('MSE: {:.2f}'.format(mse))"
      ],
      "metadata": {
        "colab": {
          "base_uri": "https://localhost:8080/"
        },
        "id": "kyYSVcyrf6-H",
        "outputId": "f82e1401-dd4f-4049-d076-a59b91f7f449"
      },
      "execution_count": null,
      "outputs": [
        {
          "output_type": "stream",
          "name": "stdout",
          "text": [
            "Testing performance\n",
            "RMSE: 13.31\n",
            "MSE: 177.09\n"
          ]
        }
      ]
    },
    {
      "cell_type": "markdown",
      "source": [
        "#lightgbm + 7 feature"
      ],
      "metadata": {
        "id": "wUirIRt0gN25"
      }
    },
    {
      "cell_type": "code",
      "source": [
        "feature = ['DEST_CODE','UNIT_NAME','ITEM_CODE','REG_Code','ITEM_DESC_CLEAN_labelencoding','ITEM_NAMEในระบบ','CONSIGNEE_TAMBON']"
      ],
      "metadata": {
        "id": "Wbx2NJiCgO8L"
      },
      "execution_count": null,
      "outputs": []
    },
    {
      "cell_type": "code",
      "source": [
        "import lightgbm as lgb\n",
        "from lightgbm import LGBMRegressor\n",
        "from sklearn.metrics import mean_squared_error\n",
        "from sklearn.model_selection import train_test_split\n",
        "\n",
        "X = Datawithoutbill_df[feature]\n",
        "y = Datawithoutbill_df[\"QTY\"]\n",
        "\n",
        "X_train, X_val, y_train, y_val = train_test_split(X, y, test_size=0.2, random_state=42)\n",
        "\n",
        "model = LGBMRegressor(n_estimators=500, learning_rate=0.1, random_state=42)\n",
        "\n",
        "model.fit(X_train, y_train,\n",
        "          eval_set=[(X_val, y_val)],\n",
        "          eval_metric='rmse',)\n",
        "\n",
        "y_pred = model.predict(X_val)\n",
        "\n",
        "rmse = np.sqrt(mean_squared_error(y_val, y_pred))\n",
        "mse = mean_squared_error(y_val, y_pred)"
      ],
      "metadata": {
        "colab": {
          "base_uri": "https://localhost:8080/"
        },
        "id": "M-sI_uABgRfc",
        "outputId": "e78b06c2-b780-4d64-ea40-7b0bd013c303"
      },
      "execution_count": null,
      "outputs": [
        {
          "output_type": "stream",
          "name": "stdout",
          "text": [
            "[LightGBM] [Info] Auto-choosing col-wise multi-threading, the overhead of testing was 0.111292 seconds.\n",
            "You can set `force_col_wise=true` to remove the overhead.\n",
            "[LightGBM] [Info] Total Bins 1120\n",
            "[LightGBM] [Info] Number of data points in the train set: 685176, number of used features: 7\n",
            "[LightGBM] [Info] Start training from score 5.571634\n"
          ]
        }
      ]
    },
    {
      "cell_type": "code",
      "source": [
        "print(\"Testing performance\")\n",
        "print('RMSE: {:.2f}'.format(rmse))\n",
        "print('MSE: {:.2f}'.format(mse))"
      ],
      "metadata": {
        "colab": {
          "base_uri": "https://localhost:8080/"
        },
        "id": "d8Vsw7IJgSYP",
        "outputId": "be75baef-3a63-4ef9-91e0-572ed376ef72"
      },
      "execution_count": null,
      "outputs": [
        {
          "output_type": "stream",
          "name": "stdout",
          "text": [
            "Testing performance\n",
            "RMSE: 12.89\n",
            "MSE: 166.24\n"
          ]
        }
      ]
    },
    {
      "cell_type": "code",
      "source": [
        "'''\n",
        "lightgbm + all feature + lr=0.1 + n_estimators=500\n",
        "Testing performance\n",
        "RMSE: 13.05\n",
        "MSE: 170.30\n",
        "\n",
        "lightgbm + drop feature importance = 0\n",
        "Testing performance\n",
        "RMSE: 13.04\n",
        "MSE: 170.07\n",
        "\n",
        "lightgbm + 10 feature\n",
        "Testing performance\n",
        "RMSE: 12.84\n",
        "MSE: 164.77\n",
        "\n",
        "lightgbm + 20 feature\n",
        "Testing performance\n",
        "RMSE: 13.00\n",
        "MSE: 169.01\n",
        "\n",
        "lightgbm + 5 feature\n",
        "Testing performance\n",
        "RMSE: 13.31\n",
        "MSE: 177.09\n",
        "\n",
        "lightgbm + 7 feature\n",
        "Testing performance\n",
        "RMSE: 12.89\n",
        "MSE: 166.24\n",
        "\n",
        "'''"
      ],
      "metadata": {
        "id": "2eOICRWohpcY"
      },
      "execution_count": null,
      "outputs": []
    },
    {
      "cell_type": "markdown",
      "source": [
        "#|||||||||||||||||||||||||||||||||||||||||||||||||||||||||||||||||||||||||||||||"
      ],
      "metadata": {
        "id": "bflnaNiCjrp7"
      }
    },
    {
      "cell_type": "markdown",
      "source": [
        "#Neural Network + all feature"
      ],
      "metadata": {
        "id": "rbr4LM2TkY4N"
      }
    },
    {
      "cell_type": "code",
      "source": [
        "import numpy as np\n",
        "import tensorflow as tf\n",
        "from tensorflow import keras\n",
        "from sklearn.model_selection import train_test_split\n",
        "from sklearn.preprocessing import StandardScaler\n",
        "from sklearn.metrics import mean_squared_error\n",
        "\n",
        "X = Datawithoutbill_df.drop(columns=[\"QTY\"])\n",
        "y = Datawithoutbill_df[\"QTY\"]\n",
        "X_train, X_val, y_train, y_val = train_test_split(X, y, test_size=0.2, random_state=42)\n",
        "\n",
        "scaler = StandardScaler()\n",
        "X_train_scaled = scaler.fit_transform(X_train)\n",
        "X_val_scaled = scaler.transform(X_val)\n",
        "\n",
        "def build_model():\n",
        "    model = keras.Sequential([\n",
        "        keras.layers.Dense(64, activation='relu', input_shape=(X_train.shape[1],)),\n",
        "        keras.layers.Dense(64, activation='relu'),\n",
        "        keras.layers.Dense(1)\n",
        "    ])\n",
        "\n",
        "    model.compile(optimizer='adam', loss='mse', metrics=[tf.keras.metrics.RootMeanSquaredError()])\n",
        "    return model\n",
        "\n",
        "model = build_model()\n",
        "\n",
        "history = model.fit(X_train_scaled, y_train, epochs=10, validation_data=(X_val_scaled, y_val), batch_size=32, verbose=1)\n",
        "\n",
        "y_pred = model.predict(X_val_scaled)\n",
        "rmse = np.sqrt(mean_squared_error(y_val, y_pred))\n",
        "print(f\"RMSE: {rmse}\")"
      ],
      "metadata": {
        "colab": {
          "base_uri": "https://localhost:8080/"
        },
        "id": "t4F2YrOJjwnY",
        "outputId": "28622fb6-bebe-41b7-9102-94f6e0e0c2eb"
      },
      "execution_count": null,
      "outputs": [
        {
          "output_type": "stream",
          "name": "stderr",
          "text": [
            "/usr/local/lib/python3.10/dist-packages/keras/src/layers/core/dense.py:87: UserWarning: Do not pass an `input_shape`/`input_dim` argument to a layer. When using Sequential models, prefer using an `Input(shape)` object as the first layer in the model instead.\n",
            "  super().__init__(activity_regularizer=activity_regularizer, **kwargs)\n"
          ]
        },
        {
          "output_type": "stream",
          "name": "stdout",
          "text": [
            "Epoch 1/10\n",
            "\u001b[1m21412/21412\u001b[0m \u001b[32m━━━━━━━━━━━━━━━━━━━━\u001b[0m\u001b[37m\u001b[0m \u001b[1m56s\u001b[0m 3ms/step - loss: 315.0901 - root_mean_squared_error: 17.7247 - val_loss: 270.8125 - val_root_mean_squared_error: 16.4564\n",
            "Epoch 2/10\n",
            "\u001b[1m21412/21412\u001b[0m \u001b[32m━━━━━━━━━━━━━━━━━━━━\u001b[0m\u001b[37m\u001b[0m \u001b[1m51s\u001b[0m 2ms/step - loss: 253.0567 - root_mean_squared_error: 15.9032 - val_loss: 254.4444 - val_root_mean_squared_error: 15.9513\n",
            "Epoch 3/10\n",
            "\u001b[1m21412/21412\u001b[0m \u001b[32m━━━━━━━━━━━━━━━━━━━━\u001b[0m\u001b[37m\u001b[0m \u001b[1m82s\u001b[0m 2ms/step - loss: 253.7331 - root_mean_squared_error: 15.9212 - val_loss: 243.6880 - val_root_mean_squared_error: 15.6105\n",
            "Epoch 4/10\n",
            "\u001b[1m21412/21412\u001b[0m \u001b[32m━━━━━━━━━━━━━━━━━━━━\u001b[0m\u001b[37m\u001b[0m \u001b[1m81s\u001b[0m 2ms/step - loss: 231.9713 - root_mean_squared_error: 15.2289 - val_loss: 237.5117 - val_root_mean_squared_error: 15.4114\n",
            "Epoch 5/10\n",
            "\u001b[1m21412/21412\u001b[0m \u001b[32m━━━━━━━━━━━━━━━━━━━━\u001b[0m\u001b[37m\u001b[0m \u001b[1m48s\u001b[0m 2ms/step - loss: 227.4753 - root_mean_squared_error: 15.0804 - val_loss: 237.0795 - val_root_mean_squared_error: 15.3974\n",
            "Epoch 6/10\n",
            "\u001b[1m21412/21412\u001b[0m \u001b[32m━━━━━━━━━━━━━━━━━━━━\u001b[0m\u001b[37m\u001b[0m \u001b[1m48s\u001b[0m 2ms/step - loss: 221.2595 - root_mean_squared_error: 14.8704 - val_loss: 237.1828 - val_root_mean_squared_error: 15.4007\n",
            "Epoch 7/10\n",
            "\u001b[1m21412/21412\u001b[0m \u001b[32m━━━━━━━━━━━━━━━━━━━━\u001b[0m\u001b[37m\u001b[0m \u001b[1m55s\u001b[0m 3ms/step - loss: 218.1262 - root_mean_squared_error: 14.7617 - val_loss: 226.3724 - val_root_mean_squared_error: 15.0457\n",
            "Epoch 8/10\n",
            "\u001b[1m21412/21412\u001b[0m \u001b[32m━━━━━━━━━━━━━━━━━━━━\u001b[0m\u001b[37m\u001b[0m \u001b[1m84s\u001b[0m 3ms/step - loss: 230.7564 - root_mean_squared_error: 15.1821 - val_loss: 228.6643 - val_root_mean_squared_error: 15.1217\n",
            "Epoch 9/10\n",
            "\u001b[1m21412/21412\u001b[0m \u001b[32m━━━━━━━━━━━━━━━━━━━━\u001b[0m\u001b[37m\u001b[0m \u001b[1m78s\u001b[0m 2ms/step - loss: 215.1760 - root_mean_squared_error: 14.6664 - val_loss: 231.3380 - val_root_mean_squared_error: 15.2098\n",
            "Epoch 10/10\n",
            "\u001b[1m21412/21412\u001b[0m \u001b[32m━━━━━━━━━━━━━━━━━━━━\u001b[0m\u001b[37m\u001b[0m \u001b[1m47s\u001b[0m 2ms/step - loss: 210.8870 - root_mean_squared_error: 14.5159 - val_loss: 226.9977 - val_root_mean_squared_error: 15.0664\n",
            "\u001b[1m5353/5353\u001b[0m \u001b[32m━━━━━━━━━━━━━━━━━━━━\u001b[0m\u001b[37m\u001b[0m \u001b[1m9s\u001b[0m 2ms/step\n",
            "RMSE: 15.066455617749684\n"
          ]
        }
      ]
    },
    {
      "cell_type": "code",
      "source": [
        "print(\"Testing performance\")\n",
        "print('RMSE: {:.2f}'.format(rmse))\n",
        "print('MSE: {:.2f}'.format(mse))"
      ],
      "metadata": {
        "colab": {
          "base_uri": "https://localhost:8080/"
        },
        "id": "zmV4I4SPkmZp",
        "outputId": "be29b199-2289-4993-8d45-3e2294bc1159"
      },
      "execution_count": null,
      "outputs": [
        {
          "output_type": "stream",
          "name": "stdout",
          "text": [
            "Testing performance\n",
            "RMSE: 15.07\n",
            "MSE: 166.24\n"
          ]
        }
      ]
    },
    {
      "cell_type": "markdown",
      "source": [
        "#Neural Network + drop importance = 0"
      ],
      "metadata": {
        "id": "k_2At7UGlE6S"
      }
    },
    {
      "cell_type": "code",
      "source": [
        "feature = ['CONSIGNEE_PROVINCE', 'Temperature', 'Humidity', 'Wind_Speed', 'Condition', 'Dew_Point', 'Wind', 'Wind_Gust', 'Pressure', 'CONSIGNEE_TAMBON', 'CONSIGNEE_AMPHUR', 'CONSIGNEE_ZIPCODE', 'ITEM_CODE', 'ITEM_NAMEในระบบ', 'UNIT_NAME', 'REG_Code', 'DEST_CODE', 'Category', 'is_payday', 'month', 'day', 'day_of_week', 'day_of_year','ITEM_DESC_CLEAN_labelencoding']"
      ],
      "metadata": {
        "id": "HWmNmL1glQyO"
      },
      "execution_count": null,
      "outputs": []
    },
    {
      "cell_type": "code",
      "source": [
        "import numpy as np\n",
        "import tensorflow as tf\n",
        "from tensorflow import keras\n",
        "from sklearn.model_selection import train_test_split\n",
        "from sklearn.preprocessing import StandardScaler\n",
        "from sklearn.metrics import mean_squared_error\n",
        "\n",
        "X = Datawithoutbill_df[feature]\n",
        "y = Datawithoutbill_df[\"QTY\"]\n",
        "X_train, X_val, y_train, y_val = train_test_split(X, y, test_size=0.2, random_state=42)\n",
        "\n",
        "scaler = StandardScaler()\n",
        "X_train_scaled = scaler.fit_transform(X_train)\n",
        "X_val_scaled = scaler.transform(X_val)\n",
        "\n",
        "def build_model():\n",
        "    model = keras.Sequential([\n",
        "        keras.layers.Dense(64, activation='relu', input_shape=(X_train.shape[1],)),\n",
        "        keras.layers.Dense(64, activation='relu'),\n",
        "        keras.layers.Dense(1)\n",
        "    ])\n",
        "\n",
        "    model.compile(optimizer='adam', loss='mse', metrics=[tf.keras.metrics.RootMeanSquaredError()])\n",
        "    return model\n",
        "\n",
        "model = build_model()\n",
        "\n",
        "history = model.fit(X_train_scaled, y_train, epochs=10, validation_data=(X_val_scaled, y_val), batch_size=32, verbose=1)\n",
        "\n",
        "y_pred = model.predict(X_val_scaled)\n",
        "rmse = np.sqrt(mean_squared_error(y_val, y_pred))\n",
        "print(f\"RMSE: {rmse}\")"
      ],
      "metadata": {
        "colab": {
          "base_uri": "https://localhost:8080/"
        },
        "id": "kVjvlgL8lEpE",
        "outputId": "2c1f9e93-fe73-474a-f996-fdd0c70d07a1"
      },
      "execution_count": null,
      "outputs": [
        {
          "output_type": "stream",
          "name": "stderr",
          "text": [
            "/usr/local/lib/python3.10/dist-packages/keras/src/layers/core/dense.py:87: UserWarning: Do not pass an `input_shape`/`input_dim` argument to a layer. When using Sequential models, prefer using an `Input(shape)` object as the first layer in the model instead.\n",
            "  super().__init__(activity_regularizer=activity_regularizer, **kwargs)\n"
          ]
        },
        {
          "output_type": "stream",
          "name": "stdout",
          "text": [
            "Epoch 1/10\n",
            "\u001b[1m21412/21412\u001b[0m \u001b[32m━━━━━━━━━━━━━━━━━━━━\u001b[0m\u001b[37m\u001b[0m \u001b[1m50s\u001b[0m 2ms/step - loss: 308.1202 - root_mean_squared_error: 17.5511 - val_loss: 270.1651 - val_root_mean_squared_error: 16.4367\n",
            "Epoch 2/10\n",
            "\u001b[1m21412/21412\u001b[0m \u001b[32m━━━━━━━━━━━━━━━━━━━━\u001b[0m\u001b[37m\u001b[0m \u001b[1m48s\u001b[0m 2ms/step - loss: 265.0144 - root_mean_squared_error: 16.2705 - val_loss: 251.1633 - val_root_mean_squared_error: 15.8481\n",
            "Epoch 3/10\n",
            "\u001b[1m21412/21412\u001b[0m \u001b[32m━━━━━━━━━━━━━━━━━━━━\u001b[0m\u001b[37m\u001b[0m \u001b[1m52s\u001b[0m 2ms/step - loss: 243.8449 - root_mean_squared_error: 15.6110 - val_loss: 241.7338 - val_root_mean_squared_error: 15.5478\n",
            "Epoch 4/10\n",
            "\u001b[1m21412/21412\u001b[0m \u001b[32m━━━━━━━━━━━━━━━━━━━━\u001b[0m\u001b[37m\u001b[0m \u001b[1m52s\u001b[0m 2ms/step - loss: 226.3390 - root_mean_squared_error: 15.0418 - val_loss: 244.8911 - val_root_mean_squared_error: 15.6490\n",
            "Epoch 5/10\n",
            "\u001b[1m21412/21412\u001b[0m \u001b[32m━━━━━━━━━━━━━━━━━━━━\u001b[0m\u001b[37m\u001b[0m \u001b[1m53s\u001b[0m 2ms/step - loss: 231.0278 - root_mean_squared_error: 15.1944 - val_loss: 241.9827 - val_root_mean_squared_error: 15.5558\n",
            "Epoch 6/10\n",
            "\u001b[1m21412/21412\u001b[0m \u001b[32m━━━━━━━━━━━━━━━━━━━━\u001b[0m\u001b[37m\u001b[0m \u001b[1m80s\u001b[0m 2ms/step - loss: 226.8673 - root_mean_squared_error: 15.0596 - val_loss: 228.3996 - val_root_mean_squared_error: 15.1129\n",
            "Epoch 7/10\n",
            "\u001b[1m21412/21412\u001b[0m \u001b[32m━━━━━━━━━━━━━━━━━━━━\u001b[0m\u001b[37m\u001b[0m \u001b[1m78s\u001b[0m 2ms/step - loss: 216.9340 - root_mean_squared_error: 14.7209 - val_loss: 225.3076 - val_root_mean_squared_error: 15.0103\n",
            "Epoch 8/10\n",
            "\u001b[1m21412/21412\u001b[0m \u001b[32m━━━━━━━━━━━━━━━━━━━━\u001b[0m\u001b[37m\u001b[0m \u001b[1m55s\u001b[0m 3ms/step - loss: 225.6709 - root_mean_squared_error: 15.0098 - val_loss: 224.9590 - val_root_mean_squared_error: 14.9986\n",
            "Epoch 9/10\n",
            "\u001b[1m21412/21412\u001b[0m \u001b[32m━━━━━━━━━━━━━━━━━━━━\u001b[0m\u001b[37m\u001b[0m \u001b[1m49s\u001b[0m 2ms/step - loss: 212.4724 - root_mean_squared_error: 14.5694 - val_loss: 222.7336 - val_root_mean_squared_error: 14.9243\n",
            "Epoch 10/10\n",
            "\u001b[1m21412/21412\u001b[0m \u001b[32m━━━━━━━━━━━━━━━━━━━━\u001b[0m\u001b[37m\u001b[0m \u001b[1m86s\u001b[0m 2ms/step - loss: 218.8130 - root_mean_squared_error: 14.7888 - val_loss: 221.3154 - val_root_mean_squared_error: 14.8767\n",
            "\u001b[1m5353/5353\u001b[0m \u001b[32m━━━━━━━━━━━━━━━━━━━━\u001b[0m\u001b[37m\u001b[0m \u001b[1m11s\u001b[0m 2ms/step\n",
            "RMSE: 14.876674759500156\n"
          ]
        }
      ]
    },
    {
      "cell_type": "code",
      "source": [
        "print(\"Testing performance\")\n",
        "print('RMSE: {:.2f}'.format(rmse))\n",
        "print('MSE: {:.2f}'.format(mse))"
      ],
      "metadata": {
        "colab": {
          "base_uri": "https://localhost:8080/"
        },
        "id": "TcJH3wIzl3Dv",
        "outputId": "2db236e6-3176-4fcf-fa62-d80b7b990e34"
      },
      "execution_count": null,
      "outputs": [
        {
          "output_type": "stream",
          "name": "stdout",
          "text": [
            "Testing performance\n",
            "RMSE: 14.88\n",
            "MSE: 166.24\n"
          ]
        }
      ]
    },
    {
      "cell_type": "markdown",
      "source": [
        "#Neural Network + 10 feature"
      ],
      "metadata": {
        "id": "bZ1eMDJxlX7z"
      }
    },
    {
      "cell_type": "code",
      "source": [
        "feature = ['DEST_CODE','UNIT_NAME','ITEM_CODE','REG_Code','ITEM_DESC_CLEAN_labelencoding','ITEM_NAMEในระบบ','CONSIGNEE_TAMBON','CONSIGNEE_ZIPCODE','Category','CONSIGNEE_PROVINCE']"
      ],
      "metadata": {
        "id": "3MkaKV7llbTo"
      },
      "execution_count": null,
      "outputs": []
    },
    {
      "cell_type": "code",
      "source": [
        "import numpy as np\n",
        "import tensorflow as tf\n",
        "from tensorflow import keras\n",
        "from sklearn.model_selection import train_test_split\n",
        "from sklearn.preprocessing import StandardScaler\n",
        "from sklearn.metrics import mean_squared_error\n",
        "\n",
        "X = Datawithoutbill_df[feature]\n",
        "y = Datawithoutbill_df[\"QTY\"]\n",
        "X_train, X_val, y_train, y_val = train_test_split(X, y, test_size=0.2, random_state=42)\n",
        "\n",
        "scaler = StandardScaler()\n",
        "X_train_scaled = scaler.fit_transform(X_train)\n",
        "X_val_scaled = scaler.transform(X_val)\n",
        "\n",
        "def build_model():\n",
        "    model = keras.Sequential([\n",
        "        keras.layers.Dense(64, activation='relu', input_shape=(X_train.shape[1],)),\n",
        "        keras.layers.Dense(64, activation='relu'),\n",
        "        keras.layers.Dense(1)\n",
        "    ])\n",
        "\n",
        "    model.compile(optimizer='adam', loss='mse', metrics=[tf.keras.metrics.RootMeanSquaredError()])\n",
        "    return model\n",
        "\n",
        "model = build_model()\n",
        "\n",
        "history = model.fit(X_train_scaled, y_train, epochs=10, validation_data=(X_val_scaled, y_val), batch_size=32, verbose=1)\n",
        "\n",
        "y_pred = model.predict(X_val_scaled)\n",
        "rmse = np.sqrt(mean_squared_error(y_val, y_pred))\n",
        "print(f\"RMSE: {rmse}\")"
      ],
      "metadata": {
        "colab": {
          "base_uri": "https://localhost:8080/"
        },
        "id": "3kRl95YYlxqC",
        "outputId": "f8ec50a8-ab60-4c18-8645-46ff2a21e989"
      },
      "execution_count": null,
      "outputs": [
        {
          "output_type": "stream",
          "name": "stderr",
          "text": [
            "/usr/local/lib/python3.10/dist-packages/keras/src/layers/core/dense.py:87: UserWarning: Do not pass an `input_shape`/`input_dim` argument to a layer. When using Sequential models, prefer using an `Input(shape)` object as the first layer in the model instead.\n",
            "  super().__init__(activity_regularizer=activity_regularizer, **kwargs)\n"
          ]
        },
        {
          "output_type": "stream",
          "name": "stdout",
          "text": [
            "Epoch 1/10\n",
            "\u001b[1m21412/21412\u001b[0m \u001b[32m━━━━━━━━━━━━━━━━━━━━\u001b[0m\u001b[37m\u001b[0m \u001b[1m54s\u001b[0m 2ms/step - loss: 297.3412 - root_mean_squared_error: 17.2291 - val_loss: 257.1584 - val_root_mean_squared_error: 16.0362\n",
            "Epoch 2/10\n",
            "\u001b[1m21412/21412\u001b[0m \u001b[32m━━━━━━━━━━━━━━━━━━━━\u001b[0m\u001b[37m\u001b[0m \u001b[1m51s\u001b[0m 2ms/step - loss: 244.1848 - root_mean_squared_error: 15.6199 - val_loss: 240.7992 - val_root_mean_squared_error: 15.5177\n",
            "Epoch 3/10\n",
            "\u001b[1m21412/21412\u001b[0m \u001b[32m━━━━━━━━━━━━━━━━━━━━\u001b[0m\u001b[37m\u001b[0m \u001b[1m85s\u001b[0m 3ms/step - loss: 234.2104 - root_mean_squared_error: 15.3017 - val_loss: 236.5405 - val_root_mean_squared_error: 15.3799\n",
            "Epoch 4/10\n",
            "\u001b[1m21412/21412\u001b[0m \u001b[32m━━━━━━━━━━━━━━━━━━━━\u001b[0m\u001b[37m\u001b[0m \u001b[1m81s\u001b[0m 2ms/step - loss: 233.4397 - root_mean_squared_error: 15.2744 - val_loss: 231.9815 - val_root_mean_squared_error: 15.2309\n",
            "Epoch 5/10\n",
            "\u001b[1m21412/21412\u001b[0m \u001b[32m━━━━━━━━━━━━━━━━━━━━\u001b[0m\u001b[37m\u001b[0m \u001b[1m83s\u001b[0m 3ms/step - loss: 217.3292 - root_mean_squared_error: 14.7320 - val_loss: 231.1493 - val_root_mean_squared_error: 15.2036\n",
            "Epoch 6/10\n",
            "\u001b[1m21412/21412\u001b[0m \u001b[32m━━━━━━━━━━━━━━━━━━━━\u001b[0m\u001b[37m\u001b[0m \u001b[1m51s\u001b[0m 2ms/step - loss: 222.9034 - root_mean_squared_error: 14.9282 - val_loss: 229.5863 - val_root_mean_squared_error: 15.1521\n",
            "Epoch 7/10\n",
            "\u001b[1m21412/21412\u001b[0m \u001b[32m━━━━━━━━━━━━━━━━━━━━\u001b[0m\u001b[37m\u001b[0m \u001b[1m83s\u001b[0m 2ms/step - loss: 223.5980 - root_mean_squared_error: 14.9477 - val_loss: 229.7313 - val_root_mean_squared_error: 15.1569\n",
            "Epoch 8/10\n",
            "\u001b[1m21412/21412\u001b[0m \u001b[32m━━━━━━━━━━━━━━━━━━━━\u001b[0m\u001b[37m\u001b[0m \u001b[1m83s\u001b[0m 3ms/step - loss: 222.1707 - root_mean_squared_error: 14.9022 - val_loss: 225.0403 - val_root_mean_squared_error: 15.0013\n",
            "Epoch 9/10\n",
            "\u001b[1m21412/21412\u001b[0m \u001b[32m━━━━━━━━━━━━━━━━━━━━\u001b[0m\u001b[37m\u001b[0m \u001b[1m80s\u001b[0m 2ms/step - loss: 224.6458 - root_mean_squared_error: 14.9830 - val_loss: 224.0424 - val_root_mean_squared_error: 14.9680\n",
            "Epoch 10/10\n",
            "\u001b[1m21412/21412\u001b[0m \u001b[32m━━━━━━━━━━━━━━━━━━━━\u001b[0m\u001b[37m\u001b[0m \u001b[1m85s\u001b[0m 3ms/step - loss: 218.6479 - root_mean_squared_error: 14.7851 - val_loss: 221.2432 - val_root_mean_squared_error: 14.8742\n",
            "\u001b[1m5353/5353\u001b[0m \u001b[32m━━━━━━━━━━━━━━━━━━━━\u001b[0m\u001b[37m\u001b[0m \u001b[1m23s\u001b[0m 4ms/step\n",
            "RMSE: 14.87424477306859\n"
          ]
        }
      ]
    },
    {
      "cell_type": "code",
      "source": [
        "print(\"Testing performance\")\n",
        "print('RMSE: {:.2f}'.format(rmse))\n",
        "print('MSE: {:.2f}'.format(mse))"
      ],
      "metadata": {
        "colab": {
          "base_uri": "https://localhost:8080/"
        },
        "id": "YKndqr5Ll3og",
        "outputId": "3c5dae92-7666-4815-de7f-7059b47d68aa"
      },
      "execution_count": null,
      "outputs": [
        {
          "output_type": "stream",
          "name": "stdout",
          "text": [
            "Testing performance\n",
            "RMSE: 14.87\n",
            "MSE: 166.24\n"
          ]
        }
      ]
    },
    {
      "cell_type": "markdown",
      "source": [
        "#Neural Network + 20 feature"
      ],
      "metadata": {
        "id": "iDqAx_s6lcQQ"
      }
    },
    {
      "cell_type": "code",
      "source": [
        "feature = ['DEST_CODE','UNIT_NAME','ITEM_CODE','REG_Code','ITEM_DESC_CLEAN_labelencoding','ITEM_NAMEในระบบ','CONSIGNEE_TAMBON','CONSIGNEE_ZIPCODE','Category','CONSIGNEE_PROVINCE','day_of_year','month','CONSIGNEE_AMPHUR','Wind_Gust','is_payday','day_of_week','Condition','Wind_Speed','Dew_Point','Humidity','day']"
      ],
      "metadata": {
        "id": "waiGM5FFldwh"
      },
      "execution_count": null,
      "outputs": []
    },
    {
      "cell_type": "code",
      "source": [
        "import numpy as np\n",
        "import tensorflow as tf\n",
        "from tensorflow import keras\n",
        "from sklearn.model_selection import train_test_split\n",
        "from sklearn.preprocessing import StandardScaler\n",
        "from sklearn.metrics import mean_squared_error\n",
        "\n",
        "X = Datawithoutbill_df[feature]\n",
        "y = Datawithoutbill_df[\"QTY\"]\n",
        "X_train, X_val, y_train, y_val = train_test_split(X, y, test_size=0.2, random_state=42)\n",
        "\n",
        "scaler = StandardScaler()\n",
        "X_train_scaled = scaler.fit_transform(X_train)\n",
        "X_val_scaled = scaler.transform(X_val)\n",
        "\n",
        "def build_model():\n",
        "    model = keras.Sequential([\n",
        "        keras.layers.Dense(64, activation='relu', input_shape=(X_train.shape[1],)),\n",
        "        keras.layers.Dense(64, activation='relu'),\n",
        "        keras.layers.Dense(1)\n",
        "    ])\n",
        "\n",
        "    model.compile(optimizer='adam', loss='mse', metrics=[tf.keras.metrics.RootMeanSquaredError()])\n",
        "    return model\n",
        "\n",
        "model = build_model()\n",
        "\n",
        "history = model.fit(X_train_scaled, y_train, epochs=10, validation_data=(X_val_scaled, y_val), batch_size=32, verbose=1)\n",
        "\n",
        "y_pred = model.predict(X_val_scaled)\n",
        "rmse = np.sqrt(mean_squared_error(y_val, y_pred))\n",
        "print(f\"RMSE: {rmse}\")"
      ],
      "metadata": {
        "colab": {
          "base_uri": "https://localhost:8080/"
        },
        "id": "ghJLTq0Dl0FA",
        "outputId": "40affbbb-dd56-4c66-d163-93027c76832b"
      },
      "execution_count": null,
      "outputs": [
        {
          "output_type": "stream",
          "name": "stdout",
          "text": [
            "Epoch 1/10\n"
          ]
        },
        {
          "output_type": "stream",
          "name": "stderr",
          "text": [
            "/usr/local/lib/python3.10/dist-packages/keras/src/layers/core/dense.py:87: UserWarning: Do not pass an `input_shape`/`input_dim` argument to a layer. When using Sequential models, prefer using an `Input(shape)` object as the first layer in the model instead.\n",
            "  super().__init__(activity_regularizer=activity_regularizer, **kwargs)\n"
          ]
        },
        {
          "output_type": "stream",
          "name": "stdout",
          "text": [
            "\u001b[1m21412/21412\u001b[0m \u001b[32m━━━━━━━━━━━━━━━━━━━━\u001b[0m\u001b[37m\u001b[0m \u001b[1m63s\u001b[0m 3ms/step - loss: 302.9599 - root_mean_squared_error: 17.3961 - val_loss: 265.6971 - val_root_mean_squared_error: 16.3002\n",
            "Epoch 2/10\n",
            "\u001b[1m21412/21412\u001b[0m \u001b[32m━━━━━━━━━━━━━━━━━━━━\u001b[0m\u001b[37m\u001b[0m \u001b[1m56s\u001b[0m 3ms/step - loss: 249.7715 - root_mean_squared_error: 15.8022 - val_loss: 249.0710 - val_root_mean_squared_error: 15.7820\n",
            "Epoch 3/10\n",
            "\u001b[1m21412/21412\u001b[0m \u001b[32m━━━━━━━━━━━━━━━━━━━━\u001b[0m\u001b[37m\u001b[0m \u001b[1m52s\u001b[0m 2ms/step - loss: 238.7724 - root_mean_squared_error: 15.4430 - val_loss: 241.4045 - val_root_mean_squared_error: 15.5372\n",
            "Epoch 4/10\n",
            "\u001b[1m21412/21412\u001b[0m \u001b[32m━━━━━━━━━━━━━━━━━━━━\u001b[0m\u001b[37m\u001b[0m \u001b[1m53s\u001b[0m 2ms/step - loss: 242.0181 - root_mean_squared_error: 15.5373 - val_loss: 236.4234 - val_root_mean_squared_error: 15.3761\n",
            "Epoch 5/10\n",
            "\u001b[1m21412/21412\u001b[0m \u001b[32m━━━━━━━━━━━━━━━━━━━━\u001b[0m\u001b[37m\u001b[0m \u001b[1m52s\u001b[0m 2ms/step - loss: 231.1711 - root_mean_squared_error: 15.2010 - val_loss: 234.0265 - val_root_mean_squared_error: 15.2979\n",
            "Epoch 6/10\n",
            "\u001b[1m21412/21412\u001b[0m \u001b[32m━━━━━━━━━━━━━━━━━━━━\u001b[0m\u001b[37m\u001b[0m \u001b[1m80s\u001b[0m 2ms/step - loss: 228.5172 - root_mean_squared_error: 15.1055 - val_loss: 231.0380 - val_root_mean_squared_error: 15.1999\n",
            "Epoch 7/10\n",
            "\u001b[1m21412/21412\u001b[0m \u001b[32m━━━━━━━━━━━━━━━━━━━━\u001b[0m\u001b[37m\u001b[0m \u001b[1m54s\u001b[0m 3ms/step - loss: 221.8351 - root_mean_squared_error: 14.8928 - val_loss: 225.9327 - val_root_mean_squared_error: 15.0311\n",
            "Epoch 8/10\n",
            "\u001b[1m21412/21412\u001b[0m \u001b[32m━━━━━━━━━━━━━━━━━━━━\u001b[0m\u001b[37m\u001b[0m \u001b[1m50s\u001b[0m 2ms/step - loss: 216.2389 - root_mean_squared_error: 14.6995 - val_loss: 229.2584 - val_root_mean_squared_error: 15.1413\n",
            "Epoch 9/10\n",
            "\u001b[1m21412/21412\u001b[0m \u001b[32m━━━━━━━━━━━━━━━━━━━━\u001b[0m\u001b[37m\u001b[0m \u001b[1m85s\u001b[0m 2ms/step - loss: 223.7169 - root_mean_squared_error: 14.9529 - val_loss: 228.4652 - val_root_mean_squared_error: 15.1151\n",
            "Epoch 10/10\n",
            "\u001b[1m21412/21412\u001b[0m \u001b[32m━━━━━━━━━━━━━━━━━━━━\u001b[0m\u001b[37m\u001b[0m \u001b[1m79s\u001b[0m 2ms/step - loss: 225.9005 - root_mean_squared_error: 15.0278 - val_loss: 229.9945 - val_root_mean_squared_error: 15.1656\n",
            "\u001b[1m5353/5353\u001b[0m \u001b[32m━━━━━━━━━━━━━━━━━━━━\u001b[0m\u001b[37m\u001b[0m \u001b[1m8s\u001b[0m 2ms/step\n",
            "RMSE: 15.165564779066496\n"
          ]
        }
      ]
    },
    {
      "cell_type": "code",
      "source": [
        "print(\"Testing performance\")\n",
        "print('RMSE: {:.2f}'.format(rmse))\n",
        "print('MSE: {:.2f}'.format(mse))"
      ],
      "metadata": {
        "colab": {
          "base_uri": "https://localhost:8080/"
        },
        "id": "j0tmXLFrl4Vg",
        "outputId": "938d0a04-4d66-47df-9123-a78af71dd006"
      },
      "execution_count": null,
      "outputs": [
        {
          "output_type": "stream",
          "name": "stdout",
          "text": [
            "Testing performance\n",
            "RMSE: 15.17\n",
            "MSE: 166.24\n"
          ]
        }
      ]
    },
    {
      "cell_type": "markdown",
      "source": [
        "#Neural Network + 5 feature"
      ],
      "metadata": {
        "id": "HaVfgfttleKp"
      }
    },
    {
      "cell_type": "code",
      "source": [
        "feature = ['DEST_CODE','UNIT_NAME','ITEM_CODE','REG_Code','ITEM_DESC_CLEAN_labelencoding']"
      ],
      "metadata": {
        "id": "WEzTUe23lheD"
      },
      "execution_count": null,
      "outputs": []
    },
    {
      "cell_type": "code",
      "source": [
        "import numpy as np\n",
        "import tensorflow as tf\n",
        "from tensorflow import keras\n",
        "from sklearn.model_selection import train_test_split\n",
        "from sklearn.preprocessing import StandardScaler\n",
        "from sklearn.metrics import mean_squared_error\n",
        "\n",
        "X = Datawithoutbill_df[feature]\n",
        "y = Datawithoutbill_df[\"QTY\"]\n",
        "X_train, X_val, y_train, y_val = train_test_split(X, y, test_size=0.2, random_state=42)\n",
        "\n",
        "scaler = StandardScaler()\n",
        "X_train_scaled = scaler.fit_transform(X_train)\n",
        "X_val_scaled = scaler.transform(X_val)\n",
        "\n",
        "def build_model():\n",
        "    model = keras.Sequential([\n",
        "        keras.layers.Dense(64, activation='relu', input_shape=(X_train.shape[1],)),\n",
        "        keras.layers.Dense(64, activation='relu'),\n",
        "        keras.layers.Dense(1)\n",
        "    ])\n",
        "\n",
        "    model.compile(optimizer='adam', loss='mse', metrics=[tf.keras.metrics.RootMeanSquaredError()])\n",
        "    return model\n",
        "\n",
        "model = build_model()\n",
        "\n",
        "history = model.fit(X_train_scaled, y_train, epochs=10, validation_data=(X_val_scaled, y_val), batch_size=32, verbose=1)\n",
        "\n",
        "y_pred = model.predict(X_val_scaled)\n",
        "rmse = np.sqrt(mean_squared_error(y_val, y_pred))\n",
        "print(f\"RMSE: {rmse}\")"
      ],
      "metadata": {
        "colab": {
          "base_uri": "https://localhost:8080/"
        },
        "id": "PgbGI9eTl0cp",
        "outputId": "5032cc49-b80e-40af-c63e-91943be84515"
      },
      "execution_count": null,
      "outputs": [
        {
          "output_type": "stream",
          "name": "stdout",
          "text": [
            "Epoch 1/10\n"
          ]
        },
        {
          "output_type": "stream",
          "name": "stderr",
          "text": [
            "/usr/local/lib/python3.10/dist-packages/keras/src/layers/core/dense.py:87: UserWarning: Do not pass an `input_shape`/`input_dim` argument to a layer. When using Sequential models, prefer using an `Input(shape)` object as the first layer in the model instead.\n",
            "  super().__init__(activity_regularizer=activity_regularizer, **kwargs)\n"
          ]
        },
        {
          "output_type": "stream",
          "name": "stdout",
          "text": [
            "\u001b[1m21412/21412\u001b[0m \u001b[32m━━━━━━━━━━━━━━━━━━━━\u001b[0m\u001b[37m\u001b[0m \u001b[1m56s\u001b[0m 3ms/step - loss: 305.8526 - root_mean_squared_error: 17.4830 - val_loss: 278.4071 - val_root_mean_squared_error: 16.6855\n",
            "Epoch 2/10\n",
            "\u001b[1m21412/21412\u001b[0m \u001b[32m━━━━━━━━━━━━━━━━━━━━\u001b[0m\u001b[37m\u001b[0m \u001b[1m75s\u001b[0m 2ms/step - loss: 266.7733 - root_mean_squared_error: 16.3297 - val_loss: 265.4237 - val_root_mean_squared_error: 16.2918\n",
            "Epoch 3/10\n",
            "\u001b[1m21412/21412\u001b[0m \u001b[32m━━━━━━━━━━━━━━━━━━━━\u001b[0m\u001b[37m\u001b[0m \u001b[1m50s\u001b[0m 2ms/step - loss: 250.4158 - root_mean_squared_error: 15.8220 - val_loss: 255.3160 - val_root_mean_squared_error: 15.9786\n",
            "Epoch 4/10\n",
            "\u001b[1m21412/21412\u001b[0m \u001b[32m━━━━━━━━━━━━━━━━━━━━\u001b[0m\u001b[37m\u001b[0m \u001b[1m52s\u001b[0m 2ms/step - loss: 242.4579 - root_mean_squared_error: 15.5628 - val_loss: 252.6696 - val_root_mean_squared_error: 15.8956\n",
            "Epoch 5/10\n",
            "\u001b[1m21412/21412\u001b[0m \u001b[32m━━━━━━━━━━━━━━━━━━━━\u001b[0m\u001b[37m\u001b[0m \u001b[1m83s\u001b[0m 2ms/step - loss: 244.0989 - root_mean_squared_error: 15.6193 - val_loss: 248.8987 - val_root_mean_squared_error: 15.7765\n",
            "Epoch 6/10\n",
            "\u001b[1m21412/21412\u001b[0m \u001b[32m━━━━━━━━━━━━━━━━━━━━\u001b[0m\u001b[37m\u001b[0m \u001b[1m77s\u001b[0m 2ms/step - loss: 245.6138 - root_mean_squared_error: 15.6695 - val_loss: 250.8481 - val_root_mean_squared_error: 15.8382\n",
            "Epoch 7/10\n",
            "\u001b[1m21412/21412\u001b[0m \u001b[32m━━━━━━━━━━━━━━━━━━━━\u001b[0m\u001b[37m\u001b[0m \u001b[1m86s\u001b[0m 2ms/step - loss: 241.6545 - root_mean_squared_error: 15.5431 - val_loss: 248.9345 - val_root_mean_squared_error: 15.7777\n",
            "Epoch 8/10\n",
            "\u001b[1m21412/21412\u001b[0m \u001b[32m━━━━━━━━━━━━━━━━━━━━\u001b[0m\u001b[37m\u001b[0m \u001b[1m48s\u001b[0m 2ms/step - loss: 246.2642 - root_mean_squared_error: 15.6861 - val_loss: 252.0025 - val_root_mean_squared_error: 15.8746\n",
            "Epoch 9/10\n",
            "\u001b[1m21412/21412\u001b[0m \u001b[32m━━━━━━━━━━━━━━━━━━━━\u001b[0m\u001b[37m\u001b[0m \u001b[1m84s\u001b[0m 2ms/step - loss: 235.4161 - root_mean_squared_error: 15.3406 - val_loss: 243.3930 - val_root_mean_squared_error: 15.6011\n",
            "Epoch 10/10\n",
            "\u001b[1m21412/21412\u001b[0m \u001b[32m━━━━━━━━━━━━━━━━━━━━\u001b[0m\u001b[37m\u001b[0m \u001b[1m48s\u001b[0m 2ms/step - loss: 235.3251 - root_mean_squared_error: 15.3341 - val_loss: 242.3159 - val_root_mean_squared_error: 15.5665\n",
            "\u001b[1m5353/5353\u001b[0m \u001b[32m━━━━━━━━━━━━━━━━━━━━\u001b[0m\u001b[37m\u001b[0m \u001b[1m9s\u001b[0m 2ms/step\n",
            "RMSE: 15.566501590513095\n"
          ]
        }
      ]
    },
    {
      "cell_type": "code",
      "source": [
        "print(\"Testing performance\")\n",
        "print('RMSE: {:.2f}'.format(rmse))\n",
        "print('MSE: {:.2f}'.format(mse))"
      ],
      "metadata": {
        "colab": {
          "base_uri": "https://localhost:8080/"
        },
        "id": "1VhfNxGhl5Ih",
        "outputId": "aa1ff2a7-393c-4aa3-c828-5fc5aec2fe8c"
      },
      "execution_count": null,
      "outputs": [
        {
          "output_type": "stream",
          "name": "stdout",
          "text": [
            "Testing performance\n",
            "RMSE: 15.57\n",
            "MSE: 166.24\n"
          ]
        }
      ]
    },
    {
      "cell_type": "markdown",
      "source": [
        "#Neural Network + 7 feature"
      ],
      "metadata": {
        "id": "VLwI_trslh4D"
      }
    },
    {
      "cell_type": "code",
      "source": [
        "feature = ['DEST_CODE','UNIT_NAME','ITEM_CODE','REG_Code','ITEM_DESC_CLEAN_labelencoding','ITEM_NAMEในระบบ','CONSIGNEE_TAMBON']"
      ],
      "metadata": {
        "id": "QuytR8jplkQC"
      },
      "execution_count": null,
      "outputs": []
    },
    {
      "cell_type": "code",
      "source": [
        "import numpy as np\n",
        "import tensorflow as tf\n",
        "from tensorflow import keras\n",
        "from sklearn.model_selection import train_test_split\n",
        "from sklearn.preprocessing import StandardScaler\n",
        "from sklearn.metrics import mean_squared_error\n",
        "\n",
        "X = Datawithoutbill_df[feature]\n",
        "y = Datawithoutbill_df[\"QTY\"]\n",
        "X_train, X_val, y_train, y_val = train_test_split(X, y, test_size=0.2, random_state=42)\n",
        "\n",
        "scaler = StandardScaler()\n",
        "X_train_scaled = scaler.fit_transform(X_train)\n",
        "X_val_scaled = scaler.transform(X_val)\n",
        "\n",
        "def build_model():\n",
        "    model = keras.Sequential([\n",
        "        keras.layers.Dense(64, activation='relu', input_shape=(X_train.shape[1],)),\n",
        "        keras.layers.Dense(64, activation='relu'),\n",
        "        keras.layers.Dense(1)\n",
        "    ])\n",
        "\n",
        "    model.compile(optimizer='adam', loss='mse', metrics=[tf.keras.metrics.RootMeanSquaredError()])\n",
        "    return model\n",
        "\n",
        "model = build_model()\n",
        "\n",
        "history = model.fit(X_train_scaled, y_train, epochs=10, validation_data=(X_val_scaled, y_val), batch_size=32, verbose=1)\n",
        "\n",
        "y_pred = model.predict(X_val_scaled)\n",
        "rmse = np.sqrt(mean_squared_error(y_val, y_pred))\n",
        "print(f\"RMSE: {rmse}\")"
      ],
      "metadata": {
        "colab": {
          "base_uri": "https://localhost:8080/"
        },
        "id": "85ObuNqol04B",
        "outputId": "a0a39f0a-73b7-4280-a0f4-8ff24d8af283"
      },
      "execution_count": null,
      "outputs": [
        {
          "output_type": "stream",
          "name": "stdout",
          "text": [
            "Epoch 1/10\n"
          ]
        },
        {
          "output_type": "stream",
          "name": "stderr",
          "text": [
            "/usr/local/lib/python3.10/dist-packages/keras/src/layers/core/dense.py:87: UserWarning: Do not pass an `input_shape`/`input_dim` argument to a layer. When using Sequential models, prefer using an `Input(shape)` object as the first layer in the model instead.\n",
            "  super().__init__(activity_regularizer=activity_regularizer, **kwargs)\n"
          ]
        },
        {
          "output_type": "stream",
          "name": "stdout",
          "text": [
            "\u001b[1m21412/21412\u001b[0m \u001b[32m━━━━━━━━━━━━━━━━━━━━\u001b[0m\u001b[37m\u001b[0m \u001b[1m62s\u001b[0m 3ms/step - loss: 303.3198 - root_mean_squared_error: 17.4110 - val_loss: 274.0516 - val_root_mean_squared_error: 16.5545\n",
            "Epoch 2/10\n",
            "\u001b[1m21412/21412\u001b[0m \u001b[32m━━━━━━━━━━━━━━━━━━━━\u001b[0m\u001b[37m\u001b[0m \u001b[1m70s\u001b[0m 2ms/step - loss: 261.5829 - root_mean_squared_error: 16.1521 - val_loss: 255.4214 - val_root_mean_squared_error: 15.9819\n",
            "Epoch 3/10\n",
            "\u001b[1m21412/21412\u001b[0m \u001b[32m━━━━━━━━━━━━━━━━━━━━\u001b[0m\u001b[37m\u001b[0m \u001b[1m80s\u001b[0m 2ms/step - loss: 244.4229 - root_mean_squared_error: 15.6321 - val_loss: 252.7584 - val_root_mean_squared_error: 15.8984\n",
            "Epoch 4/10\n",
            "\u001b[1m21412/21412\u001b[0m \u001b[32m━━━━━━━━━━━━━━━━━━━━\u001b[0m\u001b[37m\u001b[0m \u001b[1m48s\u001b[0m 2ms/step - loss: 240.1460 - root_mean_squared_error: 15.4929 - val_loss: 249.0355 - val_root_mean_squared_error: 15.7809\n",
            "Epoch 5/10\n",
            "\u001b[1m21412/21412\u001b[0m \u001b[32m━━━━━━━━━━━━━━━━━━━━\u001b[0m\u001b[37m\u001b[0m \u001b[1m83s\u001b[0m 2ms/step - loss: 244.0920 - root_mean_squared_error: 15.6190 - val_loss: 245.5222 - val_root_mean_squared_error: 15.6691\n",
            "Epoch 6/10\n",
            "\u001b[1m21412/21412\u001b[0m \u001b[32m━━━━━━━━━━━━━━━━━━━━\u001b[0m\u001b[37m\u001b[0m \u001b[1m52s\u001b[0m 2ms/step - loss: 232.0828 - root_mean_squared_error: 15.2281 - val_loss: 243.9819 - val_root_mean_squared_error: 15.6199\n",
            "Epoch 7/10\n",
            "\u001b[1m21412/21412\u001b[0m \u001b[32m━━━━━━━━━━━━━━━━━━━━\u001b[0m\u001b[37m\u001b[0m \u001b[1m47s\u001b[0m 2ms/step - loss: 233.9589 - root_mean_squared_error: 15.2929 - val_loss: 242.2474 - val_root_mean_squared_error: 15.5643\n",
            "Epoch 8/10\n",
            "\u001b[1m21412/21412\u001b[0m \u001b[32m━━━━━━━━━━━━━━━━━━━━\u001b[0m\u001b[37m\u001b[0m \u001b[1m83s\u001b[0m 2ms/step - loss: 230.8093 - root_mean_squared_error: 15.1882 - val_loss: 239.8975 - val_root_mean_squared_error: 15.4886\n",
            "Epoch 9/10\n",
            "\u001b[1m21412/21412\u001b[0m \u001b[32m━━━━━━━━━━━━━━━━━━━━\u001b[0m\u001b[37m\u001b[0m \u001b[1m84s\u001b[0m 2ms/step - loss: 230.2354 - root_mean_squared_error: 15.1688 - val_loss: 244.9287 - val_root_mean_squared_error: 15.6502\n",
            "Epoch 10/10\n",
            "\u001b[1m21412/21412\u001b[0m \u001b[32m━━━━━━━━━━━━━━━━━━━━\u001b[0m\u001b[37m\u001b[0m \u001b[1m51s\u001b[0m 2ms/step - loss: 230.2363 - root_mean_squared_error: 15.1696 - val_loss: 237.6813 - val_root_mean_squared_error: 15.4169\n",
            "\u001b[1m5353/5353\u001b[0m \u001b[32m━━━━━━━━━━━━━━━━━━━━\u001b[0m\u001b[37m\u001b[0m \u001b[1m9s\u001b[0m 2ms/step\n",
            "RMSE: 15.416912724606957\n"
          ]
        }
      ]
    },
    {
      "cell_type": "code",
      "source": [
        "print(\"Testing performance\")\n",
        "print('RMSE: {:.2f}'.format(rmse))\n",
        "print('MSE: {:.2f}'.format(mse))"
      ],
      "metadata": {
        "colab": {
          "base_uri": "https://localhost:8080/"
        },
        "id": "L2ftZK1xl5ts",
        "outputId": "e0e06a5f-acc0-4dc0-8fd8-bda617dec7ca"
      },
      "execution_count": null,
      "outputs": [
        {
          "output_type": "stream",
          "name": "stdout",
          "text": [
            "Testing performance\n",
            "RMSE: 15.42\n",
            "MSE: 166.24\n"
          ]
        }
      ]
    },
    {
      "cell_type": "code",
      "source": [
        "'''\n",
        "Neural Network + all feature\n",
        "Testing performance\n",
        "RMSE: 15.07\n",
        "MSE: 166.24\n",
        "\n",
        "Neural Network + drop feature importance = 0\n",
        "Testing performance\n",
        "RMSE: 14.88\n",
        "MSE: 166.24\n",
        "\n",
        "Neural Network + 10 feature\n",
        "Testing performance\n",
        "RMSE: 14.87\n",
        "MSE: 166.24\n",
        "\n",
        "Neural Network + 20 feature\n",
        "Testing performance\n",
        "RMSE: 15.17\n",
        "MSE: 166.24\n",
        "\n",
        "Neural Network + 5 feature\n",
        "Testing performance\n",
        "RMSE: 15.57\n",
        "MSE: 166.24\n",
        "\n",
        "Neural Network + 7 feature\n",
        "Testing performance\n",
        "RMSE: 15.42\n",
        "MSE: 166.24\n",
        "\n",
        "'''"
      ],
      "metadata": {
        "id": "hCr21JiXmOx6"
      },
      "execution_count": null,
      "outputs": []
    },
    {
      "cell_type": "markdown",
      "source": [
        "#|||||||||||||||||||||||||||||||||||||||||||||||||||||||||||||||||||||||||||||||"
      ],
      "metadata": {
        "id": "sU2cS9-pw8VS"
      }
    }
  ]
}